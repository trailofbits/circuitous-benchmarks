{
 "cells": [
  {
   "cell_type": "code",
   "execution_count": 1,
   "id": "dbbcbe6b",
   "metadata": {},
   "outputs": [],
   "source": [
    "import json\n",
    "import gbench\n",
    "from gbench import util, report\n",
    "from gbench.util import *"
   ]
  },
  {
   "cell_type": "code",
   "execution_count": 2,
   "id": "79a614f4",
   "metadata": {},
   "outputs": [],
   "source": [
    "import plotly.express as px\n",
    "import pandas as pd\n",
    "import numpy as np\n",
    "from functools import reduce\n",
    "from itertools import accumulate\n",
    "from IPython.display import display, HTML"
   ]
  },
  {
   "cell_type": "code",
   "execution_count": 3,
   "id": "77c30cb0",
   "metadata": {},
   "outputs": [],
   "source": [
    "keys = ['name', 'real_time', 'cpu_time', 'AShr', 'Add', 'LShr', 'Mul', 'Nodes', 'SDiv', 'SRem', 'Shl', 'Sub', 'UDiv', 'URem', 'pop_count', 'V:AND', 'V:CELLS', 'V:MUX', 'V:NOT', 'V:OR', 'V:XOR']"
   ]
  },
  {
   "cell_type": "code",
   "execution_count": 4,
   "id": "a142a44d",
   "metadata": {},
   "outputs": [],
   "source": [
    "def get_value(bench, key):\n",
    "    try:\n",
    "        value = bench[key]\n",
    "    except KeyError:\n",
    "        return np.nan\n",
    "\n",
    "    try:\n",
    "        return int(value)\n",
    "    except ValueError:\n",
    "        return value\n",
    "\n",
    "def data_frame(data):\n",
    "    d = dict()\n",
    "    for key in keys:\n",
    "        d[key] = [get_value(bench, key) for bench in data['benchmarks']]\n",
    "    return pd.DataFrame(data=d)\n",
    "\n",
    "def load_data(date, benchset):\n",
    "    path = os.path.join('../results/', date, benchset + '.json')\n",
    "    with open(path, 'r') as file:\n",
    "        return data_frame(json.load(file))\n",
    "    \n",
    "def load(date):\n",
    "    return load_data(date, 'noopt'), load_data(date, 'simplify'), load_data(date, 'conjure')"
   ]
  },
  {
   "cell_type": "code",
   "execution_count": 5,
   "id": "a01b4834",
   "metadata": {},
   "outputs": [],
   "source": [
    "def scatter(lhs, rhs, view):\n",
    "    lhs_data, lhs_name = lhs\n",
    "    rhs_data, rhs_name = rhs\n",
    "    df = pd.merge(lhs_data, rhs_data, how='inner', on='name', \n",
    "                  suffixes=[\"-\" + lhs_name, \"-\" + rhs_name])\n",
    "\n",
    "    labelx = view + \"-\" + lhs_name\n",
    "    labely = view + \"-\" + rhs_name\n",
    "    fig = px.scatter(df, x=labelx, y=labely, text='name')\n",
    "\n",
    "    fig.update_layout(template='plotly_white', hovermode='x')\n",
    "    \n",
    "    maximal = max(df[labelx] + df[labely])\n",
    "    fig.add_shape(\n",
    "        type='line',\n",
    "        x0=0,\n",
    "        y0=0,\n",
    "        x1=maximal,\n",
    "        y1=maximal,\n",
    "        xref='x',\n",
    "        yref='y',\n",
    "        line=dict(color='gray', width=1)\n",
    "    )\n",
    "    \n",
    "    fig.update_traces(mode=\"markers\")\n",
    "    return fig"
   ]
  },
  {
   "cell_type": "code",
   "execution_count": 6,
   "id": "95026ff9",
   "metadata": {},
   "outputs": [],
   "source": [
    "eqsat = load_data('23-02-16', 'eqsat')\n",
    "noopt = load_data('23-02-16', 'noopt')\n",
    "llvm  = load_data('23-02-16', 'llvm')\n",
    "mux   = load_data('23-02-16', 'mux')\n",
    "sim_conmul_llvm = load_data('23-02-16', 'sim-conmul-llvm')\n",
    "sim_conmul_mux_llvm = load_data('23-02-16', 'sim-conmul-mux-llvm')\n",
    "sim_conmul_mux_llvm_eqsat = load_data('23-02-16', 'sim-conmul-mux-llvm-eqsat')\n",
    "sim_eqsat_llvm = load_data('23-02-16', 'sim-eqsat-llvm')"
   ]
  },
  {
   "cell_type": "code",
   "execution_count": 7,
   "id": "0a59b39c",
   "metadata": {},
   "outputs": [
    {
     "data": {
      "text/html": [
       "<div>\n",
       "<style scoped>\n",
       "    .dataframe tbody tr th:only-of-type {\n",
       "        vertical-align: middle;\n",
       "    }\n",
       "\n",
       "    .dataframe tbody tr th {\n",
       "        vertical-align: top;\n",
       "    }\n",
       "\n",
       "    .dataframe thead th {\n",
       "        text-align: right;\n",
       "    }\n",
       "</style>\n",
       "<table border=\"1\" class=\"dataframe\">\n",
       "  <thead>\n",
       "    <tr style=\"text-align: right;\">\n",
       "      <th></th>\n",
       "      <th>name</th>\n",
       "      <th>real_time</th>\n",
       "      <th>cpu_time</th>\n",
       "      <th>AShr</th>\n",
       "      <th>Add</th>\n",
       "      <th>LShr</th>\n",
       "      <th>Mul</th>\n",
       "      <th>Nodes</th>\n",
       "      <th>SDiv</th>\n",
       "      <th>SRem</th>\n",
       "      <th>...</th>\n",
       "      <th>Sub</th>\n",
       "      <th>UDiv</th>\n",
       "      <th>URem</th>\n",
       "      <th>pop_count</th>\n",
       "      <th>V:AND</th>\n",
       "      <th>V:CELLS</th>\n",
       "      <th>V:MUX</th>\n",
       "      <th>V:NOT</th>\n",
       "      <th>V:OR</th>\n",
       "      <th>V:XOR</th>\n",
       "    </tr>\n",
       "  </thead>\n",
       "  <tbody>\n",
       "    <tr>\n",
       "      <th>48</th>\n",
       "      <td>lift_source/\"big:muls\"</td>\n",
       "      <td>76595132457</td>\n",
       "      <td>1349944999</td>\n",
       "      <td>3</td>\n",
       "      <td>177</td>\n",
       "      <td>3</td>\n",
       "      <td>1</td>\n",
       "      <td>1341</td>\n",
       "      <td>0</td>\n",
       "      <td>0</td>\n",
       "      <td>...</td>\n",
       "      <td>0</td>\n",
       "      <td>0</td>\n",
       "      <td>0</td>\n",
       "      <td>0</td>\n",
       "      <td>17163</td>\n",
       "      <td>46354</td>\n",
       "      <td>5880</td>\n",
       "      <td>481</td>\n",
       "      <td>10498</td>\n",
       "      <td>12332</td>\n",
       "    </tr>\n",
       "    <tr>\n",
       "      <th>49</th>\n",
       "      <td>lift_source/\"big:divs\"</td>\n",
       "      <td>410804561402</td>\n",
       "      <td>619095000</td>\n",
       "      <td>1</td>\n",
       "      <td>66</td>\n",
       "      <td>5</td>\n",
       "      <td>0</td>\n",
       "      <td>1106</td>\n",
       "      <td>1</td>\n",
       "      <td>1</td>\n",
       "      <td>...</td>\n",
       "      <td>0</td>\n",
       "      <td>1</td>\n",
       "      <td>1</td>\n",
       "      <td>0</td>\n",
       "      <td>58072</td>\n",
       "      <td>146420</td>\n",
       "      <td>18526</td>\n",
       "      <td>8994</td>\n",
       "      <td>34218</td>\n",
       "      <td>26610</td>\n",
       "    </tr>\n",
       "    <tr>\n",
       "      <th>50</th>\n",
       "      <td>lift_source/\"big:3d_image_toolkit\"</td>\n",
       "      <td>3692734790158</td>\n",
       "      <td>5424564000</td>\n",
       "      <td>1</td>\n",
       "      <td>243</td>\n",
       "      <td>89</td>\n",
       "      <td>1</td>\n",
       "      <td>3724</td>\n",
       "      <td>1</td>\n",
       "      <td>1</td>\n",
       "      <td>...</td>\n",
       "      <td>23</td>\n",
       "      <td>1</td>\n",
       "      <td>1</td>\n",
       "      <td>55</td>\n",
       "      <td>54231</td>\n",
       "      <td>141856</td>\n",
       "      <td>17330</td>\n",
       "      <td>6658</td>\n",
       "      <td>33841</td>\n",
       "      <td>29796</td>\n",
       "    </tr>\n",
       "    <tr>\n",
       "      <th>51</th>\n",
       "      <td>lift_source/\"big:router_simulator\"</td>\n",
       "      <td>3913355845418</td>\n",
       "      <td>5465703999</td>\n",
       "      <td>1</td>\n",
       "      <td>260</td>\n",
       "      <td>89</td>\n",
       "      <td>1</td>\n",
       "      <td>3792</td>\n",
       "      <td>1</td>\n",
       "      <td>1</td>\n",
       "      <td>...</td>\n",
       "      <td>24</td>\n",
       "      <td>1</td>\n",
       "      <td>1</td>\n",
       "      <td>54</td>\n",
       "      <td>68287</td>\n",
       "      <td>176659</td>\n",
       "      <td>21398</td>\n",
       "      <td>9081</td>\n",
       "      <td>41969</td>\n",
       "      <td>35924</td>\n",
       "    </tr>\n",
       "    <tr>\n",
       "      <th>52</th>\n",
       "      <td>lift_source/\"big:lan_simulator\"</td>\n",
       "      <td>3888931257054</td>\n",
       "      <td>7264965999</td>\n",
       "      <td>3</td>\n",
       "      <td>284</td>\n",
       "      <td>100</td>\n",
       "      <td>1</td>\n",
       "      <td>4332</td>\n",
       "      <td>1</td>\n",
       "      <td>1</td>\n",
       "      <td>...</td>\n",
       "      <td>25</td>\n",
       "      <td>1</td>\n",
       "      <td>1</td>\n",
       "      <td>59</td>\n",
       "      <td>60287</td>\n",
       "      <td>152751</td>\n",
       "      <td>18287</td>\n",
       "      <td>6830</td>\n",
       "      <td>35719</td>\n",
       "      <td>31628</td>\n",
       "    </tr>\n",
       "    <tr>\n",
       "      <th>53</th>\n",
       "      <td>lift_source/\"big:tiny86\"</td>\n",
       "      <td>1301064129247</td>\n",
       "      <td>92410724000</td>\n",
       "      <td>5</td>\n",
       "      <td>927</td>\n",
       "      <td>150</td>\n",
       "      <td>1</td>\n",
       "      <td>11761</td>\n",
       "      <td>1</td>\n",
       "      <td>1</td>\n",
       "      <td>...</td>\n",
       "      <td>37</td>\n",
       "      <td>1</td>\n",
       "      <td>1</td>\n",
       "      <td>85</td>\n",
       "      <td>161025</td>\n",
       "      <td>359510</td>\n",
       "      <td>34217</td>\n",
       "      <td>12666</td>\n",
       "      <td>79527</td>\n",
       "      <td>72075</td>\n",
       "    </tr>\n",
       "  </tbody>\n",
       "</table>\n",
       "<p>6 rows × 21 columns</p>\n",
       "</div>"
      ],
      "text/plain": [
       "                                  name      real_time     cpu_time  AShr  Add  \\\n",
       "48              lift_source/\"big:muls\"    76595132457   1349944999     3  177   \n",
       "49              lift_source/\"big:divs\"   410804561402    619095000     1   66   \n",
       "50  lift_source/\"big:3d_image_toolkit\"  3692734790158   5424564000     1  243   \n",
       "51  lift_source/\"big:router_simulator\"  3913355845418   5465703999     1  260   \n",
       "52     lift_source/\"big:lan_simulator\"  3888931257054   7264965999     3  284   \n",
       "53            lift_source/\"big:tiny86\"  1301064129247  92410724000     5  927   \n",
       "\n",
       "    LShr  Mul  Nodes  SDiv  SRem  ...  Sub  UDiv  URem  pop_count   V:AND  \\\n",
       "48     3    1   1341     0     0  ...    0     0     0          0   17163   \n",
       "49     5    0   1106     1     1  ...    0     1     1          0   58072   \n",
       "50    89    1   3724     1     1  ...   23     1     1         55   54231   \n",
       "51    89    1   3792     1     1  ...   24     1     1         54   68287   \n",
       "52   100    1   4332     1     1  ...   25     1     1         59   60287   \n",
       "53   150    1  11761     1     1  ...   37     1     1         85  161025   \n",
       "\n",
       "    V:CELLS  V:MUX  V:NOT   V:OR  V:XOR  \n",
       "48    46354   5880    481  10498  12332  \n",
       "49   146420  18526   8994  34218  26610  \n",
       "50   141856  17330   6658  33841  29796  \n",
       "51   176659  21398   9081  41969  35924  \n",
       "52   152751  18287   6830  35719  31628  \n",
       "53   359510  34217  12666  79527  72075  \n",
       "\n",
       "[6 rows x 21 columns]"
      ]
     },
     "execution_count": 7,
     "metadata": {},
     "output_type": "execute_result"
    }
   ],
   "source": [
    "sim_conmul_mux_llvm[sim_conmul_mux_llvm['name'].str.startswith(\"lift_source/\\\"big\")]"
   ]
  },
  {
   "cell_type": "code",
   "execution_count": 8,
   "id": "de726198",
   "metadata": {},
   "outputs": [],
   "source": [
    "def compare(lhs, lhs_suff, rhs, rhs_suff, prefixes):\n",
    "    df = pd.merge(lhs, rhs, how='inner', on='name', suffixes=[\"-\" + lhs_suff, \"-\" + rhs_suff])\n",
    "    filtered = df.loc[:, [col for col in df.columns if any(col.startswith(prefix) for prefix in prefixes)]]\n",
    "    filtered = filtered.reindex(sorted(filtered.columns), axis=1)\n",
    "    return pd.concat([df['name'], filtered], axis = 1)"
   ]
  },
  {
   "cell_type": "code",
   "execution_count": 9,
   "id": "c143259d",
   "metadata": {},
   "outputs": [],
   "source": [
    "def color_value(val):\n",
    "    color = 'red' if val > 0 else 'green'\n",
    "    return f'background-color: {color}'\n",
    "\n",
    "def make_pretty(styler):\n",
    "    styler.format(color_value)\n",
    "    styler.background_gradient(axis=None, vmin=1, vmax=5, cmap=\"YlGnBu\")\n",
    "    return styler\n",
    "\n",
    "def difference(frames, keys, relative = False, values = False):\n",
    "    df = pd.DataFrame()\n",
    "    for (frame, name) in frames:\n",
    "        col = frame[keys[0]]\n",
    "        for key in keys[1:]:\n",
    "            col += frame[key]\n",
    "        df[name] = pd.Series(col)\n",
    "    if relative:\n",
    "        df.iloc[:] = df.iloc[:].apply(lambda x: (x - df['noopt']) / df['noopt'] * 100)\n",
    "    elif values:\n",
    "        df.iloc[:] = df.iloc[:].apply(lambda x: x - df['noopt'])\n",
    "    return pd.concat([frames[0][0]['name'], df], axis = 1)"
   ]
  },
  {
   "cell_type": "code",
   "execution_count": 10,
   "id": "22e610cc",
   "metadata": {},
   "outputs": [
    {
     "data": {
      "text/html": [
       "<style type=\"text/css\">\n",
       "#T_48613_row0_col2, #T_48613_row0_col3, #T_48613_row0_col4, #T_48613_row0_col5, #T_48613_row3_col2, #T_48613_row6_col2, #T_48613_row6_col5, #T_48613_row12_col2, #T_48613_row15_col2 {\n",
       "  color: white;\n",
       "  background-color: green;\n",
       "}\n",
       "#T_48613_row0_col6, #T_48613_row0_col7, #T_48613_row0_col8, #T_48613_row1_col4, #T_48613_row1_col5, #T_48613_row1_col6, #T_48613_row1_col7, #T_48613_row1_col8, #T_48613_row2_col3, #T_48613_row2_col6, #T_48613_row2_col7, #T_48613_row2_col8, #T_48613_row3_col3, #T_48613_row3_col4, #T_48613_row3_col5, #T_48613_row3_col6, #T_48613_row3_col7, #T_48613_row3_col8, #T_48613_row4_col6, #T_48613_row4_col7, #T_48613_row4_col8, #T_48613_row5_col4, #T_48613_row5_col5, #T_48613_row5_col6, #T_48613_row5_col7, #T_48613_row5_col8, #T_48613_row6_col3, #T_48613_row6_col4, #T_48613_row6_col6, #T_48613_row6_col7, #T_48613_row6_col8, #T_48613_row7_col6, #T_48613_row7_col7, #T_48613_row7_col8, #T_48613_row8_col3, #T_48613_row8_col5, #T_48613_row9_col4, #T_48613_row9_col5, #T_48613_row9_col6, #T_48613_row9_col7, #T_48613_row9_col8, #T_48613_row10_col6, #T_48613_row10_col7, #T_48613_row10_col8, #T_48613_row11_col5, #T_48613_row11_col6, #T_48613_row11_col7, #T_48613_row11_col8, #T_48613_row12_col3, #T_48613_row12_col4, #T_48613_row12_col5, #T_48613_row12_col6, #T_48613_row12_col7, #T_48613_row12_col8, #T_48613_row13_col5, #T_48613_row13_col6, #T_48613_row13_col7, #T_48613_row13_col8, #T_48613_row14_col6, #T_48613_row14_col7, #T_48613_row14_col8, #T_48613_row15_col3, #T_48613_row15_col4, #T_48613_row15_col5, #T_48613_row15_col6, #T_48613_row15_col7, #T_48613_row15_col8, #T_48613_row16_col5, #T_48613_row16_col6, #T_48613_row16_col7, #T_48613_row16_col8, #T_48613_row17_col6, #T_48613_row17_col7, #T_48613_row17_col8, #T_48613_row19_col6, #T_48613_row19_col7, #T_48613_row19_col8, #T_48613_row20_col5, #T_48613_row23_col3, #T_48613_row23_col4, #T_48613_row23_col5, #T_48613_row23_col6, #T_48613_row23_col7, #T_48613_row24_col4, #T_48613_row25_col3, #T_48613_row25_col5 {\n",
       "  color: red;\n",
       "}\n",
       "#T_48613_row1_col3, #T_48613_row2_col4, #T_48613_row4_col4, #T_48613_row5_col3, #T_48613_row7_col3, #T_48613_row7_col4, #T_48613_row8_col7, #T_48613_row9_col3, #T_48613_row10_col4, #T_48613_row11_col3, #T_48613_row13_col4, #T_48613_row14_col4, #T_48613_row16_col3, #T_48613_row17_col5, #T_48613_row18_col4, #T_48613_row19_col3, #T_48613_row20_col7, #T_48613_row21_col8, #T_48613_row22_col7, #T_48613_row23_col8, #T_48613_row24_col7, #T_48613_row25_col7 {\n",
       "  color: green;\n",
       "  color: white;\n",
       "  background-color: green;\n",
       "}\n",
       "#T_48613_row2_col5, #T_48613_row4_col5, #T_48613_row7_col5, #T_48613_row8_col4, #T_48613_row8_col6, #T_48613_row8_col8, #T_48613_row10_col3, #T_48613_row13_col3, #T_48613_row14_col5, #T_48613_row16_col4, #T_48613_row17_col4, #T_48613_row19_col4, #T_48613_row19_col5, #T_48613_row20_col3, #T_48613_row20_col4, #T_48613_row20_col6, #T_48613_row20_col8, #T_48613_row21_col6, #T_48613_row21_col7, #T_48613_row22_col3, #T_48613_row22_col4, #T_48613_row22_col5, #T_48613_row22_col6, #T_48613_row22_col8, #T_48613_row24_col3, #T_48613_row24_col5, #T_48613_row24_col6, #T_48613_row24_col8, #T_48613_row25_col4, #T_48613_row25_col6, #T_48613_row25_col8 {\n",
       "  color: green;\n",
       "}\n",
       "</style>\n",
       "<table id=\"T_48613\">\n",
       "  <thead>\n",
       "    <tr>\n",
       "      <th class=\"blank level0\" >&nbsp;</th>\n",
       "      <th id=\"T_48613_level0_col0\" class=\"col_heading level0 col0\" >name</th>\n",
       "      <th id=\"T_48613_level0_col1\" class=\"col_heading level0 col1\" >noopt</th>\n",
       "      <th id=\"T_48613_level0_col2\" class=\"col_heading level0 col2\" >eqsat</th>\n",
       "      <th id=\"T_48613_level0_col3\" class=\"col_heading level0 col3\" >llvm</th>\n",
       "      <th id=\"T_48613_level0_col4\" class=\"col_heading level0 col4\" >mux</th>\n",
       "      <th id=\"T_48613_level0_col5\" class=\"col_heading level0 col5\" >eqsat-llvm</th>\n",
       "      <th id=\"T_48613_level0_col6\" class=\"col_heading level0 col6\" >mul-llvm</th>\n",
       "      <th id=\"T_48613_level0_col7\" class=\"col_heading level0 col7\" >mul-mux-llvm</th>\n",
       "      <th id=\"T_48613_level0_col8\" class=\"col_heading level0 col8\" >mul-mux-llvm-eqsat</th>\n",
       "    </tr>\n",
       "  </thead>\n",
       "  <tbody>\n",
       "    <tr>\n",
       "      <th id=\"T_48613_level0_row0\" class=\"row_heading level0 row0\" >28</th>\n",
       "      <td id=\"T_48613_row0_col0\" class=\"data row0 col0\" >lift_source/\"min:small\"</td>\n",
       "      <td id=\"T_48613_row0_col1\" class=\"data row0 col1\" >2481</td>\n",
       "      <td id=\"T_48613_row0_col2\" class=\"data row0 col2\" >2481</td>\n",
       "      <td id=\"T_48613_row0_col3\" class=\"data row0 col3\" >2481</td>\n",
       "      <td id=\"T_48613_row0_col4\" class=\"data row0 col4\" >2481</td>\n",
       "      <td id=\"T_48613_row0_col5\" class=\"data row0 col5\" >2481</td>\n",
       "      <td id=\"T_48613_row0_col6\" class=\"data row0 col6\" >2486</td>\n",
       "      <td id=\"T_48613_row0_col7\" class=\"data row0 col7\" >2486</td>\n",
       "      <td id=\"T_48613_row0_col8\" class=\"data row0 col8\" >2486</td>\n",
       "    </tr>\n",
       "    <tr>\n",
       "      <th id=\"T_48613_level0_row1\" class=\"row_heading level0 row1\" >29</th>\n",
       "      <td id=\"T_48613_row1_col0\" class=\"data row1 col0\" >lift_source/\"min:adcs\"</td>\n",
       "      <td id=\"T_48613_row1_col1\" class=\"data row1 col1\" >50302</td>\n",
       "      <td id=\"T_48613_row1_col2\" class=\"data row1 col2\" >50298</td>\n",
       "      <td id=\"T_48613_row1_col3\" class=\"data row1 col3\" >50248</td>\n",
       "      <td id=\"T_48613_row1_col4\" class=\"data row1 col4\" >50302</td>\n",
       "      <td id=\"T_48613_row1_col5\" class=\"data row1 col5\" >50353</td>\n",
       "      <td id=\"T_48613_row1_col6\" class=\"data row1 col6\" >51889</td>\n",
       "      <td id=\"T_48613_row1_col7\" class=\"data row1 col7\" >51939</td>\n",
       "      <td id=\"T_48613_row1_col8\" class=\"data row1 col8\" >51892</td>\n",
       "    </tr>\n",
       "    <tr>\n",
       "      <th id=\"T_48613_level0_row2\" class=\"row_heading level0 row2\" >30</th>\n",
       "      <td id=\"T_48613_row2_col0\" class=\"data row2 col0\" >lift_source/\"min:adds\"</td>\n",
       "      <td id=\"T_48613_row2_col1\" class=\"data row2 col1\" >51753</td>\n",
       "      <td id=\"T_48613_row2_col2\" class=\"data row2 col2\" >51809</td>\n",
       "      <td id=\"T_48613_row2_col3\" class=\"data row2 col3\" >51810</td>\n",
       "      <td id=\"T_48613_row2_col4\" class=\"data row2 col4\" >51804</td>\n",
       "      <td id=\"T_48613_row2_col5\" class=\"data row2 col5\" >51805</td>\n",
       "      <td id=\"T_48613_row2_col6\" class=\"data row2 col6\" >53575</td>\n",
       "      <td id=\"T_48613_row2_col7\" class=\"data row2 col7\" >53568</td>\n",
       "      <td id=\"T_48613_row2_col8\" class=\"data row2 col8\" >53521</td>\n",
       "    </tr>\n",
       "    <tr>\n",
       "      <th id=\"T_48613_level0_row3\" class=\"row_heading level0 row3\" >31</th>\n",
       "      <td id=\"T_48613_row3_col0\" class=\"data row3 col0\" >lift_source/\"min:ands\"</td>\n",
       "      <td id=\"T_48613_row3_col1\" class=\"data row3 col1\" >51573</td>\n",
       "      <td id=\"T_48613_row3_col2\" class=\"data row3 col2\" >51571</td>\n",
       "      <td id=\"T_48613_row3_col3\" class=\"data row3 col3\" >51575</td>\n",
       "      <td id=\"T_48613_row3_col4\" class=\"data row3 col4\" >51580</td>\n",
       "      <td id=\"T_48613_row3_col5\" class=\"data row3 col5\" >51580</td>\n",
       "      <td id=\"T_48613_row3_col6\" class=\"data row3 col6\" >53281</td>\n",
       "      <td id=\"T_48613_row3_col7\" class=\"data row3 col7\" >53331</td>\n",
       "      <td id=\"T_48613_row3_col8\" class=\"data row3 col8\" >53323</td>\n",
       "    </tr>\n",
       "    <tr>\n",
       "      <th id=\"T_48613_level0_row4\" class=\"row_heading level0 row4\" >32</th>\n",
       "      <td id=\"T_48613_row4_col0\" class=\"data row4 col0\" >lift_source/\"min:calls\"</td>\n",
       "      <td id=\"T_48613_row4_col1\" class=\"data row4 col1\" >10964</td>\n",
       "      <td id=\"T_48613_row4_col2\" class=\"data row4 col2\" >10966</td>\n",
       "      <td id=\"T_48613_row4_col3\" class=\"data row4 col3\" >10966</td>\n",
       "      <td id=\"T_48613_row4_col4\" class=\"data row4 col4\" >10963</td>\n",
       "      <td id=\"T_48613_row4_col5\" class=\"data row4 col5\" >10965</td>\n",
       "      <td id=\"T_48613_row4_col6\" class=\"data row4 col6\" >11083</td>\n",
       "      <td id=\"T_48613_row4_col7\" class=\"data row4 col7\" >11084</td>\n",
       "      <td id=\"T_48613_row4_col8\" class=\"data row4 col8\" >11085</td>\n",
       "    </tr>\n",
       "    <tr>\n",
       "      <th id=\"T_48613_level0_row5\" class=\"row_heading level0 row5\" >33</th>\n",
       "      <td id=\"T_48613_row5_col0\" class=\"data row5 col0\" >lift_source/\"min:cmps\"</td>\n",
       "      <td id=\"T_48613_row5_col1\" class=\"data row5 col1\" >34307</td>\n",
       "      <td id=\"T_48613_row5_col2\" class=\"data row5 col2\" >34306</td>\n",
       "      <td id=\"T_48613_row5_col3\" class=\"data row5 col3\" >34303</td>\n",
       "      <td id=\"T_48613_row5_col4\" class=\"data row5 col4\" >34316</td>\n",
       "      <td id=\"T_48613_row5_col5\" class=\"data row5 col5\" >34310</td>\n",
       "      <td id=\"T_48613_row5_col6\" class=\"data row5 col6\" >35379</td>\n",
       "      <td id=\"T_48613_row5_col7\" class=\"data row5 col7\" >35377</td>\n",
       "      <td id=\"T_48613_row5_col8\" class=\"data row5 col8\" >35378</td>\n",
       "    </tr>\n",
       "    <tr>\n",
       "      <th id=\"T_48613_level0_row6\" class=\"row_heading level0 row6\" >34</th>\n",
       "      <td id=\"T_48613_row6_col0\" class=\"data row6 col0\" >lift_source/\"min:decs\"</td>\n",
       "      <td id=\"T_48613_row6_col1\" class=\"data row6 col1\" >34313</td>\n",
       "      <td id=\"T_48613_row6_col2\" class=\"data row6 col2\" >34311</td>\n",
       "      <td id=\"T_48613_row6_col3\" class=\"data row6 col3\" >34313</td>\n",
       "      <td id=\"T_48613_row6_col4\" class=\"data row6 col4\" >34316</td>\n",
       "      <td id=\"T_48613_row6_col5\" class=\"data row6 col5\" >34311</td>\n",
       "      <td id=\"T_48613_row6_col6\" class=\"data row6 col6\" >35376</td>\n",
       "      <td id=\"T_48613_row6_col7\" class=\"data row6 col7\" >35370</td>\n",
       "      <td id=\"T_48613_row6_col8\" class=\"data row6 col8\" >35374</td>\n",
       "    </tr>\n",
       "    <tr>\n",
       "      <th id=\"T_48613_level0_row7\" class=\"row_heading level0 row7\" >35</th>\n",
       "      <td id=\"T_48613_row7_col0\" class=\"data row7 col0\" >lift_source/\"min:mul-16\"</td>\n",
       "      <td id=\"T_48613_row7_col1\" class=\"data row7 col1\" >10411</td>\n",
       "      <td id=\"T_48613_row7_col2\" class=\"data row7 col2\" >10420</td>\n",
       "      <td id=\"T_48613_row7_col3\" class=\"data row7 col3\" >10410</td>\n",
       "      <td id=\"T_48613_row7_col4\" class=\"data row7 col4\" >10410</td>\n",
       "      <td id=\"T_48613_row7_col5\" class=\"data row7 col5\" >10411</td>\n",
       "      <td id=\"T_48613_row7_col6\" class=\"data row7 col6\" >11076</td>\n",
       "      <td id=\"T_48613_row7_col7\" class=\"data row7 col7\" >10836</td>\n",
       "      <td id=\"T_48613_row7_col8\" class=\"data row7 col8\" >10827</td>\n",
       "    </tr>\n",
       "    <tr>\n",
       "      <th id=\"T_48613_level0_row8\" class=\"row_heading level0 row8\" >36</th>\n",
       "      <td id=\"T_48613_row8_col0\" class=\"data row8 col0\" >lift_source/\"min:idivs\"</td>\n",
       "      <td id=\"T_48613_row8_col1\" class=\"data row8 col1\" >84396</td>\n",
       "      <td id=\"T_48613_row8_col2\" class=\"data row8 col2\" >84395</td>\n",
       "      <td id=\"T_48613_row8_col3\" class=\"data row8 col3\" >84396</td>\n",
       "      <td id=\"T_48613_row8_col4\" class=\"data row8 col4\" >84392</td>\n",
       "      <td id=\"T_48613_row8_col5\" class=\"data row8 col5\" >84396</td>\n",
       "      <td id=\"T_48613_row8_col6\" class=\"data row8 col6\" >77766</td>\n",
       "      <td id=\"T_48613_row8_col7\" class=\"data row8 col7\" >76677</td>\n",
       "      <td id=\"T_48613_row8_col8\" class=\"data row8 col8\" >77181</td>\n",
       "    </tr>\n",
       "    <tr>\n",
       "      <th id=\"T_48613_level0_row9\" class=\"row_heading level0 row9\" >37</th>\n",
       "      <td id=\"T_48613_row9_col0\" class=\"data row9 col0\" >lift_source/\"min:incs\"</td>\n",
       "      <td id=\"T_48613_row9_col1\" class=\"data row9 col1\" >21163</td>\n",
       "      <td id=\"T_48613_row9_col2\" class=\"data row9 col2\" >21162</td>\n",
       "      <td id=\"T_48613_row9_col3\" class=\"data row9 col3\" >21161</td>\n",
       "      <td id=\"T_48613_row9_col4\" class=\"data row9 col4\" >21163</td>\n",
       "      <td id=\"T_48613_row9_col5\" class=\"data row9 col5\" >21163</td>\n",
       "      <td id=\"T_48613_row9_col6\" class=\"data row9 col6\" >21535</td>\n",
       "      <td id=\"T_48613_row9_col7\" class=\"data row9 col7\" >21536</td>\n",
       "      <td id=\"T_48613_row9_col8\" class=\"data row9 col8\" >21536</td>\n",
       "    </tr>\n",
       "    <tr>\n",
       "      <th id=\"T_48613_level0_row10\" class=\"row_heading level0 row10\" >38</th>\n",
       "      <td id=\"T_48613_row10_col0\" class=\"data row10 col0\" >lift_source/\"min:jmps\"</td>\n",
       "      <td id=\"T_48613_row10_col1\" class=\"data row10 col1\" >11178</td>\n",
       "      <td id=\"T_48613_row10_col2\" class=\"data row10 col2\" >11185</td>\n",
       "      <td id=\"T_48613_row10_col3\" class=\"data row10 col3\" >11182</td>\n",
       "      <td id=\"T_48613_row10_col4\" class=\"data row10 col4\" >11179</td>\n",
       "      <td id=\"T_48613_row10_col5\" class=\"data row10 col5\" >11185</td>\n",
       "      <td id=\"T_48613_row10_col6\" class=\"data row10 col6\" >11755</td>\n",
       "      <td id=\"T_48613_row10_col7\" class=\"data row10 col7\" >11764</td>\n",
       "      <td id=\"T_48613_row10_col8\" class=\"data row10 col8\" >11758</td>\n",
       "    </tr>\n",
       "    <tr>\n",
       "      <th id=\"T_48613_level0_row11\" class=\"row_heading level0 row11\" >39</th>\n",
       "      <td id=\"T_48613_row11_col0\" class=\"data row11 col0\" >lift_source/\"min:leas\"</td>\n",
       "      <td id=\"T_48613_row11_col1\" class=\"data row11 col1\" >8308</td>\n",
       "      <td id=\"T_48613_row11_col2\" class=\"data row11 col2\" >8306</td>\n",
       "      <td id=\"T_48613_row11_col3\" class=\"data row11 col3\" >8304</td>\n",
       "      <td id=\"T_48613_row11_col4\" class=\"data row11 col4\" >8306</td>\n",
       "      <td id=\"T_48613_row11_col5\" class=\"data row11 col5\" >8307</td>\n",
       "      <td id=\"T_48613_row11_col6\" class=\"data row11 col6\" >8455</td>\n",
       "      <td id=\"T_48613_row11_col7\" class=\"data row11 col7\" >8453</td>\n",
       "      <td id=\"T_48613_row11_col8\" class=\"data row11 col8\" >8456</td>\n",
       "    </tr>\n",
       "    <tr>\n",
       "      <th id=\"T_48613_level0_row12\" class=\"row_heading level0 row12\" >40</th>\n",
       "      <td id=\"T_48613_row12_col0\" class=\"data row12 col0\" >lift_source/\"min:movs\"</td>\n",
       "      <td id=\"T_48613_row12_col1\" class=\"data row12 col1\" >36657</td>\n",
       "      <td id=\"T_48613_row12_col2\" class=\"data row12 col2\" >36559</td>\n",
       "      <td id=\"T_48613_row12_col3\" class=\"data row12 col3\" >36617</td>\n",
       "      <td id=\"T_48613_row12_col4\" class=\"data row12 col4\" >36608</td>\n",
       "      <td id=\"T_48613_row12_col5\" class=\"data row12 col5\" >36616</td>\n",
       "      <td id=\"T_48613_row12_col6\" class=\"data row12 col6\" >38073</td>\n",
       "      <td id=\"T_48613_row12_col7\" class=\"data row12 col7\" >38055</td>\n",
       "      <td id=\"T_48613_row12_col8\" class=\"data row12 col8\" >37967</td>\n",
       "    </tr>\n",
       "    <tr>\n",
       "      <th id=\"T_48613_level0_row13\" class=\"row_heading level0 row13\" >41</th>\n",
       "      <td id=\"T_48613_row13_col0\" class=\"data row13 col0\" >lift_source/\"min:ors\"</td>\n",
       "      <td id=\"T_48613_row13_col1\" class=\"data row13 col1\" >47615</td>\n",
       "      <td id=\"T_48613_row13_col2\" class=\"data row13 col2\" >47618</td>\n",
       "      <td id=\"T_48613_row13_col3\" class=\"data row13 col3\" >47613</td>\n",
       "      <td id=\"T_48613_row13_col4\" class=\"data row13 col4\" >47562</td>\n",
       "      <td id=\"T_48613_row13_col5\" class=\"data row13 col5\" >47622</td>\n",
       "      <td id=\"T_48613_row13_col6\" class=\"data row13 col6\" >49310</td>\n",
       "      <td id=\"T_48613_row13_col7\" class=\"data row13 col7\" >49304</td>\n",
       "      <td id=\"T_48613_row13_col8\" class=\"data row13 col8\" >49296</td>\n",
       "    </tr>\n",
       "    <tr>\n",
       "      <th id=\"T_48613_level0_row14\" class=\"row_heading level0 row14\" >42</th>\n",
       "      <td id=\"T_48613_row14_col0\" class=\"data row14 col0\" >lift_source/\"min:stack\"</td>\n",
       "      <td id=\"T_48613_row14_col1\" class=\"data row14 col1\" >21413</td>\n",
       "      <td id=\"T_48613_row14_col2\" class=\"data row14 col2\" >21413</td>\n",
       "      <td id=\"T_48613_row14_col3\" class=\"data row14 col3\" >21413</td>\n",
       "      <td id=\"T_48613_row14_col4\" class=\"data row14 col4\" >21405</td>\n",
       "      <td id=\"T_48613_row14_col5\" class=\"data row14 col5\" >21406</td>\n",
       "      <td id=\"T_48613_row14_col6\" class=\"data row14 col6\" >21956</td>\n",
       "      <td id=\"T_48613_row14_col7\" class=\"data row14 col7\" >21954</td>\n",
       "      <td id=\"T_48613_row14_col8\" class=\"data row14 col8\" >21966</td>\n",
       "    </tr>\n",
       "    <tr>\n",
       "      <th id=\"T_48613_level0_row15\" class=\"row_heading level0 row15\" >43</th>\n",
       "      <td id=\"T_48613_row15_col0\" class=\"data row15 col0\" >lift_source/\"min:sbbs\"</td>\n",
       "      <td id=\"T_48613_row15_col1\" class=\"data row15 col1\" >49254</td>\n",
       "      <td id=\"T_48613_row15_col2\" class=\"data row15 col2\" >49247</td>\n",
       "      <td id=\"T_48613_row15_col3\" class=\"data row15 col3\" >49354</td>\n",
       "      <td id=\"T_48613_row15_col4\" class=\"data row15 col4\" >49345</td>\n",
       "      <td id=\"T_48613_row15_col5\" class=\"data row15 col5\" >49360</td>\n",
       "      <td id=\"T_48613_row15_col6\" class=\"data row15 col6\" >50777</td>\n",
       "      <td id=\"T_48613_row15_col7\" class=\"data row15 col7\" >50882</td>\n",
       "      <td id=\"T_48613_row15_col8\" class=\"data row15 col8\" >50775</td>\n",
       "    </tr>\n",
       "    <tr>\n",
       "      <th id=\"T_48613_level0_row16\" class=\"row_heading level0 row16\" >44</th>\n",
       "      <td id=\"T_48613_row16_col0\" class=\"data row16 col0\" >lift_source/\"min:subs\"</td>\n",
       "      <td id=\"T_48613_row16_col1\" class=\"data row16 col1\" >50924</td>\n",
       "      <td id=\"T_48613_row16_col2\" class=\"data row16 col2\" >50985</td>\n",
       "      <td id=\"T_48613_row16_col3\" class=\"data row16 col3\" >50976</td>\n",
       "      <td id=\"T_48613_row16_col4\" class=\"data row16 col4\" >50981</td>\n",
       "      <td id=\"T_48613_row16_col5\" class=\"data row16 col5\" >50986</td>\n",
       "      <td id=\"T_48613_row16_col6\" class=\"data row16 col6\" >52676</td>\n",
       "      <td id=\"T_48613_row16_col7\" class=\"data row16 col7\" >52681</td>\n",
       "      <td id=\"T_48613_row16_col8\" class=\"data row16 col8\" >52626</td>\n",
       "    </tr>\n",
       "    <tr>\n",
       "      <th id=\"T_48613_level0_row17\" class=\"row_heading level0 row17\" >45</th>\n",
       "      <td id=\"T_48613_row17_col0\" class=\"data row17 col0\" >lift_source/\"min:tests\"</td>\n",
       "      <td id=\"T_48613_row17_col1\" class=\"data row17 col1\" >22680</td>\n",
       "      <td id=\"T_48613_row17_col2\" class=\"data row17 col2\" >22687</td>\n",
       "      <td id=\"T_48613_row17_col3\" class=\"data row17 col3\" >22687</td>\n",
       "      <td id=\"T_48613_row17_col4\" class=\"data row17 col4\" >22686</td>\n",
       "      <td id=\"T_48613_row17_col5\" class=\"data row17 col5\" >22682</td>\n",
       "      <td id=\"T_48613_row17_col6\" class=\"data row17 col6\" >23528</td>\n",
       "      <td id=\"T_48613_row17_col7\" class=\"data row17 col7\" >23529</td>\n",
       "      <td id=\"T_48613_row17_col8\" class=\"data row17 col8\" >23528</td>\n",
       "    </tr>\n",
       "    <tr>\n",
       "      <th id=\"T_48613_level0_row18\" class=\"row_heading level0 row18\" >46</th>\n",
       "      <td id=\"T_48613_row18_col0\" class=\"data row18 col0\" >lift_source/\"min:xchg\"</td>\n",
       "      <td id=\"T_48613_row18_col1\" class=\"data row18 col1\" >2754</td>\n",
       "      <td id=\"T_48613_row18_col2\" class=\"data row18 col2\" >2754</td>\n",
       "      <td id=\"T_48613_row18_col3\" class=\"data row18 col3\" >2754</td>\n",
       "      <td id=\"T_48613_row18_col4\" class=\"data row18 col4\" >2753</td>\n",
       "      <td id=\"T_48613_row18_col5\" class=\"data row18 col5\" >2754</td>\n",
       "      <td id=\"T_48613_row18_col6\" class=\"data row18 col6\" >2754</td>\n",
       "      <td id=\"T_48613_row18_col7\" class=\"data row18 col7\" >2754</td>\n",
       "      <td id=\"T_48613_row18_col8\" class=\"data row18 col8\" >2754</td>\n",
       "    </tr>\n",
       "    <tr>\n",
       "      <th id=\"T_48613_level0_row19\" class=\"row_heading level0 row19\" >47</th>\n",
       "      <td id=\"T_48613_row19_col0\" class=\"data row19 col0\" >lift_source/\"min:xors\"</td>\n",
       "      <td id=\"T_48613_row19_col1\" class=\"data row19 col1\" >50115</td>\n",
       "      <td id=\"T_48613_row19_col2\" class=\"data row19 col2\" >50153</td>\n",
       "      <td id=\"T_48613_row19_col3\" class=\"data row19 col3\" >50061</td>\n",
       "      <td id=\"T_48613_row19_col4\" class=\"data row19 col4\" >50114</td>\n",
       "      <td id=\"T_48613_row19_col5\" class=\"data row19 col5\" >50116</td>\n",
       "      <td id=\"T_48613_row19_col6\" class=\"data row19 col6\" >51949</td>\n",
       "      <td id=\"T_48613_row19_col7\" class=\"data row19 col7\" >51904</td>\n",
       "      <td id=\"T_48613_row19_col8\" class=\"data row19 col8\" >51882</td>\n",
       "    </tr>\n",
       "    <tr>\n",
       "      <th id=\"T_48613_level0_row20\" class=\"row_heading level0 row20\" >48</th>\n",
       "      <td id=\"T_48613_row20_col0\" class=\"data row20 col0\" >lift_source/\"big:muls\"</td>\n",
       "      <td id=\"T_48613_row20_col1\" class=\"data row20 col1\" >77143</td>\n",
       "      <td id=\"T_48613_row20_col2\" class=\"data row20 col2\" >77161</td>\n",
       "      <td id=\"T_48613_row20_col3\" class=\"data row20 col3\" >76942</td>\n",
       "      <td id=\"T_48613_row20_col4\" class=\"data row20 col4\" >76948</td>\n",
       "      <td id=\"T_48613_row20_col5\" class=\"data row20 col5\" >78955</td>\n",
       "      <td id=\"T_48613_row20_col6\" class=\"data row20 col6\" >47423</td>\n",
       "      <td id=\"T_48613_row20_col7\" class=\"data row20 col7\" >46354</td>\n",
       "      <td id=\"T_48613_row20_col8\" class=\"data row20 col8\" >46398</td>\n",
       "    </tr>\n",
       "    <tr>\n",
       "      <th id=\"T_48613_level0_row21\" class=\"row_heading level0 row21\" >49</th>\n",
       "      <td id=\"T_48613_row21_col0\" class=\"data row21 col0\" >lift_source/\"big:divs\"</td>\n",
       "      <td id=\"T_48613_row21_col1\" class=\"data row21 col1\" >156021</td>\n",
       "      <td id=\"T_48613_row21_col2\" class=\"data row21 col2\" >156021</td>\n",
       "      <td id=\"T_48613_row21_col3\" class=\"data row21 col3\" >156021</td>\n",
       "      <td id=\"T_48613_row21_col4\" class=\"data row21 col4\" >156021</td>\n",
       "      <td id=\"T_48613_row21_col5\" class=\"data row21 col5\" >156021</td>\n",
       "      <td id=\"T_48613_row21_col6\" class=\"data row21 col6\" >147085</td>\n",
       "      <td id=\"T_48613_row21_col7\" class=\"data row21 col7\" >146420</td>\n",
       "      <td id=\"T_48613_row21_col8\" class=\"data row21 col8\" >146398</td>\n",
       "    </tr>\n",
       "    <tr>\n",
       "      <th id=\"T_48613_level0_row22\" class=\"row_heading level0 row22\" >50</th>\n",
       "      <td id=\"T_48613_row22_col0\" class=\"data row22 col0\" >lift_source/\"big:3d_image_toolkit\"</td>\n",
       "      <td id=\"T_48613_row22_col1\" class=\"data row22 col1\" >196349</td>\n",
       "      <td id=\"T_48613_row22_col2\" class=\"data row22 col2\" >196338</td>\n",
       "      <td id=\"T_48613_row22_col3\" class=\"data row22 col3\" >196245</td>\n",
       "      <td id=\"T_48613_row22_col4\" class=\"data row22 col4\" >196238</td>\n",
       "      <td id=\"T_48613_row22_col5\" class=\"data row22 col5\" >196288</td>\n",
       "      <td id=\"T_48613_row22_col6\" class=\"data row22 col6\" >142246</td>\n",
       "      <td id=\"T_48613_row22_col7\" class=\"data row22 col7\" >141856</td>\n",
       "      <td id=\"T_48613_row22_col8\" class=\"data row22 col8\" >141915</td>\n",
       "    </tr>\n",
       "    <tr>\n",
       "      <th id=\"T_48613_level0_row23\" class=\"row_heading level0 row23\" >51</th>\n",
       "      <td id=\"T_48613_row23_col0\" class=\"data row23 col0\" >lift_source/\"big:router_simulator\"</td>\n",
       "      <td id=\"T_48613_row23_col1\" class=\"data row23 col1\" >165614</td>\n",
       "      <td id=\"T_48613_row23_col2\" class=\"data row23 col2\" >165625</td>\n",
       "      <td id=\"T_48613_row23_col3\" class=\"data row23 col3\" >165725</td>\n",
       "      <td id=\"T_48613_row23_col4\" class=\"data row23 col4\" >165705</td>\n",
       "      <td id=\"T_48613_row23_col5\" class=\"data row23 col5\" >165626</td>\n",
       "      <td id=\"T_48613_row23_col6\" class=\"data row23 col6\" >176898</td>\n",
       "      <td id=\"T_48613_row23_col7\" class=\"data row23 col7\" >176659</td>\n",
       "      <td id=\"T_48613_row23_col8\" class=\"data row23 col8\" >145176</td>\n",
       "    </tr>\n",
       "    <tr>\n",
       "      <th id=\"T_48613_level0_row24\" class=\"row_heading level0 row24\" >52</th>\n",
       "      <td id=\"T_48613_row24_col0\" class=\"data row24 col0\" >lift_source/\"big:lan_simulator\"</td>\n",
       "      <td id=\"T_48613_row24_col1\" class=\"data row24 col1\" >200890</td>\n",
       "      <td id=\"T_48613_row24_col2\" class=\"data row24 col2\" >200951</td>\n",
       "      <td id=\"T_48613_row24_col3\" class=\"data row24 col3\" >200947</td>\n",
       "      <td id=\"T_48613_row24_col4\" class=\"data row24 col4\" >200991</td>\n",
       "      <td id=\"T_48613_row24_col5\" class=\"data row24 col5\" >200795</td>\n",
       "      <td id=\"T_48613_row24_col6\" class=\"data row24 col6\" >153098</td>\n",
       "      <td id=\"T_48613_row24_col7\" class=\"data row24 col7\" >152751</td>\n",
       "      <td id=\"T_48613_row24_col8\" class=\"data row24 col8\" >152905</td>\n",
       "    </tr>\n",
       "    <tr>\n",
       "      <th id=\"T_48613_level0_row25\" class=\"row_heading level0 row25\" >53</th>\n",
       "      <td id=\"T_48613_row25_col0\" class=\"data row25 col0\" >lift_source/\"big:tiny86\"</td>\n",
       "      <td id=\"T_48613_row25_col1\" class=\"data row25 col1\" >373454</td>\n",
       "      <td id=\"T_48613_row25_col2\" class=\"data row25 col2\" >373368</td>\n",
       "      <td id=\"T_48613_row25_col3\" class=\"data row25 col3\" >373500</td>\n",
       "      <td id=\"T_48613_row25_col4\" class=\"data row25 col4\" >373346</td>\n",
       "      <td id=\"T_48613_row25_col5\" class=\"data row25 col5\" >373424</td>\n",
       "      <td id=\"T_48613_row25_col6\" class=\"data row25 col6\" >361154</td>\n",
       "      <td id=\"T_48613_row25_col7\" class=\"data row25 col7\" >359510</td>\n",
       "      <td id=\"T_48613_row25_col8\" class=\"data row25 col8\" >359547</td>\n",
       "    </tr>\n",
       "  </tbody>\n",
       "</table>\n"
      ],
      "text/plain": [
       "<pandas.io.formats.style.Styler at 0x1310d00a0>"
      ]
     },
     "execution_count": 10,
     "metadata": {},
     "output_type": "execute_result"
    }
   ],
   "source": [
    "relative = False\n",
    "\n",
    "df = difference([(noopt, \"noopt\"), (eqsat, \"eqsat\"), (llvm, \"llvm\"), (mux, \"mux\"), (sim_eqsat_llvm, \"eqsat-llvm\"), (sim_conmul_llvm, \"mul-llvm\"), (sim_conmul_mux_llvm, \"mul-mux-llvm\"), (sim_conmul_mux_llvm_eqsat, \"mul-mux-llvm-eqsat\")], ['V:CELLS'], relative)\n",
    "view = df[df['name'].str.startswith(\"lift_source\")]\n",
    "\n",
    "def highlight_max(s, props=''):\n",
    "    return np.where(s == np.nanmin(s.values), props, '')\n",
    "\n",
    "columns = ['eqsat', 'llvm', 'mux', 'eqsat-llvm', 'mul-llvm', 'mul-mux-llvm', 'mul-mux-llvm-eqsat']\n",
    "\n",
    "view.style \\\n",
    "    .apply(lambda x: [\"color:red;\" if v > x.iloc[0] else \"\" for v in x], axis = 1, subset=columns) \\\n",
    "    .apply(lambda x: [\"color:green;\" if v < x.iloc[0] else \"\" for v in x], axis = 1, subset=columns) \\\n",
    "    .apply(highlight_max, props='color:white;background-color:green', axis=1, subset=columns)"
   ]
  },
  {
   "cell_type": "code",
   "execution_count": 14,
   "id": "cb380844",
   "metadata": {},
   "outputs": [],
   "source": [
    "eqsat = load_data('23-02-17', 'eqsat')\n",
    "noopt = load_data('23-02-17', 'noopt')\n",
    "llvm  = load_data('23-02-17', 'llvm')\n",
    "conall  = load_data('23-02-17', 'conall-llvm')\n",
    "condiv  = load_data('23-02-17', 'condiv-llvm')\n",
    "conmul  = load_data('23-02-17', 'conmul-llvm')\n",
    "conadd = load_data('23-02-17', 'conadd-llvm')\n",
    "sel  = load_data('23-02-17', 'sim-eqsat-llvm')\n",
    "scmml = load_data('23-02-17', 'sim-conmul-mux-llvm')\n",
    "scaml = load_data('23-02-17', 'sim-conall-mux-llvm')\n",
    "scalmle  = load_data('23-02-17', 'sim-conall-mux-llvm-eqsat')\n",
    "scmcdml  = load_data('23-02-17', 'sim-conmul-condiv-mux-llvm')\n",
    "scal  = load_data('23-02-17', 'sim-conall-llvm')"
   ]
  },
  {
   "cell_type": "code",
   "execution_count": 19,
   "id": "30ff9910",
   "metadata": {
    "scrolled": false
   },
   "outputs": [
    {
     "data": {
      "text/html": [
       "<style type=\"text/css\">\n",
       "#T_0d4ca_row0_col1, #T_0d4ca_row0_col2, #T_0d4ca_row1_col1, #T_0d4ca_row2_col1 {\n",
       "  color: white;\n",
       "  background-color: green;\n",
       "}\n",
       "#T_0d4ca_row0_col3, #T_0d4ca_row0_col4, #T_0d4ca_row0_col5, #T_0d4ca_row0_col6, #T_0d4ca_row0_col7, #T_0d4ca_row0_col8, #T_0d4ca_row0_col9, #T_0d4ca_row1_col2, #T_0d4ca_row1_col3, #T_0d4ca_row1_col4, #T_0d4ca_row1_col5, #T_0d4ca_row1_col6, #T_0d4ca_row1_col7, #T_0d4ca_row1_col8, #T_0d4ca_row1_col9, #T_0d4ca_row2_col2, #T_0d4ca_row2_col3, #T_0d4ca_row2_col4, #T_0d4ca_row2_col5, #T_0d4ca_row2_col6, #T_0d4ca_row2_col7, #T_0d4ca_row2_col8, #T_0d4ca_row2_col9, #T_0d4ca_row3_col3, #T_0d4ca_row3_col4, #T_0d4ca_row3_col5, #T_0d4ca_row3_col6, #T_0d4ca_row3_col8, #T_0d4ca_row4_col3, #T_0d4ca_row4_col4, #T_0d4ca_row4_col5, #T_0d4ca_row4_col6, #T_0d4ca_row4_col8, #T_0d4ca_row5_col3, #T_0d4ca_row5_col4, #T_0d4ca_row5_col5, #T_0d4ca_row5_col6, #T_0d4ca_row5_col8, #T_0d4ca_row6_col2, #T_0d4ca_row6_col3, #T_0d4ca_row6_col4, #T_0d4ca_row6_col5, #T_0d4ca_row6_col6, #T_0d4ca_row6_col7, #T_0d4ca_row6_col8, #T_0d4ca_row7_col3, #T_0d4ca_row7_col4, #T_0d4ca_row7_col5, #T_0d4ca_row7_col6, #T_0d4ca_row7_col8, #T_0d4ca_row8_col3, #T_0d4ca_row8_col4, #T_0d4ca_row8_col5, #T_0d4ca_row8_col6, #T_0d4ca_row8_col8, #T_0d4ca_row9_col3, #T_0d4ca_row9_col4, #T_0d4ca_row10_col3, #T_0d4ca_row10_col4, #T_0d4ca_row10_col5, #T_0d4ca_row10_col6, #T_0d4ca_row10_col8, #T_0d4ca_row10_col9, #T_0d4ca_row11_col2, #T_0d4ca_row11_col3, #T_0d4ca_row11_col4, #T_0d4ca_row11_col5, #T_0d4ca_row11_col6, #T_0d4ca_row11_col8, #T_0d4ca_row12_col3, #T_0d4ca_row12_col4, #T_0d4ca_row12_col5, #T_0d4ca_row12_col6, #T_0d4ca_row12_col8, #T_0d4ca_row13_col2, #T_0d4ca_row13_col3, #T_0d4ca_row13_col4, #T_0d4ca_row13_col5, #T_0d4ca_row13_col6, #T_0d4ca_row13_col8, #T_0d4ca_row14_col3, #T_0d4ca_row14_col4, #T_0d4ca_row14_col5, #T_0d4ca_row14_col6, #T_0d4ca_row14_col8, #T_0d4ca_row15_col3, #T_0d4ca_row15_col4, #T_0d4ca_row15_col5, #T_0d4ca_row15_col6, #T_0d4ca_row15_col8, #T_0d4ca_row15_col9, #T_0d4ca_row16_col2, #T_0d4ca_row16_col3, #T_0d4ca_row16_col4, #T_0d4ca_row16_col5, #T_0d4ca_row16_col6, #T_0d4ca_row16_col8, #T_0d4ca_row17_col2, #T_0d4ca_row17_col3, #T_0d4ca_row17_col4, #T_0d4ca_row17_col5, #T_0d4ca_row17_col6, #T_0d4ca_row17_col8, #T_0d4ca_row18_col2, #T_0d4ca_row18_col3, #T_0d4ca_row18_col4, #T_0d4ca_row18_col5, #T_0d4ca_row18_col6, #T_0d4ca_row18_col8, #T_0d4ca_row19_col7, #T_0d4ca_row19_col9, #T_0d4ca_row20_col3, #T_0d4ca_row20_col4, #T_0d4ca_row20_col5, #T_0d4ca_row20_col6, #T_0d4ca_row20_col8, #T_0d4ca_row21_col2, #T_0d4ca_row21_col3, #T_0d4ca_row21_col5, #T_0d4ca_row22_col3, #T_0d4ca_row22_col4, #T_0d4ca_row23_col3, #T_0d4ca_row24_col2, #T_0d4ca_row24_col3, #T_0d4ca_row24_col5, #T_0d4ca_row24_col6, #T_0d4ca_row24_col8, #T_0d4ca_row25_col2, #T_0d4ca_row25_col3, #T_0d4ca_row25_col6, #T_0d4ca_row26_col3, #T_0d4ca_row26_col4, #T_0d4ca_row26_col5, #T_0d4ca_row26_col6, #T_0d4ca_row26_col7 {\n",
       "  color: red;\n",
       "}\n",
       "#T_0d4ca_row3_col7, #T_0d4ca_row4_col9, #T_0d4ca_row5_col7, #T_0d4ca_row6_col9, #T_0d4ca_row7_col7, #T_0d4ca_row8_col7, #T_0d4ca_row9_col9, #T_0d4ca_row10_col7, #T_0d4ca_row11_col7, #T_0d4ca_row12_col7, #T_0d4ca_row13_col7, #T_0d4ca_row14_col7, #T_0d4ca_row15_col7, #T_0d4ca_row16_col7, #T_0d4ca_row16_col9, #T_0d4ca_row17_col7, #T_0d4ca_row17_col9, #T_0d4ca_row18_col7, #T_0d4ca_row18_col9, #T_0d4ca_row19_col5, #T_0d4ca_row20_col7, #T_0d4ca_row20_col9, #T_0d4ca_row21_col7, #T_0d4ca_row22_col9, #T_0d4ca_row23_col8, #T_0d4ca_row24_col7, #T_0d4ca_row25_col7, #T_0d4ca_row26_col8 {\n",
       "  color: green;\n",
       "  color: white;\n",
       "  background-color: green;\n",
       "}\n",
       "#T_0d4ca_row3_col9, #T_0d4ca_row4_col2, #T_0d4ca_row4_col7, #T_0d4ca_row5_col9, #T_0d4ca_row7_col9, #T_0d4ca_row8_col9, #T_0d4ca_row9_col5, #T_0d4ca_row9_col6, #T_0d4ca_row9_col7, #T_0d4ca_row9_col8, #T_0d4ca_row11_col9, #T_0d4ca_row12_col2, #T_0d4ca_row12_col9, #T_0d4ca_row13_col9, #T_0d4ca_row14_col2, #T_0d4ca_row14_col9, #T_0d4ca_row15_col2, #T_0d4ca_row20_col2, #T_0d4ca_row21_col4, #T_0d4ca_row21_col6, #T_0d4ca_row21_col8, #T_0d4ca_row21_col9, #T_0d4ca_row22_col2, #T_0d4ca_row22_col5, #T_0d4ca_row22_col6, #T_0d4ca_row22_col7, #T_0d4ca_row22_col8, #T_0d4ca_row23_col2, #T_0d4ca_row23_col4, #T_0d4ca_row23_col5, #T_0d4ca_row23_col6, #T_0d4ca_row23_col7, #T_0d4ca_row23_col9, #T_0d4ca_row24_col4, #T_0d4ca_row25_col4, #T_0d4ca_row25_col5, #T_0d4ca_row25_col8, #T_0d4ca_row26_col2 {\n",
       "  color: green;\n",
       "}\n",
       "</style>\n",
       "<table id=\"T_0d4ca\">\n",
       "  <thead>\n",
       "    <tr>\n",
       "      <th class=\"blank level0\" >&nbsp;</th>\n",
       "      <th id=\"T_0d4ca_level0_col0\" class=\"col_heading level0 col0\" >name</th>\n",
       "      <th id=\"T_0d4ca_level0_col1\" class=\"col_heading level0 col1\" >noopt</th>\n",
       "      <th id=\"T_0d4ca_level0_col2\" class=\"col_heading level0 col2\" >eqsat</th>\n",
       "      <th id=\"T_0d4ca_level0_col3\" class=\"col_heading level0 col3\" >conadd</th>\n",
       "      <th id=\"T_0d4ca_level0_col4\" class=\"col_heading level0 col4\" >conmul</th>\n",
       "      <th id=\"T_0d4ca_level0_col5\" class=\"col_heading level0 col5\" >condiv</th>\n",
       "      <th id=\"T_0d4ca_level0_col6\" class=\"col_heading level0 col6\" >conall</th>\n",
       "      <th id=\"T_0d4ca_level0_col7\" class=\"col_heading level0 col7\" >conall-mux</th>\n",
       "      <th id=\"T_0d4ca_level0_col8\" class=\"col_heading level0 col8\" >conmul-condiv-mux</th>\n",
       "      <th id=\"T_0d4ca_level0_col9\" class=\"col_heading level0 col9\" >conall-mux-eqsat</th>\n",
       "    </tr>\n",
       "  </thead>\n",
       "  <tbody>\n",
       "    <tr>\n",
       "      <th id=\"T_0d4ca_level0_row0\" class=\"row_heading level0 row0\" >28</th>\n",
       "      <td id=\"T_0d4ca_row0_col0\" class=\"data row0 col0\" >lift_source/\"min:small\"</td>\n",
       "      <td id=\"T_0d4ca_row0_col1\" class=\"data row0 col1\" >2548</td>\n",
       "      <td id=\"T_0d4ca_row0_col2\" class=\"data row0 col2\" >2548</td>\n",
       "      <td id=\"T_0d4ca_row0_col3\" class=\"data row0 col3\" >2640</td>\n",
       "      <td id=\"T_0d4ca_row0_col4\" class=\"data row0 col4\" >2565</td>\n",
       "      <td id=\"T_0d4ca_row0_col5\" class=\"data row0 col5\" >2565</td>\n",
       "      <td id=\"T_0d4ca_row0_col6\" class=\"data row0 col6\" >2640</td>\n",
       "      <td id=\"T_0d4ca_row0_col7\" class=\"data row0 col7\" >2565</td>\n",
       "      <td id=\"T_0d4ca_row0_col8\" class=\"data row0 col8\" >2565</td>\n",
       "      <td id=\"T_0d4ca_row0_col9\" class=\"data row0 col9\" >2565.000000</td>\n",
       "    </tr>\n",
       "    <tr>\n",
       "      <th id=\"T_0d4ca_level0_row1\" class=\"row_heading level0 row1\" >29</th>\n",
       "      <td id=\"T_0d4ca_row1_col0\" class=\"data row1 col0\" >lift_source/\"min:adcs\"</td>\n",
       "      <td id=\"T_0d4ca_row1_col1\" class=\"data row1 col1\" >22930</td>\n",
       "      <td id=\"T_0d4ca_row1_col2\" class=\"data row1 col2\" >22931</td>\n",
       "      <td id=\"T_0d4ca_row1_col3\" class=\"data row1 col3\" >55342</td>\n",
       "      <td id=\"T_0d4ca_row1_col4\" class=\"data row1 col4\" >26273</td>\n",
       "      <td id=\"T_0d4ca_row1_col5\" class=\"data row1 col5\" >26272</td>\n",
       "      <td id=\"T_0d4ca_row1_col6\" class=\"data row1 col6\" >56230</td>\n",
       "      <td id=\"T_0d4ca_row1_col7\" class=\"data row1 col7\" >26373</td>\n",
       "      <td id=\"T_0d4ca_row1_col8\" class=\"data row1 col8\" >26270</td>\n",
       "      <td id=\"T_0d4ca_row1_col9\" class=\"data row1 col9\" >24485.000000</td>\n",
       "    </tr>\n",
       "    <tr>\n",
       "      <th id=\"T_0d4ca_level0_row2\" class=\"row_heading level0 row2\" >30</th>\n",
       "      <td id=\"T_0d4ca_row2_col0\" class=\"data row2 col0\" >lift_source/\"min:adds\"</td>\n",
       "      <td id=\"T_0d4ca_row2_col1\" class=\"data row2 col1\" >24595</td>\n",
       "      <td id=\"T_0d4ca_row2_col2\" class=\"data row2 col2\" >24701</td>\n",
       "      <td id=\"T_0d4ca_row2_col3\" class=\"data row2 col3\" >50890</td>\n",
       "      <td id=\"T_0d4ca_row2_col4\" class=\"data row2 col4\" >28720</td>\n",
       "      <td id=\"T_0d4ca_row2_col5\" class=\"data row2 col5\" >28702</td>\n",
       "      <td id=\"T_0d4ca_row2_col6\" class=\"data row2 col6\" >52543</td>\n",
       "      <td id=\"T_0d4ca_row2_col7\" class=\"data row2 col7\" >25911</td>\n",
       "      <td id=\"T_0d4ca_row2_col8\" class=\"data row2 col8\" >28708</td>\n",
       "      <td id=\"T_0d4ca_row2_col9\" class=\"data row2 col9\" >24768.000000</td>\n",
       "    </tr>\n",
       "    <tr>\n",
       "      <th id=\"T_0d4ca_level0_row3\" class=\"row_heading level0 row3\" >31</th>\n",
       "      <td id=\"T_0d4ca_row3_col0\" class=\"data row3 col0\" >lift_source/\"laky:half-ands\"</td>\n",
       "      <td id=\"T_0d4ca_row3_col1\" class=\"data row3 col1\" >14591</td>\n",
       "      <td id=\"T_0d4ca_row3_col2\" class=\"data row3 col2\" >14591</td>\n",
       "      <td id=\"T_0d4ca_row3_col3\" class=\"data row3 col3\" >18354</td>\n",
       "      <td id=\"T_0d4ca_row3_col4\" class=\"data row3 col4\" >15840</td>\n",
       "      <td id=\"T_0d4ca_row3_col5\" class=\"data row3 col5\" >15890</td>\n",
       "      <td id=\"T_0d4ca_row3_col6\" class=\"data row3 col6\" >18302</td>\n",
       "      <td id=\"T_0d4ca_row3_col7\" class=\"data row3 col7\" >11994</td>\n",
       "      <td id=\"T_0d4ca_row3_col8\" class=\"data row3 col8\" >15840</td>\n",
       "      <td id=\"T_0d4ca_row3_col9\" class=\"data row3 col9\" >12184.000000</td>\n",
       "    </tr>\n",
       "    <tr>\n",
       "      <th id=\"T_0d4ca_level0_row4\" class=\"row_heading level0 row4\" >32</th>\n",
       "      <td id=\"T_0d4ca_row4_col0\" class=\"data row4 col0\" >lift_source/\"min:ands\"</td>\n",
       "      <td id=\"T_0d4ca_row4_col1\" class=\"data row4 col1\" >22433</td>\n",
       "      <td id=\"T_0d4ca_row4_col2\" class=\"data row4 col2\" >22432</td>\n",
       "      <td id=\"T_0d4ca_row4_col3\" class=\"data row4 col3\" >39080</td>\n",
       "      <td id=\"T_0d4ca_row4_col4\" class=\"data row4 col4\" >26283</td>\n",
       "      <td id=\"T_0d4ca_row4_col5\" class=\"data row4 col5\" >26268</td>\n",
       "      <td id=\"T_0d4ca_row4_col6\" class=\"data row4 col6\" >39238</td>\n",
       "      <td id=\"T_0d4ca_row4_col7\" class=\"data row4 col7\" >19461</td>\n",
       "      <td id=\"T_0d4ca_row4_col8\" class=\"data row4 col8\" >28660</td>\n",
       "      <td id=\"T_0d4ca_row4_col9\" class=\"data row4 col9\" >19447.000000</td>\n",
       "    </tr>\n",
       "    <tr>\n",
       "      <th id=\"T_0d4ca_level0_row5\" class=\"row_heading level0 row5\" >33</th>\n",
       "      <td id=\"T_0d4ca_row5_col0\" class=\"data row5 col0\" >lift_source/\"min:calls\"</td>\n",
       "      <td id=\"T_0d4ca_row5_col1\" class=\"data row5 col1\" >6996</td>\n",
       "      <td id=\"T_0d4ca_row5_col2\" class=\"data row5 col2\" >6996</td>\n",
       "      <td id=\"T_0d4ca_row5_col3\" class=\"data row5 col3\" >12016</td>\n",
       "      <td id=\"T_0d4ca_row5_col4\" class=\"data row5 col4\" >7162</td>\n",
       "      <td id=\"T_0d4ca_row5_col5\" class=\"data row5 col5\" >7158</td>\n",
       "      <td id=\"T_0d4ca_row5_col6\" class=\"data row5 col6\" >12068</td>\n",
       "      <td id=\"T_0d4ca_row5_col7\" class=\"data row5 col7\" >6551</td>\n",
       "      <td id=\"T_0d4ca_row5_col8\" class=\"data row5 col8\" >7161</td>\n",
       "      <td id=\"T_0d4ca_row5_col9\" class=\"data row5 col9\" >6790.000000</td>\n",
       "    </tr>\n",
       "    <tr>\n",
       "      <th id=\"T_0d4ca_level0_row6\" class=\"row_heading level0 row6\" >34</th>\n",
       "      <td id=\"T_0d4ca_row6_col0\" class=\"data row6 col0\" >lift_source/\"min:cmps\"</td>\n",
       "      <td id=\"T_0d4ca_row6_col1\" class=\"data row6 col1\" >17457</td>\n",
       "      <td id=\"T_0d4ca_row6_col2\" class=\"data row6 col2\" >17468</td>\n",
       "      <td id=\"T_0d4ca_row6_col3\" class=\"data row6 col3\" >39987</td>\n",
       "      <td id=\"T_0d4ca_row6_col4\" class=\"data row6 col4\" >19556</td>\n",
       "      <td id=\"T_0d4ca_row6_col5\" class=\"data row6 col5\" >19563</td>\n",
       "      <td id=\"T_0d4ca_row6_col6\" class=\"data row6 col6\" >40205</td>\n",
       "      <td id=\"T_0d4ca_row6_col7\" class=\"data row6 col7\" >17859</td>\n",
       "      <td id=\"T_0d4ca_row6_col8\" class=\"data row6 col8\" >19563</td>\n",
       "      <td id=\"T_0d4ca_row6_col9\" class=\"data row6 col9\" >16608.000000</td>\n",
       "    </tr>\n",
       "    <tr>\n",
       "      <th id=\"T_0d4ca_level0_row7\" class=\"row_heading level0 row7\" >35</th>\n",
       "      <td id=\"T_0d4ca_row7_col0\" class=\"data row7 col0\" >lift_source/\"min:decs\"</td>\n",
       "      <td id=\"T_0d4ca_row7_col1\" class=\"data row7 col1\" >12679</td>\n",
       "      <td id=\"T_0d4ca_row7_col2\" class=\"data row7 col2\" >12679</td>\n",
       "      <td id=\"T_0d4ca_row7_col3\" class=\"data row7 col3\" >16788</td>\n",
       "      <td id=\"T_0d4ca_row7_col4\" class=\"data row7 col4\" >13396</td>\n",
       "      <td id=\"T_0d4ca_row7_col5\" class=\"data row7 col5\" >13396</td>\n",
       "      <td id=\"T_0d4ca_row7_col6\" class=\"data row7 col6\" >16212</td>\n",
       "      <td id=\"T_0d4ca_row7_col7\" class=\"data row7 col7\" >11909</td>\n",
       "      <td id=\"T_0d4ca_row7_col8\" class=\"data row7 col8\" >13396</td>\n",
       "      <td id=\"T_0d4ca_row7_col9\" class=\"data row7 col9\" >12060.000000</td>\n",
       "    </tr>\n",
       "    <tr>\n",
       "      <th id=\"T_0d4ca_level0_row8\" class=\"row_heading level0 row8\" >36</th>\n",
       "      <td id=\"T_0d4ca_row8_col0\" class=\"data row8 col0\" >lift_source/\"min:mul-16\"</td>\n",
       "      <td id=\"T_0d4ca_row8_col1\" class=\"data row8 col1\" >7802</td>\n",
       "      <td id=\"T_0d4ca_row8_col2\" class=\"data row8 col2\" >7802</td>\n",
       "      <td id=\"T_0d4ca_row8_col3\" class=\"data row8 col3\" >8394</td>\n",
       "      <td id=\"T_0d4ca_row8_col4\" class=\"data row8 col4\" >8474</td>\n",
       "      <td id=\"T_0d4ca_row8_col5\" class=\"data row8 col5\" >8099</td>\n",
       "      <td id=\"T_0d4ca_row8_col6\" class=\"data row8 col6\" >8769</td>\n",
       "      <td id=\"T_0d4ca_row8_col7\" class=\"data row8 col7\" >7513</td>\n",
       "      <td id=\"T_0d4ca_row8_col8\" class=\"data row8 col8\" >8225</td>\n",
       "      <td id=\"T_0d4ca_row8_col9\" class=\"data row8 col9\" >7524.000000</td>\n",
       "    </tr>\n",
       "    <tr>\n",
       "      <th id=\"T_0d4ca_level0_row9\" class=\"row_heading level0 row9\" >37</th>\n",
       "      <td id=\"T_0d4ca_row9_col0\" class=\"data row9 col0\" >lift_source/\"min:idivs\"</td>\n",
       "      <td id=\"T_0d4ca_row9_col1\" class=\"data row9 col1\" >80367</td>\n",
       "      <td id=\"T_0d4ca_row9_col2\" class=\"data row9 col2\" >80367</td>\n",
       "      <td id=\"T_0d4ca_row9_col3\" class=\"data row9 col3\" >80607</td>\n",
       "      <td id=\"T_0d4ca_row9_col4\" class=\"data row9 col4\" >80586</td>\n",
       "      <td id=\"T_0d4ca_row9_col5\" class=\"data row9 col5\" >73770</td>\n",
       "      <td id=\"T_0d4ca_row9_col6\" class=\"data row9 col6\" >73792</td>\n",
       "      <td id=\"T_0d4ca_row9_col7\" class=\"data row9 col7\" >71213</td>\n",
       "      <td id=\"T_0d4ca_row9_col8\" class=\"data row9 col8\" >73144</td>\n",
       "      <td id=\"T_0d4ca_row9_col9\" class=\"data row9 col9\" >71044.000000</td>\n",
       "    </tr>\n",
       "    <tr>\n",
       "      <th id=\"T_0d4ca_level0_row10\" class=\"row_heading level0 row10\" >38</th>\n",
       "      <td id=\"T_0d4ca_row10_col0\" class=\"data row10 col0\" >lift_source/\"min:incs\"</td>\n",
       "      <td id=\"T_0d4ca_row10_col1\" class=\"data row10 col1\" >11066</td>\n",
       "      <td id=\"T_0d4ca_row10_col2\" class=\"data row10 col2\" >11066</td>\n",
       "      <td id=\"T_0d4ca_row10_col3\" class=\"data row10 col3\" >14169</td>\n",
       "      <td id=\"T_0d4ca_row10_col4\" class=\"data row10 col4\" >11708</td>\n",
       "      <td id=\"T_0d4ca_row10_col5\" class=\"data row10 col5\" >11708</td>\n",
       "      <td id=\"T_0d4ca_row10_col6\" class=\"data row10 col6\" >13672</td>\n",
       "      <td id=\"T_0d4ca_row10_col7\" class=\"data row10 col7\" >10768</td>\n",
       "      <td id=\"T_0d4ca_row10_col8\" class=\"data row10 col8\" >11708</td>\n",
       "      <td id=\"T_0d4ca_row10_col9\" class=\"data row10 col9\" >11160.000000</td>\n",
       "    </tr>\n",
       "    <tr>\n",
       "      <th id=\"T_0d4ca_level0_row11\" class=\"row_heading level0 row11\" >39</th>\n",
       "      <td id=\"T_0d4ca_row11_col0\" class=\"data row11 col0\" >lift_source/\"min:jmps\"</td>\n",
       "      <td id=\"T_0d4ca_row11_col1\" class=\"data row11 col1\" >8498</td>\n",
       "      <td id=\"T_0d4ca_row11_col2\" class=\"data row11 col2\" >8506</td>\n",
       "      <td id=\"T_0d4ca_row11_col3\" class=\"data row11 col3\" >14712</td>\n",
       "      <td id=\"T_0d4ca_row11_col4\" class=\"data row11 col4\" >9177</td>\n",
       "      <td id=\"T_0d4ca_row11_col5\" class=\"data row11 col5\" >9181</td>\n",
       "      <td id=\"T_0d4ca_row11_col6\" class=\"data row11 col6\" >14698</td>\n",
       "      <td id=\"T_0d4ca_row11_col7\" class=\"data row11 col7\" >7308</td>\n",
       "      <td id=\"T_0d4ca_row11_col8\" class=\"data row11 col8\" >9181</td>\n",
       "      <td id=\"T_0d4ca_row11_col9\" class=\"data row11 col9\" >7322.000000</td>\n",
       "    </tr>\n",
       "    <tr>\n",
       "      <th id=\"T_0d4ca_level0_row12\" class=\"row_heading level0 row12\" >40</th>\n",
       "      <td id=\"T_0d4ca_row12_col0\" class=\"data row12 col0\" >lift_source/\"min:leas\"</td>\n",
       "      <td id=\"T_0d4ca_row12_col1\" class=\"data row12 col1\" >7249</td>\n",
       "      <td id=\"T_0d4ca_row12_col2\" class=\"data row12 col2\" >7248</td>\n",
       "      <td id=\"T_0d4ca_row12_col3\" class=\"data row12 col3\" >9374</td>\n",
       "      <td id=\"T_0d4ca_row12_col4\" class=\"data row12 col4\" >7651</td>\n",
       "      <td id=\"T_0d4ca_row12_col5\" class=\"data row12 col5\" >7650</td>\n",
       "      <td id=\"T_0d4ca_row12_col6\" class=\"data row12 col6\" >9372</td>\n",
       "      <td id=\"T_0d4ca_row12_col7\" class=\"data row12 col7\" >5458</td>\n",
       "      <td id=\"T_0d4ca_row12_col8\" class=\"data row12 col8\" >7651</td>\n",
       "      <td id=\"T_0d4ca_row12_col9\" class=\"data row12 col9\" >5506.000000</td>\n",
       "    </tr>\n",
       "    <tr>\n",
       "      <th id=\"T_0d4ca_level0_row13\" class=\"row_heading level0 row13\" >41</th>\n",
       "      <td id=\"T_0d4ca_row13_col0\" class=\"data row13 col0\" >lift_source/\"min:movs\"</td>\n",
       "      <td id=\"T_0d4ca_row13_col1\" class=\"data row13 col1\" >16801</td>\n",
       "      <td id=\"T_0d4ca_row13_col2\" class=\"data row13 col2\" >18798</td>\n",
       "      <td id=\"T_0d4ca_row13_col3\" class=\"data row13 col3\" >33582</td>\n",
       "      <td id=\"T_0d4ca_row13_col4\" class=\"data row13 col4\" >21627</td>\n",
       "      <td id=\"T_0d4ca_row13_col5\" class=\"data row13 col5\" >21625</td>\n",
       "      <td id=\"T_0d4ca_row13_col6\" class=\"data row13 col6\" >33376</td>\n",
       "      <td id=\"T_0d4ca_row13_col7\" class=\"data row13 col7\" >15169</td>\n",
       "      <td id=\"T_0d4ca_row13_col8\" class=\"data row13 col8\" >19469</td>\n",
       "      <td id=\"T_0d4ca_row13_col9\" class=\"data row13 col9\" >15400.000000</td>\n",
       "    </tr>\n",
       "    <tr>\n",
       "      <th id=\"T_0d4ca_level0_row14\" class=\"row_heading level0 row14\" >42</th>\n",
       "      <td id=\"T_0d4ca_row14_col0\" class=\"data row14 col0\" >lift_source/\"min:ors\"</td>\n",
       "      <td id=\"T_0d4ca_row14_col1\" class=\"data row14 col1\" >23687</td>\n",
       "      <td id=\"T_0d4ca_row14_col2\" class=\"data row14 col2\" >21835</td>\n",
       "      <td id=\"T_0d4ca_row14_col3\" class=\"data row14 col3\" >38650</td>\n",
       "      <td id=\"T_0d4ca_row14_col4\" class=\"data row14 col4\" >27491</td>\n",
       "      <td id=\"T_0d4ca_row14_col5\" class=\"data row14 col5\" >25587</td>\n",
       "      <td id=\"T_0d4ca_row14_col6\" class=\"data row14 col6\" >38872</td>\n",
       "      <td id=\"T_0d4ca_row14_col7\" class=\"data row14 col7\" >19256</td>\n",
       "      <td id=\"T_0d4ca_row14_col8\" class=\"data row14 col8\" >27539</td>\n",
       "      <td id=\"T_0d4ca_row14_col9\" class=\"data row14 col9\" >19367.000000</td>\n",
       "    </tr>\n",
       "    <tr>\n",
       "      <th id=\"T_0d4ca_level0_row15\" class=\"row_heading level0 row15\" >43</th>\n",
       "      <td id=\"T_0d4ca_row15_col0\" class=\"data row15 col0\" >lift_source/\"min:stack\"</td>\n",
       "      <td id=\"T_0d4ca_row15_col1\" class=\"data row15 col1\" >14842</td>\n",
       "      <td id=\"T_0d4ca_row15_col2\" class=\"data row15 col2\" >14840</td>\n",
       "      <td id=\"T_0d4ca_row15_col3\" class=\"data row15 col3\" >28025</td>\n",
       "      <td id=\"T_0d4ca_row15_col4\" class=\"data row15 col4\" >15783</td>\n",
       "      <td id=\"T_0d4ca_row15_col5\" class=\"data row15 col5\" >16052</td>\n",
       "      <td id=\"T_0d4ca_row15_col6\" class=\"data row15 col6\" >28231</td>\n",
       "      <td id=\"T_0d4ca_row15_col7\" class=\"data row15 col7\" >13866</td>\n",
       "      <td id=\"T_0d4ca_row15_col8\" class=\"data row15 col8\" >15783</td>\n",
       "      <td id=\"T_0d4ca_row15_col9\" class=\"data row15 col9\" >15093.000000</td>\n",
       "    </tr>\n",
       "    <tr>\n",
       "      <th id=\"T_0d4ca_level0_row16\" class=\"row_heading level0 row16\" >44</th>\n",
       "      <td id=\"T_0d4ca_row16_col0\" class=\"data row16 col0\" >lift_source/\"min:sbbs\"</td>\n",
       "      <td id=\"T_0d4ca_row16_col1\" class=\"data row16 col1\" >24074</td>\n",
       "      <td id=\"T_0d4ca_row16_col2\" class=\"data row16 col2\" >24125</td>\n",
       "      <td id=\"T_0d4ca_row16_col3\" class=\"data row16 col3\" >53506</td>\n",
       "      <td id=\"T_0d4ca_row16_col4\" class=\"data row16 col4\" >27398</td>\n",
       "      <td id=\"T_0d4ca_row16_col5\" class=\"data row16 col5\" >27406</td>\n",
       "      <td id=\"T_0d4ca_row16_col6\" class=\"data row16 col6\" >52820</td>\n",
       "      <td id=\"T_0d4ca_row16_col7\" class=\"data row16 col7\" >24010</td>\n",
       "      <td id=\"T_0d4ca_row16_col8\" class=\"data row16 col8\" >27406</td>\n",
       "      <td id=\"T_0d4ca_row16_col9\" class=\"data row16 col9\" >24010.000000</td>\n",
       "    </tr>\n",
       "    <tr>\n",
       "      <th id=\"T_0d4ca_level0_row17\" class=\"row_heading level0 row17\" >45</th>\n",
       "      <td id=\"T_0d4ca_row17_col0\" class=\"data row17 col0\" >lift_source/\"min:subs\"</td>\n",
       "      <td id=\"T_0d4ca_row17_col1\" class=\"data row17 col1\" >24333</td>\n",
       "      <td id=\"T_0d4ca_row17_col2\" class=\"data row17 col2\" >24341</td>\n",
       "      <td id=\"T_0d4ca_row17_col3\" class=\"data row17 col3\" >51516</td>\n",
       "      <td id=\"T_0d4ca_row17_col4\" class=\"data row17 col4\" >28139</td>\n",
       "      <td id=\"T_0d4ca_row17_col5\" class=\"data row17 col5\" >28086</td>\n",
       "      <td id=\"T_0d4ca_row17_col6\" class=\"data row17 col6\" >51338</td>\n",
       "      <td id=\"T_0d4ca_row17_col7\" class=\"data row17 col7\" >22854</td>\n",
       "      <td id=\"T_0d4ca_row17_col8\" class=\"data row17 col8\" >28139</td>\n",
       "      <td id=\"T_0d4ca_row17_col9\" class=\"data row17 col9\" >22854.000000</td>\n",
       "    </tr>\n",
       "    <tr>\n",
       "      <th id=\"T_0d4ca_level0_row18\" class=\"row_heading level0 row18\" >46</th>\n",
       "      <td id=\"T_0d4ca_row18_col0\" class=\"data row18 col0\" >lift_source/\"min:tests\"</td>\n",
       "      <td id=\"T_0d4ca_row18_col1\" class=\"data row18 col1\" >11190</td>\n",
       "      <td id=\"T_0d4ca_row18_col2\" class=\"data row18 col2\" >11935</td>\n",
       "      <td id=\"T_0d4ca_row18_col3\" class=\"data row18 col3\" >20329</td>\n",
       "      <td id=\"T_0d4ca_row18_col4\" class=\"data row18 col4\" >12691</td>\n",
       "      <td id=\"T_0d4ca_row18_col5\" class=\"data row18 col5\" >12692</td>\n",
       "      <td id=\"T_0d4ca_row18_col6\" class=\"data row18 col6\" >20330</td>\n",
       "      <td id=\"T_0d4ca_row18_col7\" class=\"data row18 col7\" >9865</td>\n",
       "      <td id=\"T_0d4ca_row18_col8\" class=\"data row18 col8\" >12684</td>\n",
       "      <td id=\"T_0d4ca_row18_col9\" class=\"data row18 col9\" >9865.000000</td>\n",
       "    </tr>\n",
       "    <tr>\n",
       "      <th id=\"T_0d4ca_level0_row19\" class=\"row_heading level0 row19\" >47</th>\n",
       "      <td id=\"T_0d4ca_row19_col0\" class=\"data row19 col0\" >lift_source/\"min:xchg\"</td>\n",
       "      <td id=\"T_0d4ca_row19_col1\" class=\"data row19 col1\" >2813</td>\n",
       "      <td id=\"T_0d4ca_row19_col2\" class=\"data row19 col2\" >2813</td>\n",
       "      <td id=\"T_0d4ca_row19_col3\" class=\"data row19 col3\" >2813</td>\n",
       "      <td id=\"T_0d4ca_row19_col4\" class=\"data row19 col4\" >2813</td>\n",
       "      <td id=\"T_0d4ca_row19_col5\" class=\"data row19 col5\" >2812</td>\n",
       "      <td id=\"T_0d4ca_row19_col6\" class=\"data row19 col6\" >2813</td>\n",
       "      <td id=\"T_0d4ca_row19_col7\" class=\"data row19 col7\" >2955</td>\n",
       "      <td id=\"T_0d4ca_row19_col8\" class=\"data row19 col8\" >2813</td>\n",
       "      <td id=\"T_0d4ca_row19_col9\" class=\"data row19 col9\" >2955.000000</td>\n",
       "    </tr>\n",
       "    <tr>\n",
       "      <th id=\"T_0d4ca_level0_row20\" class=\"row_heading level0 row20\" >48</th>\n",
       "      <td id=\"T_0d4ca_row20_col0\" class=\"data row20 col0\" >lift_source/\"min:xors\"</td>\n",
       "      <td id=\"T_0d4ca_row20_col1\" class=\"data row20 col1\" >21208</td>\n",
       "      <td id=\"T_0d4ca_row20_col2\" class=\"data row20 col2\" >21207</td>\n",
       "      <td id=\"T_0d4ca_row20_col3\" class=\"data row20 col3\" >39332</td>\n",
       "      <td id=\"T_0d4ca_row20_col4\" class=\"data row20 col4\" >24974</td>\n",
       "      <td id=\"T_0d4ca_row20_col5\" class=\"data row20 col5\" >24921</td>\n",
       "      <td id=\"T_0d4ca_row20_col6\" class=\"data row20 col6\" >39262</td>\n",
       "      <td id=\"T_0d4ca_row20_col7\" class=\"data row20 col7\" >18874</td>\n",
       "      <td id=\"T_0d4ca_row20_col8\" class=\"data row20 col8\" >24967</td>\n",
       "      <td id=\"T_0d4ca_row20_col9\" class=\"data row20 col9\" >18874.000000</td>\n",
       "    </tr>\n",
       "    <tr>\n",
       "      <th id=\"T_0d4ca_level0_row21\" class=\"row_heading level0 row21\" >49</th>\n",
       "      <td id=\"T_0d4ca_row21_col0\" class=\"data row21 col0\" >lift_source/\"big:muls\"</td>\n",
       "      <td id=\"T_0d4ca_row21_col1\" class=\"data row21 col1\" >55274</td>\n",
       "      <td id=\"T_0d4ca_row21_col2\" class=\"data row21 col2\" >55872</td>\n",
       "      <td id=\"T_0d4ca_row21_col3\" class=\"data row21 col3\" >66059</td>\n",
       "      <td id=\"T_0d4ca_row21_col4\" class=\"data row21 col4\" >26307</td>\n",
       "      <td id=\"T_0d4ca_row21_col5\" class=\"data row21 col5\" >57125</td>\n",
       "      <td id=\"T_0d4ca_row21_col6\" class=\"data row21 col6\" >35274</td>\n",
       "      <td id=\"T_0d4ca_row21_col7\" class=\"data row21 col7\" >20553</td>\n",
       "      <td id=\"T_0d4ca_row21_col8\" class=\"data row21 col8\" >25310</td>\n",
       "      <td id=\"T_0d4ca_row21_col9\" class=\"data row21 col9\" >20614.000000</td>\n",
       "    </tr>\n",
       "    <tr>\n",
       "      <th id=\"T_0d4ca_level0_row22\" class=\"row_heading level0 row22\" >50</th>\n",
       "      <td id=\"T_0d4ca_row22_col0\" class=\"data row22 col0\" >lift_source/\"big:divs\"</td>\n",
       "      <td id=\"T_0d4ca_row22_col1\" class=\"data row22 col1\" >150072</td>\n",
       "      <td id=\"T_0d4ca_row22_col2\" class=\"data row22 col2\" >149635</td>\n",
       "      <td id=\"T_0d4ca_row22_col3\" class=\"data row22 col3\" >151801</td>\n",
       "      <td id=\"T_0d4ca_row22_col4\" class=\"data row22 col4\" >150125</td>\n",
       "      <td id=\"T_0d4ca_row22_col5\" class=\"data row22 col5\" >140824</td>\n",
       "      <td id=\"T_0d4ca_row22_col6\" class=\"data row22 col6\" >142509</td>\n",
       "      <td id=\"T_0d4ca_row22_col7\" class=\"data row22 col7\" >137258</td>\n",
       "      <td id=\"T_0d4ca_row22_col8\" class=\"data row22 col8\" >140351</td>\n",
       "      <td id=\"T_0d4ca_row22_col9\" class=\"data row22 col9\" >104494.000000</td>\n",
       "    </tr>\n",
       "    <tr>\n",
       "      <th id=\"T_0d4ca_level0_row23\" class=\"row_heading level0 row23\" >51</th>\n",
       "      <td id=\"T_0d4ca_row23_col0\" class=\"data row23 col0\" >lift_source/\"big:3d_image_toolkit\"</td>\n",
       "      <td id=\"T_0d4ca_row23_col1\" class=\"data row23 col1\" >175079</td>\n",
       "      <td id=\"T_0d4ca_row23_col2\" class=\"data row23 col2\" >175034</td>\n",
       "      <td id=\"T_0d4ca_row23_col3\" class=\"data row23 col3\" >218548</td>\n",
       "      <td id=\"T_0d4ca_row23_col4\" class=\"data row23 col4\" >161149</td>\n",
       "      <td id=\"T_0d4ca_row23_col5\" class=\"data row23 col5\" >142400</td>\n",
       "      <td id=\"T_0d4ca_row23_col6\" class=\"data row23 col6\" >161282</td>\n",
       "      <td id=\"T_0d4ca_row23_col7\" class=\"data row23 col7\" >122863</td>\n",
       "      <td id=\"T_0d4ca_row23_col8\" class=\"data row23 col8\" >122513</td>\n",
       "      <td id=\"T_0d4ca_row23_col9\" class=\"data row23 col9\" >122576.000000</td>\n",
       "    </tr>\n",
       "    <tr>\n",
       "      <th id=\"T_0d4ca_level0_row24\" class=\"row_heading level0 row24\" >52</th>\n",
       "      <td id=\"T_0d4ca_row24_col0\" class=\"data row24 col0\" >lift_source/\"big:router_simulator\"</td>\n",
       "      <td id=\"T_0d4ca_row24_col1\" class=\"data row24 col1\" >141972</td>\n",
       "      <td id=\"T_0d4ca_row24_col2\" class=\"data row24 col2\" >142115</td>\n",
       "      <td id=\"T_0d4ca_row24_col3\" class=\"data row24 col3\" >190355</td>\n",
       "      <td id=\"T_0d4ca_row24_col4\" class=\"data row24 col4\" >132052</td>\n",
       "      <td id=\"T_0d4ca_row24_col5\" class=\"data row24 col5\" >170889</td>\n",
       "      <td id=\"T_0d4ca_row24_col6\" class=\"data row24 col6\" >197680</td>\n",
       "      <td id=\"T_0d4ca_row24_col7\" class=\"data row24 col7\" >122337</td>\n",
       "      <td id=\"T_0d4ca_row24_col8\" class=\"data row24 col8\" >155257</td>\n",
       "      <td id=\"T_0d4ca_row24_col9\" class=\"data row24 col9\" >nan</td>\n",
       "    </tr>\n",
       "    <tr>\n",
       "      <th id=\"T_0d4ca_level0_row25\" class=\"row_heading level0 row25\" >53</th>\n",
       "      <td id=\"T_0d4ca_row25_col0\" class=\"data row25 col0\" >lift_source/\"big:lan_simulator\"</td>\n",
       "      <td id=\"T_0d4ca_row25_col1\" class=\"data row25 col1\" >176029</td>\n",
       "      <td id=\"T_0d4ca_row25_col2\" class=\"data row25 col2\" >176072</td>\n",
       "      <td id=\"T_0d4ca_row25_col3\" class=\"data row25 col3\" >237173</td>\n",
       "      <td id=\"T_0d4ca_row25_col4\" class=\"data row25 col4\" >170313</td>\n",
       "      <td id=\"T_0d4ca_row25_col5\" class=\"data row25 col5\" >147874</td>\n",
       "      <td id=\"T_0d4ca_row25_col6\" class=\"data row25 col6\" >184420</td>\n",
       "      <td id=\"T_0d4ca_row25_col7\" class=\"data row25 col7\" >130268</td>\n",
       "      <td id=\"T_0d4ca_row25_col8\" class=\"data row25 col8\" >131874</td>\n",
       "      <td id=\"T_0d4ca_row25_col9\" class=\"data row25 col9\" >nan</td>\n",
       "    </tr>\n",
       "    <tr>\n",
       "      <th id=\"T_0d4ca_level0_row26\" class=\"row_heading level0 row26\" >54</th>\n",
       "      <td id=\"T_0d4ca_row26_col0\" class=\"data row26 col0\" >lift_source/\"big:tiny86\"</td>\n",
       "      <td id=\"T_0d4ca_row26_col1\" class=\"data row26 col1\" >272373</td>\n",
       "      <td id=\"T_0d4ca_row26_col2\" class=\"data row26 col2\" >272246</td>\n",
       "      <td id=\"T_0d4ca_row26_col3\" class=\"data row26 col3\" >655033</td>\n",
       "      <td id=\"T_0d4ca_row26_col4\" class=\"data row26 col4\" >304367</td>\n",
       "      <td id=\"T_0d4ca_row26_col5\" class=\"data row26 col5\" >325628</td>\n",
       "      <td id=\"T_0d4ca_row26_col6\" class=\"data row26 col6\" >615935</td>\n",
       "      <td id=\"T_0d4ca_row26_col7\" class=\"data row26 col7\" >293131</td>\n",
       "      <td id=\"T_0d4ca_row26_col8\" class=\"data row26 col8\" >261606</td>\n",
       "      <td id=\"T_0d4ca_row26_col9\" class=\"data row26 col9\" >nan</td>\n",
       "    </tr>\n",
       "  </tbody>\n",
       "</table>\n"
      ],
      "text/plain": [
       "<pandas.io.formats.style.Styler at 0x13211fc10>"
      ]
     },
     "execution_count": 19,
     "metadata": {},
     "output_type": "execute_result"
    }
   ],
   "source": [
    "relative = False\n",
    "values = False\n",
    "\n",
    "instances = [\n",
    "    (noopt, \"noopt\"),\n",
    "    #(noopt_new, \"noopt-new\"), \n",
    "    (eqsat, \"eqsat\"), \n",
    "    #(llvm, \"llvm\"), \n",
    "    #(sel, \"eqsat-ll\"), \n",
    "    (conadd, \"conadd\"),\n",
    "    (conmul, \"conmul\"),\n",
    "    (condiv, \"condiv\"), \n",
    "    (conall, \"conall\"), \n",
    "    #(scal, \"sim-conall\"),\n",
    "    #(scmml, \"conmul-mux\"),\n",
    "    (scaml, \"conall-mux\"),\n",
    "    (scmcdml, \"conmul-condiv-mux\"),\n",
    "    (scalmle, \"conall-mux-eqsat\")\n",
    "]\n",
    "\n",
    "df = difference(instances, ['V:CELLS'], relative, values)\n",
    "view = df[df['name'].str.startswith(\"lift_source\")]\n",
    "\n",
    "columns = [\n",
    "    'noopt', \n",
    "    #'noopt-new',\n",
    "    'eqsat', \n",
    "    #'llvm', \n",
    "    #'eqsat-ll',\n",
    "    'conadd',\n",
    "    'conmul', \n",
    "    'condiv', \n",
    "    'conall', \n",
    "    #'sim-conall', \n",
    "    #'conmul-mux', \n",
    "    'conall-mux',\n",
    "    'conmul-condiv-mux',\n",
    "    'conall-mux-eqsat'\n",
    "]\n",
    "\n",
    "view.style \\\n",
    "    .apply(lambda x: [\"color:red;\" if v > x.iloc[0] else \"\" for v in x], axis = 1, subset=columns) \\\n",
    "    .apply(lambda x: [\"color:green;\" if v < x.iloc[0] else \"\" for v in x], axis = 1, subset=columns) \\\n",
    "    .apply(highlight_max, props='color:white;background-color:green', axis=1, subset=columns)"
   ]
  },
  {
   "cell_type": "code",
   "execution_count": 13,
   "id": "c5f0ba52",
   "metadata": {},
   "outputs": [],
   "source": [
    "# new_noopt, new_simpl, new_conju = load('23-02-07')\n",
    "# abc_noopt, abc_simpl, abc_conju = load('23-01-25')"
   ]
  },
  {
   "cell_type": "code",
   "execution_count": 245,
   "id": "5c0ac21e",
   "metadata": {},
   "outputs": [],
   "source": [
    "# pd.merge(new_noopt, abc_noopt, how='inner', on='name')"
   ]
  },
  {
   "cell_type": "code",
   "execution_count": 176,
   "id": "8a326a1d",
   "metadata": {
    "scrolled": false
   },
   "outputs": [
    {
     "data": {
      "application/vnd.plotly.v1+json": {
       "config": {
        "plotlyServerURL": "https://plot.ly"
       },
       "data": [
        {
         "hovertemplate": "V:CELLS-new-noopt=%{x}<br>V:CELLS-sim-conmul-mux-llvm-eqsat=%{y}<br>name=%{text}<extra></extra>",
         "legendgroup": "",
         "marker": {
          "color": "#636efa",
          "symbol": "circle"
         },
         "mode": "markers",
         "name": "",
         "orientation": "v",
         "showlegend": false,
         "text": [
          "lift_bytes/\"min:AND_AL_IMMb\"",
          "lift_bytes/\"min:LEA_GPRv_AGEN_32\"",
          "lift_bytes/\"min:LODSB\"",
          "lift_bytes/\"min:LODSB\"",
          "lift_bytes/\"min:LODSB\"",
          "lift_bytes/\"min:LODSB\"",
          "lift_bytes/\"min:LOOP_RELBRb\"",
          "lift_bytes/\"min:MOVSB\"",
          "lift_bytes/\"min:MOV_GPR8_GPR8_8A\"",
          "lift_bytes/\"min:OR_GPRv_IMMz_32\"",
          "lift_bytes/\"min:POPAD_32\"",
          "lift_bytes/\"min:PUSH_IMMz_32\"",
          "lift_bytes/\"min:PUSH_MEMv_32\"",
          "lift_bytes/\"min:SUB_AL_IMMb\"",
          "lift_bytes/\"min:SUB_GPRv_MEMv_32\"",
          "lift_bytes/\"min:XOR_GPR8_GPR8_32\"",
          "lift_bytes/\"min:XOR_GPRv_IMMz_32\"",
          "lift_bytes/\"min:XOR_OrAX_IMMz_32\"",
          "lift_bytes/\"min:DIV_GPRv_32\"",
          "lift_bytes/\"min:DIV_MEMv_32\"",
          "lift_bytes/\"min:AND_MEMb_GPR8\"",
          "lift_bytes/\"min:ADD_GPR8_GPR8_02\"",
          "lift_bytes/\"min:ADD_MEMb_GPR8\"",
          "lift_bytes/\"min:IMUL_GPRv_MEMv_IMMz_16\"",
          "lift_bytes/\"min:IMUL_GPRv_MEMv_IMMz_32\"",
          "lift_bytes/\"min:IMUL_MEMb\"",
          "lift_bytes/\"min:MOV_MEMv_GPRv_16\"",
          "lift_bytes/\"min:MOV_RAX_RAX\"",
          "lift_bytes/\"min:AND_ONE_CHILD_1\"",
          "lift_bytes/\"min:AND_ONE_CHILD_2\"",
          "lift_source/\"min:small\"",
          "lift_source/\"min:adcs\"",
          "lift_source/\"min:adds\"",
          "lift_source/\"min:ands\"",
          "lift_source/\"min:calls\"",
          "lift_source/\"min:cmps\"",
          "lift_source/\"min:decs\"",
          "lift_source/\"min:mul-16\"",
          "lift_source/\"min:idivs\"",
          "lift_source/\"min:incs\"",
          "lift_source/\"min:jmps\"",
          "lift_source/\"min:leas\"",
          "lift_source/\"min:movs\"",
          "lift_source/\"min:ors\"",
          "lift_source/\"min:stack\"",
          "lift_source/\"min:sbbs\"",
          "lift_source/\"min:subs\"",
          "lift_source/\"min:tests\"",
          "lift_source/\"min:xchg\"",
          "lift_source/\"min:xors\"",
          "lift_source/\"big:muls\"",
          "lift_source/\"big:divs\"",
          "lift_source/\"big:3d_image_toolkit\"",
          "lift_source/\"big:router_simulator\"",
          "lift_source/\"big:lan_simulator\"",
          "lift_source/\"big:tiny86\""
         ],
         "type": "scatter",
         "x": [
          1393,
          2628,
          1393,
          1393,
          1934,
          1934,
          1799,
          2629,
          1973,
          2133,
          3163,
          1993,
          2930,
          1447,
          3514,
          2148,
          2134,
          1561,
          33932,
          34727,
          2936,
          2267,
          3805,
          2712,
          11949,
          2928,
          1946,
          3310,
          1270,
          2299,
          2481,
          50302,
          51753,
          51573,
          10964,
          34307,
          34313,
          10411,
          84396,
          21163,
          11178,
          8308,
          36657,
          47615,
          21413,
          49254,
          50924,
          22680,
          2754,
          50115,
          77143,
          156021,
          196349,
          165614,
          200890,
          373454
         ],
         "xaxis": "x",
         "y": [
          1393,
          2628,
          1393,
          1934,
          1393,
          1934,
          1799,
          2629,
          1973,
          2133,
          3163,
          1993,
          2930,
          1447,
          3516,
          2148,
          2134,
          1561,
          33932,
          34727,
          2936,
          2267,
          3805,
          2712,
          11940,
          2931,
          1946,
          3450,
          1270,
          2335,
          2486,
          51892,
          53521,
          53323,
          11085,
          35378,
          35374,
          10827,
          77181,
          21536,
          11758,
          8456,
          37967,
          49296,
          21966,
          50775,
          52626,
          23528,
          2754,
          51882,
          46398,
          146398,
          141915,
          145176,
          152905,
          359547
         ],
         "yaxis": "y"
        }
       ],
       "layout": {
        "hovermode": "x",
        "legend": {
         "tracegroupgap": 0
        },
        "margin": {
         "t": 60
        },
        "shapes": [
         {
          "line": {
           "color": "gray",
           "width": 1
          },
          "type": "line",
          "x0": 0,
          "x1": 733001,
          "xref": "x",
          "y0": 0,
          "y1": 733001,
          "yref": "y"
         }
        ],
        "template": {
         "data": {
          "bar": [
           {
            "error_x": {
             "color": "#2a3f5f"
            },
            "error_y": {
             "color": "#2a3f5f"
            },
            "marker": {
             "line": {
              "color": "white",
              "width": 0.5
             },
             "pattern": {
              "fillmode": "overlay",
              "size": 10,
              "solidity": 0.2
             }
            },
            "type": "bar"
           }
          ],
          "barpolar": [
           {
            "marker": {
             "line": {
              "color": "white",
              "width": 0.5
             },
             "pattern": {
              "fillmode": "overlay",
              "size": 10,
              "solidity": 0.2
             }
            },
            "type": "barpolar"
           }
          ],
          "carpet": [
           {
            "aaxis": {
             "endlinecolor": "#2a3f5f",
             "gridcolor": "#C8D4E3",
             "linecolor": "#C8D4E3",
             "minorgridcolor": "#C8D4E3",
             "startlinecolor": "#2a3f5f"
            },
            "baxis": {
             "endlinecolor": "#2a3f5f",
             "gridcolor": "#C8D4E3",
             "linecolor": "#C8D4E3",
             "minorgridcolor": "#C8D4E3",
             "startlinecolor": "#2a3f5f"
            },
            "type": "carpet"
           }
          ],
          "choropleth": [
           {
            "colorbar": {
             "outlinewidth": 0,
             "ticks": ""
            },
            "type": "choropleth"
           }
          ],
          "contour": [
           {
            "colorbar": {
             "outlinewidth": 0,
             "ticks": ""
            },
            "colorscale": [
             [
              0,
              "#0d0887"
             ],
             [
              0.1111111111111111,
              "#46039f"
             ],
             [
              0.2222222222222222,
              "#7201a8"
             ],
             [
              0.3333333333333333,
              "#9c179e"
             ],
             [
              0.4444444444444444,
              "#bd3786"
             ],
             [
              0.5555555555555556,
              "#d8576b"
             ],
             [
              0.6666666666666666,
              "#ed7953"
             ],
             [
              0.7777777777777778,
              "#fb9f3a"
             ],
             [
              0.8888888888888888,
              "#fdca26"
             ],
             [
              1,
              "#f0f921"
             ]
            ],
            "type": "contour"
           }
          ],
          "contourcarpet": [
           {
            "colorbar": {
             "outlinewidth": 0,
             "ticks": ""
            },
            "type": "contourcarpet"
           }
          ],
          "heatmap": [
           {
            "colorbar": {
             "outlinewidth": 0,
             "ticks": ""
            },
            "colorscale": [
             [
              0,
              "#0d0887"
             ],
             [
              0.1111111111111111,
              "#46039f"
             ],
             [
              0.2222222222222222,
              "#7201a8"
             ],
             [
              0.3333333333333333,
              "#9c179e"
             ],
             [
              0.4444444444444444,
              "#bd3786"
             ],
             [
              0.5555555555555556,
              "#d8576b"
             ],
             [
              0.6666666666666666,
              "#ed7953"
             ],
             [
              0.7777777777777778,
              "#fb9f3a"
             ],
             [
              0.8888888888888888,
              "#fdca26"
             ],
             [
              1,
              "#f0f921"
             ]
            ],
            "type": "heatmap"
           }
          ],
          "heatmapgl": [
           {
            "colorbar": {
             "outlinewidth": 0,
             "ticks": ""
            },
            "colorscale": [
             [
              0,
              "#0d0887"
             ],
             [
              0.1111111111111111,
              "#46039f"
             ],
             [
              0.2222222222222222,
              "#7201a8"
             ],
             [
              0.3333333333333333,
              "#9c179e"
             ],
             [
              0.4444444444444444,
              "#bd3786"
             ],
             [
              0.5555555555555556,
              "#d8576b"
             ],
             [
              0.6666666666666666,
              "#ed7953"
             ],
             [
              0.7777777777777778,
              "#fb9f3a"
             ],
             [
              0.8888888888888888,
              "#fdca26"
             ],
             [
              1,
              "#f0f921"
             ]
            ],
            "type": "heatmapgl"
           }
          ],
          "histogram": [
           {
            "marker": {
             "pattern": {
              "fillmode": "overlay",
              "size": 10,
              "solidity": 0.2
             }
            },
            "type": "histogram"
           }
          ],
          "histogram2d": [
           {
            "colorbar": {
             "outlinewidth": 0,
             "ticks": ""
            },
            "colorscale": [
             [
              0,
              "#0d0887"
             ],
             [
              0.1111111111111111,
              "#46039f"
             ],
             [
              0.2222222222222222,
              "#7201a8"
             ],
             [
              0.3333333333333333,
              "#9c179e"
             ],
             [
              0.4444444444444444,
              "#bd3786"
             ],
             [
              0.5555555555555556,
              "#d8576b"
             ],
             [
              0.6666666666666666,
              "#ed7953"
             ],
             [
              0.7777777777777778,
              "#fb9f3a"
             ],
             [
              0.8888888888888888,
              "#fdca26"
             ],
             [
              1,
              "#f0f921"
             ]
            ],
            "type": "histogram2d"
           }
          ],
          "histogram2dcontour": [
           {
            "colorbar": {
             "outlinewidth": 0,
             "ticks": ""
            },
            "colorscale": [
             [
              0,
              "#0d0887"
             ],
             [
              0.1111111111111111,
              "#46039f"
             ],
             [
              0.2222222222222222,
              "#7201a8"
             ],
             [
              0.3333333333333333,
              "#9c179e"
             ],
             [
              0.4444444444444444,
              "#bd3786"
             ],
             [
              0.5555555555555556,
              "#d8576b"
             ],
             [
              0.6666666666666666,
              "#ed7953"
             ],
             [
              0.7777777777777778,
              "#fb9f3a"
             ],
             [
              0.8888888888888888,
              "#fdca26"
             ],
             [
              1,
              "#f0f921"
             ]
            ],
            "type": "histogram2dcontour"
           }
          ],
          "mesh3d": [
           {
            "colorbar": {
             "outlinewidth": 0,
             "ticks": ""
            },
            "type": "mesh3d"
           }
          ],
          "parcoords": [
           {
            "line": {
             "colorbar": {
              "outlinewidth": 0,
              "ticks": ""
             }
            },
            "type": "parcoords"
           }
          ],
          "pie": [
           {
            "automargin": true,
            "type": "pie"
           }
          ],
          "scatter": [
           {
            "fillpattern": {
             "fillmode": "overlay",
             "size": 10,
             "solidity": 0.2
            },
            "type": "scatter"
           }
          ],
          "scatter3d": [
           {
            "line": {
             "colorbar": {
              "outlinewidth": 0,
              "ticks": ""
             }
            },
            "marker": {
             "colorbar": {
              "outlinewidth": 0,
              "ticks": ""
             }
            },
            "type": "scatter3d"
           }
          ],
          "scattercarpet": [
           {
            "marker": {
             "colorbar": {
              "outlinewidth": 0,
              "ticks": ""
             }
            },
            "type": "scattercarpet"
           }
          ],
          "scattergeo": [
           {
            "marker": {
             "colorbar": {
              "outlinewidth": 0,
              "ticks": ""
             }
            },
            "type": "scattergeo"
           }
          ],
          "scattergl": [
           {
            "marker": {
             "colorbar": {
              "outlinewidth": 0,
              "ticks": ""
             }
            },
            "type": "scattergl"
           }
          ],
          "scattermapbox": [
           {
            "marker": {
             "colorbar": {
              "outlinewidth": 0,
              "ticks": ""
             }
            },
            "type": "scattermapbox"
           }
          ],
          "scatterpolar": [
           {
            "marker": {
             "colorbar": {
              "outlinewidth": 0,
              "ticks": ""
             }
            },
            "type": "scatterpolar"
           }
          ],
          "scatterpolargl": [
           {
            "marker": {
             "colorbar": {
              "outlinewidth": 0,
              "ticks": ""
             }
            },
            "type": "scatterpolargl"
           }
          ],
          "scatterternary": [
           {
            "marker": {
             "colorbar": {
              "outlinewidth": 0,
              "ticks": ""
             }
            },
            "type": "scatterternary"
           }
          ],
          "surface": [
           {
            "colorbar": {
             "outlinewidth": 0,
             "ticks": ""
            },
            "colorscale": [
             [
              0,
              "#0d0887"
             ],
             [
              0.1111111111111111,
              "#46039f"
             ],
             [
              0.2222222222222222,
              "#7201a8"
             ],
             [
              0.3333333333333333,
              "#9c179e"
             ],
             [
              0.4444444444444444,
              "#bd3786"
             ],
             [
              0.5555555555555556,
              "#d8576b"
             ],
             [
              0.6666666666666666,
              "#ed7953"
             ],
             [
              0.7777777777777778,
              "#fb9f3a"
             ],
             [
              0.8888888888888888,
              "#fdca26"
             ],
             [
              1,
              "#f0f921"
             ]
            ],
            "type": "surface"
           }
          ],
          "table": [
           {
            "cells": {
             "fill": {
              "color": "#EBF0F8"
             },
             "line": {
              "color": "white"
             }
            },
            "header": {
             "fill": {
              "color": "#C8D4E3"
             },
             "line": {
              "color": "white"
             }
            },
            "type": "table"
           }
          ]
         },
         "layout": {
          "annotationdefaults": {
           "arrowcolor": "#2a3f5f",
           "arrowhead": 0,
           "arrowwidth": 1
          },
          "autotypenumbers": "strict",
          "coloraxis": {
           "colorbar": {
            "outlinewidth": 0,
            "ticks": ""
           }
          },
          "colorscale": {
           "diverging": [
            [
             0,
             "#8e0152"
            ],
            [
             0.1,
             "#c51b7d"
            ],
            [
             0.2,
             "#de77ae"
            ],
            [
             0.3,
             "#f1b6da"
            ],
            [
             0.4,
             "#fde0ef"
            ],
            [
             0.5,
             "#f7f7f7"
            ],
            [
             0.6,
             "#e6f5d0"
            ],
            [
             0.7,
             "#b8e186"
            ],
            [
             0.8,
             "#7fbc41"
            ],
            [
             0.9,
             "#4d9221"
            ],
            [
             1,
             "#276419"
            ]
           ],
           "sequential": [
            [
             0,
             "#0d0887"
            ],
            [
             0.1111111111111111,
             "#46039f"
            ],
            [
             0.2222222222222222,
             "#7201a8"
            ],
            [
             0.3333333333333333,
             "#9c179e"
            ],
            [
             0.4444444444444444,
             "#bd3786"
            ],
            [
             0.5555555555555556,
             "#d8576b"
            ],
            [
             0.6666666666666666,
             "#ed7953"
            ],
            [
             0.7777777777777778,
             "#fb9f3a"
            ],
            [
             0.8888888888888888,
             "#fdca26"
            ],
            [
             1,
             "#f0f921"
            ]
           ],
           "sequentialminus": [
            [
             0,
             "#0d0887"
            ],
            [
             0.1111111111111111,
             "#46039f"
            ],
            [
             0.2222222222222222,
             "#7201a8"
            ],
            [
             0.3333333333333333,
             "#9c179e"
            ],
            [
             0.4444444444444444,
             "#bd3786"
            ],
            [
             0.5555555555555556,
             "#d8576b"
            ],
            [
             0.6666666666666666,
             "#ed7953"
            ],
            [
             0.7777777777777778,
             "#fb9f3a"
            ],
            [
             0.8888888888888888,
             "#fdca26"
            ],
            [
             1,
             "#f0f921"
            ]
           ]
          },
          "colorway": [
           "#636efa",
           "#EF553B",
           "#00cc96",
           "#ab63fa",
           "#FFA15A",
           "#19d3f3",
           "#FF6692",
           "#B6E880",
           "#FF97FF",
           "#FECB52"
          ],
          "font": {
           "color": "#2a3f5f"
          },
          "geo": {
           "bgcolor": "white",
           "lakecolor": "white",
           "landcolor": "white",
           "showlakes": true,
           "showland": true,
           "subunitcolor": "#C8D4E3"
          },
          "hoverlabel": {
           "align": "left"
          },
          "hovermode": "closest",
          "mapbox": {
           "style": "light"
          },
          "paper_bgcolor": "white",
          "plot_bgcolor": "white",
          "polar": {
           "angularaxis": {
            "gridcolor": "#EBF0F8",
            "linecolor": "#EBF0F8",
            "ticks": ""
           },
           "bgcolor": "white",
           "radialaxis": {
            "gridcolor": "#EBF0F8",
            "linecolor": "#EBF0F8",
            "ticks": ""
           }
          },
          "scene": {
           "xaxis": {
            "backgroundcolor": "white",
            "gridcolor": "#DFE8F3",
            "gridwidth": 2,
            "linecolor": "#EBF0F8",
            "showbackground": true,
            "ticks": "",
            "zerolinecolor": "#EBF0F8"
           },
           "yaxis": {
            "backgroundcolor": "white",
            "gridcolor": "#DFE8F3",
            "gridwidth": 2,
            "linecolor": "#EBF0F8",
            "showbackground": true,
            "ticks": "",
            "zerolinecolor": "#EBF0F8"
           },
           "zaxis": {
            "backgroundcolor": "white",
            "gridcolor": "#DFE8F3",
            "gridwidth": 2,
            "linecolor": "#EBF0F8",
            "showbackground": true,
            "ticks": "",
            "zerolinecolor": "#EBF0F8"
           }
          },
          "shapedefaults": {
           "line": {
            "color": "#2a3f5f"
           }
          },
          "ternary": {
           "aaxis": {
            "gridcolor": "#DFE8F3",
            "linecolor": "#A2B1C6",
            "ticks": ""
           },
           "baxis": {
            "gridcolor": "#DFE8F3",
            "linecolor": "#A2B1C6",
            "ticks": ""
           },
           "bgcolor": "white",
           "caxis": {
            "gridcolor": "#DFE8F3",
            "linecolor": "#A2B1C6",
            "ticks": ""
           }
          },
          "title": {
           "x": 0.05
          },
          "xaxis": {
           "automargin": true,
           "gridcolor": "#EBF0F8",
           "linecolor": "#EBF0F8",
           "ticks": "",
           "title": {
            "standoff": 15
           },
           "zerolinecolor": "#EBF0F8",
           "zerolinewidth": 2
          },
          "yaxis": {
           "automargin": true,
           "gridcolor": "#EBF0F8",
           "linecolor": "#EBF0F8",
           "ticks": "",
           "title": {
            "standoff": 15
           },
           "zerolinecolor": "#EBF0F8",
           "zerolinewidth": 2
          }
         }
        },
        "xaxis": {
         "anchor": "y",
         "domain": [
          0,
          1
         ],
         "title": {
          "text": "V:CELLS-new-noopt"
         }
        },
        "yaxis": {
         "anchor": "x",
         "domain": [
          0,
          1
         ],
         "title": {
          "text": "V:CELLS-sim-conmul-mux-llvm-eqsat"
         }
        }
       }
      },
      "text/html": [
       "<div>                            <div id=\"e702d251-f44c-4582-8197-9d8f32d907d0\" class=\"plotly-graph-div\" style=\"height:525px; width:100%;\"></div>            <script type=\"text/javascript\">                require([\"plotly\"], function(Plotly) {                    window.PLOTLYENV=window.PLOTLYENV || {};                                    if (document.getElementById(\"e702d251-f44c-4582-8197-9d8f32d907d0\")) {                    Plotly.newPlot(                        \"e702d251-f44c-4582-8197-9d8f32d907d0\",                        [{\"hovertemplate\":\"V:CELLS-new-noopt=%{x}<br>V:CELLS-sim-conmul-mux-llvm-eqsat=%{y}<br>name=%{text}<extra></extra>\",\"legendgroup\":\"\",\"marker\":{\"color\":\"#636efa\",\"symbol\":\"circle\"},\"mode\":\"markers\",\"name\":\"\",\"orientation\":\"v\",\"showlegend\":false,\"text\":[\"lift_bytes/\\\"min:AND_AL_IMMb\\\"\",\"lift_bytes/\\\"min:LEA_GPRv_AGEN_32\\\"\",\"lift_bytes/\\\"min:LODSB\\\"\",\"lift_bytes/\\\"min:LODSB\\\"\",\"lift_bytes/\\\"min:LODSB\\\"\",\"lift_bytes/\\\"min:LODSB\\\"\",\"lift_bytes/\\\"min:LOOP_RELBRb\\\"\",\"lift_bytes/\\\"min:MOVSB\\\"\",\"lift_bytes/\\\"min:MOV_GPR8_GPR8_8A\\\"\",\"lift_bytes/\\\"min:OR_GPRv_IMMz_32\\\"\",\"lift_bytes/\\\"min:POPAD_32\\\"\",\"lift_bytes/\\\"min:PUSH_IMMz_32\\\"\",\"lift_bytes/\\\"min:PUSH_MEMv_32\\\"\",\"lift_bytes/\\\"min:SUB_AL_IMMb\\\"\",\"lift_bytes/\\\"min:SUB_GPRv_MEMv_32\\\"\",\"lift_bytes/\\\"min:XOR_GPR8_GPR8_32\\\"\",\"lift_bytes/\\\"min:XOR_GPRv_IMMz_32\\\"\",\"lift_bytes/\\\"min:XOR_OrAX_IMMz_32\\\"\",\"lift_bytes/\\\"min:DIV_GPRv_32\\\"\",\"lift_bytes/\\\"min:DIV_MEMv_32\\\"\",\"lift_bytes/\\\"min:AND_MEMb_GPR8\\\"\",\"lift_bytes/\\\"min:ADD_GPR8_GPR8_02\\\"\",\"lift_bytes/\\\"min:ADD_MEMb_GPR8\\\"\",\"lift_bytes/\\\"min:IMUL_GPRv_MEMv_IMMz_16\\\"\",\"lift_bytes/\\\"min:IMUL_GPRv_MEMv_IMMz_32\\\"\",\"lift_bytes/\\\"min:IMUL_MEMb\\\"\",\"lift_bytes/\\\"min:MOV_MEMv_GPRv_16\\\"\",\"lift_bytes/\\\"min:MOV_RAX_RAX\\\"\",\"lift_bytes/\\\"min:AND_ONE_CHILD_1\\\"\",\"lift_bytes/\\\"min:AND_ONE_CHILD_2\\\"\",\"lift_source/\\\"min:small\\\"\",\"lift_source/\\\"min:adcs\\\"\",\"lift_source/\\\"min:adds\\\"\",\"lift_source/\\\"min:ands\\\"\",\"lift_source/\\\"min:calls\\\"\",\"lift_source/\\\"min:cmps\\\"\",\"lift_source/\\\"min:decs\\\"\",\"lift_source/\\\"min:mul-16\\\"\",\"lift_source/\\\"min:idivs\\\"\",\"lift_source/\\\"min:incs\\\"\",\"lift_source/\\\"min:jmps\\\"\",\"lift_source/\\\"min:leas\\\"\",\"lift_source/\\\"min:movs\\\"\",\"lift_source/\\\"min:ors\\\"\",\"lift_source/\\\"min:stack\\\"\",\"lift_source/\\\"min:sbbs\\\"\",\"lift_source/\\\"min:subs\\\"\",\"lift_source/\\\"min:tests\\\"\",\"lift_source/\\\"min:xchg\\\"\",\"lift_source/\\\"min:xors\\\"\",\"lift_source/\\\"big:muls\\\"\",\"lift_source/\\\"big:divs\\\"\",\"lift_source/\\\"big:3d_image_toolkit\\\"\",\"lift_source/\\\"big:router_simulator\\\"\",\"lift_source/\\\"big:lan_simulator\\\"\",\"lift_source/\\\"big:tiny86\\\"\"],\"x\":[1393,2628,1393,1393,1934,1934,1799,2629,1973,2133,3163,1993,2930,1447,3514,2148,2134,1561,33932,34727,2936,2267,3805,2712,11949,2928,1946,3310,1270,2299,2481,50302,51753,51573,10964,34307,34313,10411,84396,21163,11178,8308,36657,47615,21413,49254,50924,22680,2754,50115,77143,156021,196349,165614,200890,373454],\"xaxis\":\"x\",\"y\":[1393,2628,1393,1934,1393,1934,1799,2629,1973,2133,3163,1993,2930,1447,3516,2148,2134,1561,33932,34727,2936,2267,3805,2712,11940,2931,1946,3450,1270,2335,2486,51892,53521,53323,11085,35378,35374,10827,77181,21536,11758,8456,37967,49296,21966,50775,52626,23528,2754,51882,46398,146398,141915,145176,152905,359547],\"yaxis\":\"y\",\"type\":\"scatter\"}],                        {\"template\":{\"data\":{\"barpolar\":[{\"marker\":{\"line\":{\"color\":\"white\",\"width\":0.5},\"pattern\":{\"fillmode\":\"overlay\",\"size\":10,\"solidity\":0.2}},\"type\":\"barpolar\"}],\"bar\":[{\"error_x\":{\"color\":\"#2a3f5f\"},\"error_y\":{\"color\":\"#2a3f5f\"},\"marker\":{\"line\":{\"color\":\"white\",\"width\":0.5},\"pattern\":{\"fillmode\":\"overlay\",\"size\":10,\"solidity\":0.2}},\"type\":\"bar\"}],\"carpet\":[{\"aaxis\":{\"endlinecolor\":\"#2a3f5f\",\"gridcolor\":\"#C8D4E3\",\"linecolor\":\"#C8D4E3\",\"minorgridcolor\":\"#C8D4E3\",\"startlinecolor\":\"#2a3f5f\"},\"baxis\":{\"endlinecolor\":\"#2a3f5f\",\"gridcolor\":\"#C8D4E3\",\"linecolor\":\"#C8D4E3\",\"minorgridcolor\":\"#C8D4E3\",\"startlinecolor\":\"#2a3f5f\"},\"type\":\"carpet\"}],\"choropleth\":[{\"colorbar\":{\"outlinewidth\":0,\"ticks\":\"\"},\"type\":\"choropleth\"}],\"contourcarpet\":[{\"colorbar\":{\"outlinewidth\":0,\"ticks\":\"\"},\"type\":\"contourcarpet\"}],\"contour\":[{\"colorbar\":{\"outlinewidth\":0,\"ticks\":\"\"},\"colorscale\":[[0.0,\"#0d0887\"],[0.1111111111111111,\"#46039f\"],[0.2222222222222222,\"#7201a8\"],[0.3333333333333333,\"#9c179e\"],[0.4444444444444444,\"#bd3786\"],[0.5555555555555556,\"#d8576b\"],[0.6666666666666666,\"#ed7953\"],[0.7777777777777778,\"#fb9f3a\"],[0.8888888888888888,\"#fdca26\"],[1.0,\"#f0f921\"]],\"type\":\"contour\"}],\"heatmapgl\":[{\"colorbar\":{\"outlinewidth\":0,\"ticks\":\"\"},\"colorscale\":[[0.0,\"#0d0887\"],[0.1111111111111111,\"#46039f\"],[0.2222222222222222,\"#7201a8\"],[0.3333333333333333,\"#9c179e\"],[0.4444444444444444,\"#bd3786\"],[0.5555555555555556,\"#d8576b\"],[0.6666666666666666,\"#ed7953\"],[0.7777777777777778,\"#fb9f3a\"],[0.8888888888888888,\"#fdca26\"],[1.0,\"#f0f921\"]],\"type\":\"heatmapgl\"}],\"heatmap\":[{\"colorbar\":{\"outlinewidth\":0,\"ticks\":\"\"},\"colorscale\":[[0.0,\"#0d0887\"],[0.1111111111111111,\"#46039f\"],[0.2222222222222222,\"#7201a8\"],[0.3333333333333333,\"#9c179e\"],[0.4444444444444444,\"#bd3786\"],[0.5555555555555556,\"#d8576b\"],[0.6666666666666666,\"#ed7953\"],[0.7777777777777778,\"#fb9f3a\"],[0.8888888888888888,\"#fdca26\"],[1.0,\"#f0f921\"]],\"type\":\"heatmap\"}],\"histogram2dcontour\":[{\"colorbar\":{\"outlinewidth\":0,\"ticks\":\"\"},\"colorscale\":[[0.0,\"#0d0887\"],[0.1111111111111111,\"#46039f\"],[0.2222222222222222,\"#7201a8\"],[0.3333333333333333,\"#9c179e\"],[0.4444444444444444,\"#bd3786\"],[0.5555555555555556,\"#d8576b\"],[0.6666666666666666,\"#ed7953\"],[0.7777777777777778,\"#fb9f3a\"],[0.8888888888888888,\"#fdca26\"],[1.0,\"#f0f921\"]],\"type\":\"histogram2dcontour\"}],\"histogram2d\":[{\"colorbar\":{\"outlinewidth\":0,\"ticks\":\"\"},\"colorscale\":[[0.0,\"#0d0887\"],[0.1111111111111111,\"#46039f\"],[0.2222222222222222,\"#7201a8\"],[0.3333333333333333,\"#9c179e\"],[0.4444444444444444,\"#bd3786\"],[0.5555555555555556,\"#d8576b\"],[0.6666666666666666,\"#ed7953\"],[0.7777777777777778,\"#fb9f3a\"],[0.8888888888888888,\"#fdca26\"],[1.0,\"#f0f921\"]],\"type\":\"histogram2d\"}],\"histogram\":[{\"marker\":{\"pattern\":{\"fillmode\":\"overlay\",\"size\":10,\"solidity\":0.2}},\"type\":\"histogram\"}],\"mesh3d\":[{\"colorbar\":{\"outlinewidth\":0,\"ticks\":\"\"},\"type\":\"mesh3d\"}],\"parcoords\":[{\"line\":{\"colorbar\":{\"outlinewidth\":0,\"ticks\":\"\"}},\"type\":\"parcoords\"}],\"pie\":[{\"automargin\":true,\"type\":\"pie\"}],\"scatter3d\":[{\"line\":{\"colorbar\":{\"outlinewidth\":0,\"ticks\":\"\"}},\"marker\":{\"colorbar\":{\"outlinewidth\":0,\"ticks\":\"\"}},\"type\":\"scatter3d\"}],\"scattercarpet\":[{\"marker\":{\"colorbar\":{\"outlinewidth\":0,\"ticks\":\"\"}},\"type\":\"scattercarpet\"}],\"scattergeo\":[{\"marker\":{\"colorbar\":{\"outlinewidth\":0,\"ticks\":\"\"}},\"type\":\"scattergeo\"}],\"scattergl\":[{\"marker\":{\"colorbar\":{\"outlinewidth\":0,\"ticks\":\"\"}},\"type\":\"scattergl\"}],\"scattermapbox\":[{\"marker\":{\"colorbar\":{\"outlinewidth\":0,\"ticks\":\"\"}},\"type\":\"scattermapbox\"}],\"scatterpolargl\":[{\"marker\":{\"colorbar\":{\"outlinewidth\":0,\"ticks\":\"\"}},\"type\":\"scatterpolargl\"}],\"scatterpolar\":[{\"marker\":{\"colorbar\":{\"outlinewidth\":0,\"ticks\":\"\"}},\"type\":\"scatterpolar\"}],\"scatter\":[{\"fillpattern\":{\"fillmode\":\"overlay\",\"size\":10,\"solidity\":0.2},\"type\":\"scatter\"}],\"scatterternary\":[{\"marker\":{\"colorbar\":{\"outlinewidth\":0,\"ticks\":\"\"}},\"type\":\"scatterternary\"}],\"surface\":[{\"colorbar\":{\"outlinewidth\":0,\"ticks\":\"\"},\"colorscale\":[[0.0,\"#0d0887\"],[0.1111111111111111,\"#46039f\"],[0.2222222222222222,\"#7201a8\"],[0.3333333333333333,\"#9c179e\"],[0.4444444444444444,\"#bd3786\"],[0.5555555555555556,\"#d8576b\"],[0.6666666666666666,\"#ed7953\"],[0.7777777777777778,\"#fb9f3a\"],[0.8888888888888888,\"#fdca26\"],[1.0,\"#f0f921\"]],\"type\":\"surface\"}],\"table\":[{\"cells\":{\"fill\":{\"color\":\"#EBF0F8\"},\"line\":{\"color\":\"white\"}},\"header\":{\"fill\":{\"color\":\"#C8D4E3\"},\"line\":{\"color\":\"white\"}},\"type\":\"table\"}]},\"layout\":{\"annotationdefaults\":{\"arrowcolor\":\"#2a3f5f\",\"arrowhead\":0,\"arrowwidth\":1},\"autotypenumbers\":\"strict\",\"coloraxis\":{\"colorbar\":{\"outlinewidth\":0,\"ticks\":\"\"}},\"colorscale\":{\"diverging\":[[0,\"#8e0152\"],[0.1,\"#c51b7d\"],[0.2,\"#de77ae\"],[0.3,\"#f1b6da\"],[0.4,\"#fde0ef\"],[0.5,\"#f7f7f7\"],[0.6,\"#e6f5d0\"],[0.7,\"#b8e186\"],[0.8,\"#7fbc41\"],[0.9,\"#4d9221\"],[1,\"#276419\"]],\"sequential\":[[0.0,\"#0d0887\"],[0.1111111111111111,\"#46039f\"],[0.2222222222222222,\"#7201a8\"],[0.3333333333333333,\"#9c179e\"],[0.4444444444444444,\"#bd3786\"],[0.5555555555555556,\"#d8576b\"],[0.6666666666666666,\"#ed7953\"],[0.7777777777777778,\"#fb9f3a\"],[0.8888888888888888,\"#fdca26\"],[1.0,\"#f0f921\"]],\"sequentialminus\":[[0.0,\"#0d0887\"],[0.1111111111111111,\"#46039f\"],[0.2222222222222222,\"#7201a8\"],[0.3333333333333333,\"#9c179e\"],[0.4444444444444444,\"#bd3786\"],[0.5555555555555556,\"#d8576b\"],[0.6666666666666666,\"#ed7953\"],[0.7777777777777778,\"#fb9f3a\"],[0.8888888888888888,\"#fdca26\"],[1.0,\"#f0f921\"]]},\"colorway\":[\"#636efa\",\"#EF553B\",\"#00cc96\",\"#ab63fa\",\"#FFA15A\",\"#19d3f3\",\"#FF6692\",\"#B6E880\",\"#FF97FF\",\"#FECB52\"],\"font\":{\"color\":\"#2a3f5f\"},\"geo\":{\"bgcolor\":\"white\",\"lakecolor\":\"white\",\"landcolor\":\"white\",\"showlakes\":true,\"showland\":true,\"subunitcolor\":\"#C8D4E3\"},\"hoverlabel\":{\"align\":\"left\"},\"hovermode\":\"closest\",\"mapbox\":{\"style\":\"light\"},\"paper_bgcolor\":\"white\",\"plot_bgcolor\":\"white\",\"polar\":{\"angularaxis\":{\"gridcolor\":\"#EBF0F8\",\"linecolor\":\"#EBF0F8\",\"ticks\":\"\"},\"bgcolor\":\"white\",\"radialaxis\":{\"gridcolor\":\"#EBF0F8\",\"linecolor\":\"#EBF0F8\",\"ticks\":\"\"}},\"scene\":{\"xaxis\":{\"backgroundcolor\":\"white\",\"gridcolor\":\"#DFE8F3\",\"gridwidth\":2,\"linecolor\":\"#EBF0F8\",\"showbackground\":true,\"ticks\":\"\",\"zerolinecolor\":\"#EBF0F8\"},\"yaxis\":{\"backgroundcolor\":\"white\",\"gridcolor\":\"#DFE8F3\",\"gridwidth\":2,\"linecolor\":\"#EBF0F8\",\"showbackground\":true,\"ticks\":\"\",\"zerolinecolor\":\"#EBF0F8\"},\"zaxis\":{\"backgroundcolor\":\"white\",\"gridcolor\":\"#DFE8F3\",\"gridwidth\":2,\"linecolor\":\"#EBF0F8\",\"showbackground\":true,\"ticks\":\"\",\"zerolinecolor\":\"#EBF0F8\"}},\"shapedefaults\":{\"line\":{\"color\":\"#2a3f5f\"}},\"ternary\":{\"aaxis\":{\"gridcolor\":\"#DFE8F3\",\"linecolor\":\"#A2B1C6\",\"ticks\":\"\"},\"baxis\":{\"gridcolor\":\"#DFE8F3\",\"linecolor\":\"#A2B1C6\",\"ticks\":\"\"},\"bgcolor\":\"white\",\"caxis\":{\"gridcolor\":\"#DFE8F3\",\"linecolor\":\"#A2B1C6\",\"ticks\":\"\"}},\"title\":{\"x\":0.05},\"xaxis\":{\"automargin\":true,\"gridcolor\":\"#EBF0F8\",\"linecolor\":\"#EBF0F8\",\"ticks\":\"\",\"title\":{\"standoff\":15},\"zerolinecolor\":\"#EBF0F8\",\"zerolinewidth\":2},\"yaxis\":{\"automargin\":true,\"gridcolor\":\"#EBF0F8\",\"linecolor\":\"#EBF0F8\",\"ticks\":\"\",\"title\":{\"standoff\":15},\"zerolinecolor\":\"#EBF0F8\",\"zerolinewidth\":2}}},\"xaxis\":{\"anchor\":\"y\",\"domain\":[0.0,1.0],\"title\":{\"text\":\"V:CELLS-new-noopt\"}},\"yaxis\":{\"anchor\":\"x\",\"domain\":[0.0,1.0],\"title\":{\"text\":\"V:CELLS-sim-conmul-mux-llvm-eqsat\"}},\"legend\":{\"tracegroupgap\":0},\"margin\":{\"t\":60},\"hovermode\":\"x\",\"shapes\":[{\"line\":{\"color\":\"gray\",\"width\":1},\"type\":\"line\",\"x0\":0,\"x1\":733001,\"xref\":\"x\",\"y0\":0,\"y1\":733001,\"yref\":\"y\"}]},                        {\"responsive\": true}                    ).then(function(){\n",
       "                            \n",
       "var gd = document.getElementById('e702d251-f44c-4582-8197-9d8f32d907d0');\n",
       "var x = new MutationObserver(function (mutations, observer) {{\n",
       "        var display = window.getComputedStyle(gd).display;\n",
       "        if (!display || display === 'none') {{\n",
       "            console.log([gd, 'removed!']);\n",
       "            Plotly.purge(gd);\n",
       "            observer.disconnect();\n",
       "        }}\n",
       "}});\n",
       "\n",
       "// Listen for the removal of the full notebook cells\n",
       "var notebookContainer = gd.closest('#notebook-container');\n",
       "if (notebookContainer) {{\n",
       "    x.observe(notebookContainer, {childList: true});\n",
       "}}\n",
       "\n",
       "// Listen for the clearing of the current output cell\n",
       "var outputEl = gd.closest('.output');\n",
       "if (outputEl) {{\n",
       "    x.observe(outputEl, {childList: true});\n",
       "}}\n",
       "\n",
       "                        })                };                });            </script>        </div>"
      ]
     },
     "metadata": {},
     "output_type": "display_data"
    }
   ],
   "source": [
    "scatter((noopt, \"new-noopt\"), (sim_conmul_mux_llvm_eqsat, \"sim-conmul-mux-llvm-eqsat\"), \"V:CELLS\")"
   ]
  },
  {
   "cell_type": "code",
   "execution_count": 299,
   "id": "5e7567f1",
   "metadata": {},
   "outputs": [
    {
     "data": {
      "application/vnd.plotly.v1+json": {
       "config": {
        "plotlyServerURL": "https://plot.ly"
       },
       "data": [
        {
         "hovertemplate": "V:AND-new-noopt=%{x}<br>V:AND-abc-noopt=%{y}<br>name=%{text}<extra></extra>",
         "legendgroup": "",
         "marker": {
          "color": "#636efa",
          "symbol": "circle"
         },
         "mode": "markers",
         "name": "",
         "orientation": "v",
         "showlegend": false,
         "text": [
          "lift_bytes/\"min:AND_AL_IMMb\"",
          "lift_bytes/\"min:LEA_GPRv_AGEN_32\"",
          "lift_bytes/\"min:LODSB\"",
          "lift_bytes/\"min:LODSB\"",
          "lift_bytes/\"min:LODSB\"",
          "lift_bytes/\"min:LODSB\"",
          "lift_bytes/\"min:LOOP_RELBRb\"",
          "lift_bytes/\"min:MOVSB\"",
          "lift_bytes/\"min:MOV_GPR8_GPR8_8A\"",
          "lift_bytes/\"min:PUSH_IMMz_32\"",
          "lift_bytes/\"min:PUSH_MEMv_32\"",
          "lift_bytes/\"min:SUB_AL_IMMb\"",
          "lift_bytes/\"min:XOR_GPR8_GPR8_32\"",
          "lift_bytes/\"min:XOR_OrAX_IMMz_32\"",
          "lift_bytes/\"min:AND_MEMb_GPR8\"",
          "lift_bytes/\"min:ADD_GPR8_GPR8_02\"",
          "lift_bytes/\"min:IMUL_MEMb\"",
          "lift_bytes/\"min:MOV_RAX_RAX\"",
          "lift_bytes/\"min:AND_ONE_CHILD_1\"",
          "lift_bytes/\"min:AND_ONE_CHILD_2\"",
          "lift_source/\"min:small\"",
          "lift_source/\"min:adds\"",
          "lift_source/\"min:subs\"",
          "lift_source/\"min:xors\""
         ],
         "type": "scatter",
         "x": [
          48,
          245,
          48,
          48,
          244,
          244,
          182,
          462,
          32,
          216,
          331,
          63,
          45,
          89,
          438,
          100,
          558,
          312,
          27,
          193,
          163,
          16572,
          16438,
          15673
         ],
         "xaxis": "x",
         "y": [
          3338,
          3829,
          3401,
          3808,
          3401,
          3808,
          3281,
          4072,
          3207,
          3039,
          3149,
          3154,
          3903,
          3478,
          3246,
          3882,
          3987,
          2590,
          3755,
          2423,
          1823,
          34309,
          32877,
          33186
         ],
         "yaxis": "y"
        }
       ],
       "layout": {
        "hovermode": "x",
        "legend": {
         "tracegroupgap": 0
        },
        "margin": {
         "t": 60
        },
        "shapes": [
         {
          "line": {
           "color": "gray",
           "width": 1
          },
          "type": "line",
          "x0": 0,
          "x1": 50881,
          "xref": "x",
          "y0": 0,
          "y1": 50881,
          "yref": "y"
         }
        ],
        "template": {
         "data": {
          "bar": [
           {
            "error_x": {
             "color": "#2a3f5f"
            },
            "error_y": {
             "color": "#2a3f5f"
            },
            "marker": {
             "line": {
              "color": "white",
              "width": 0.5
             },
             "pattern": {
              "fillmode": "overlay",
              "size": 10,
              "solidity": 0.2
             }
            },
            "type": "bar"
           }
          ],
          "barpolar": [
           {
            "marker": {
             "line": {
              "color": "white",
              "width": 0.5
             },
             "pattern": {
              "fillmode": "overlay",
              "size": 10,
              "solidity": 0.2
             }
            },
            "type": "barpolar"
           }
          ],
          "carpet": [
           {
            "aaxis": {
             "endlinecolor": "#2a3f5f",
             "gridcolor": "#C8D4E3",
             "linecolor": "#C8D4E3",
             "minorgridcolor": "#C8D4E3",
             "startlinecolor": "#2a3f5f"
            },
            "baxis": {
             "endlinecolor": "#2a3f5f",
             "gridcolor": "#C8D4E3",
             "linecolor": "#C8D4E3",
             "minorgridcolor": "#C8D4E3",
             "startlinecolor": "#2a3f5f"
            },
            "type": "carpet"
           }
          ],
          "choropleth": [
           {
            "colorbar": {
             "outlinewidth": 0,
             "ticks": ""
            },
            "type": "choropleth"
           }
          ],
          "contour": [
           {
            "colorbar": {
             "outlinewidth": 0,
             "ticks": ""
            },
            "colorscale": [
             [
              0,
              "#0d0887"
             ],
             [
              0.1111111111111111,
              "#46039f"
             ],
             [
              0.2222222222222222,
              "#7201a8"
             ],
             [
              0.3333333333333333,
              "#9c179e"
             ],
             [
              0.4444444444444444,
              "#bd3786"
             ],
             [
              0.5555555555555556,
              "#d8576b"
             ],
             [
              0.6666666666666666,
              "#ed7953"
             ],
             [
              0.7777777777777778,
              "#fb9f3a"
             ],
             [
              0.8888888888888888,
              "#fdca26"
             ],
             [
              1,
              "#f0f921"
             ]
            ],
            "type": "contour"
           }
          ],
          "contourcarpet": [
           {
            "colorbar": {
             "outlinewidth": 0,
             "ticks": ""
            },
            "type": "contourcarpet"
           }
          ],
          "heatmap": [
           {
            "colorbar": {
             "outlinewidth": 0,
             "ticks": ""
            },
            "colorscale": [
             [
              0,
              "#0d0887"
             ],
             [
              0.1111111111111111,
              "#46039f"
             ],
             [
              0.2222222222222222,
              "#7201a8"
             ],
             [
              0.3333333333333333,
              "#9c179e"
             ],
             [
              0.4444444444444444,
              "#bd3786"
             ],
             [
              0.5555555555555556,
              "#d8576b"
             ],
             [
              0.6666666666666666,
              "#ed7953"
             ],
             [
              0.7777777777777778,
              "#fb9f3a"
             ],
             [
              0.8888888888888888,
              "#fdca26"
             ],
             [
              1,
              "#f0f921"
             ]
            ],
            "type": "heatmap"
           }
          ],
          "heatmapgl": [
           {
            "colorbar": {
             "outlinewidth": 0,
             "ticks": ""
            },
            "colorscale": [
             [
              0,
              "#0d0887"
             ],
             [
              0.1111111111111111,
              "#46039f"
             ],
             [
              0.2222222222222222,
              "#7201a8"
             ],
             [
              0.3333333333333333,
              "#9c179e"
             ],
             [
              0.4444444444444444,
              "#bd3786"
             ],
             [
              0.5555555555555556,
              "#d8576b"
             ],
             [
              0.6666666666666666,
              "#ed7953"
             ],
             [
              0.7777777777777778,
              "#fb9f3a"
             ],
             [
              0.8888888888888888,
              "#fdca26"
             ],
             [
              1,
              "#f0f921"
             ]
            ],
            "type": "heatmapgl"
           }
          ],
          "histogram": [
           {
            "marker": {
             "pattern": {
              "fillmode": "overlay",
              "size": 10,
              "solidity": 0.2
             }
            },
            "type": "histogram"
           }
          ],
          "histogram2d": [
           {
            "colorbar": {
             "outlinewidth": 0,
             "ticks": ""
            },
            "colorscale": [
             [
              0,
              "#0d0887"
             ],
             [
              0.1111111111111111,
              "#46039f"
             ],
             [
              0.2222222222222222,
              "#7201a8"
             ],
             [
              0.3333333333333333,
              "#9c179e"
             ],
             [
              0.4444444444444444,
              "#bd3786"
             ],
             [
              0.5555555555555556,
              "#d8576b"
             ],
             [
              0.6666666666666666,
              "#ed7953"
             ],
             [
              0.7777777777777778,
              "#fb9f3a"
             ],
             [
              0.8888888888888888,
              "#fdca26"
             ],
             [
              1,
              "#f0f921"
             ]
            ],
            "type": "histogram2d"
           }
          ],
          "histogram2dcontour": [
           {
            "colorbar": {
             "outlinewidth": 0,
             "ticks": ""
            },
            "colorscale": [
             [
              0,
              "#0d0887"
             ],
             [
              0.1111111111111111,
              "#46039f"
             ],
             [
              0.2222222222222222,
              "#7201a8"
             ],
             [
              0.3333333333333333,
              "#9c179e"
             ],
             [
              0.4444444444444444,
              "#bd3786"
             ],
             [
              0.5555555555555556,
              "#d8576b"
             ],
             [
              0.6666666666666666,
              "#ed7953"
             ],
             [
              0.7777777777777778,
              "#fb9f3a"
             ],
             [
              0.8888888888888888,
              "#fdca26"
             ],
             [
              1,
              "#f0f921"
             ]
            ],
            "type": "histogram2dcontour"
           }
          ],
          "mesh3d": [
           {
            "colorbar": {
             "outlinewidth": 0,
             "ticks": ""
            },
            "type": "mesh3d"
           }
          ],
          "parcoords": [
           {
            "line": {
             "colorbar": {
              "outlinewidth": 0,
              "ticks": ""
             }
            },
            "type": "parcoords"
           }
          ],
          "pie": [
           {
            "automargin": true,
            "type": "pie"
           }
          ],
          "scatter": [
           {
            "fillpattern": {
             "fillmode": "overlay",
             "size": 10,
             "solidity": 0.2
            },
            "type": "scatter"
           }
          ],
          "scatter3d": [
           {
            "line": {
             "colorbar": {
              "outlinewidth": 0,
              "ticks": ""
             }
            },
            "marker": {
             "colorbar": {
              "outlinewidth": 0,
              "ticks": ""
             }
            },
            "type": "scatter3d"
           }
          ],
          "scattercarpet": [
           {
            "marker": {
             "colorbar": {
              "outlinewidth": 0,
              "ticks": ""
             }
            },
            "type": "scattercarpet"
           }
          ],
          "scattergeo": [
           {
            "marker": {
             "colorbar": {
              "outlinewidth": 0,
              "ticks": ""
             }
            },
            "type": "scattergeo"
           }
          ],
          "scattergl": [
           {
            "marker": {
             "colorbar": {
              "outlinewidth": 0,
              "ticks": ""
             }
            },
            "type": "scattergl"
           }
          ],
          "scattermapbox": [
           {
            "marker": {
             "colorbar": {
              "outlinewidth": 0,
              "ticks": ""
             }
            },
            "type": "scattermapbox"
           }
          ],
          "scatterpolar": [
           {
            "marker": {
             "colorbar": {
              "outlinewidth": 0,
              "ticks": ""
             }
            },
            "type": "scatterpolar"
           }
          ],
          "scatterpolargl": [
           {
            "marker": {
             "colorbar": {
              "outlinewidth": 0,
              "ticks": ""
             }
            },
            "type": "scatterpolargl"
           }
          ],
          "scatterternary": [
           {
            "marker": {
             "colorbar": {
              "outlinewidth": 0,
              "ticks": ""
             }
            },
            "type": "scatterternary"
           }
          ],
          "surface": [
           {
            "colorbar": {
             "outlinewidth": 0,
             "ticks": ""
            },
            "colorscale": [
             [
              0,
              "#0d0887"
             ],
             [
              0.1111111111111111,
              "#46039f"
             ],
             [
              0.2222222222222222,
              "#7201a8"
             ],
             [
              0.3333333333333333,
              "#9c179e"
             ],
             [
              0.4444444444444444,
              "#bd3786"
             ],
             [
              0.5555555555555556,
              "#d8576b"
             ],
             [
              0.6666666666666666,
              "#ed7953"
             ],
             [
              0.7777777777777778,
              "#fb9f3a"
             ],
             [
              0.8888888888888888,
              "#fdca26"
             ],
             [
              1,
              "#f0f921"
             ]
            ],
            "type": "surface"
           }
          ],
          "table": [
           {
            "cells": {
             "fill": {
              "color": "#EBF0F8"
             },
             "line": {
              "color": "white"
             }
            },
            "header": {
             "fill": {
              "color": "#C8D4E3"
             },
             "line": {
              "color": "white"
             }
            },
            "type": "table"
           }
          ]
         },
         "layout": {
          "annotationdefaults": {
           "arrowcolor": "#2a3f5f",
           "arrowhead": 0,
           "arrowwidth": 1
          },
          "autotypenumbers": "strict",
          "coloraxis": {
           "colorbar": {
            "outlinewidth": 0,
            "ticks": ""
           }
          },
          "colorscale": {
           "diverging": [
            [
             0,
             "#8e0152"
            ],
            [
             0.1,
             "#c51b7d"
            ],
            [
             0.2,
             "#de77ae"
            ],
            [
             0.3,
             "#f1b6da"
            ],
            [
             0.4,
             "#fde0ef"
            ],
            [
             0.5,
             "#f7f7f7"
            ],
            [
             0.6,
             "#e6f5d0"
            ],
            [
             0.7,
             "#b8e186"
            ],
            [
             0.8,
             "#7fbc41"
            ],
            [
             0.9,
             "#4d9221"
            ],
            [
             1,
             "#276419"
            ]
           ],
           "sequential": [
            [
             0,
             "#0d0887"
            ],
            [
             0.1111111111111111,
             "#46039f"
            ],
            [
             0.2222222222222222,
             "#7201a8"
            ],
            [
             0.3333333333333333,
             "#9c179e"
            ],
            [
             0.4444444444444444,
             "#bd3786"
            ],
            [
             0.5555555555555556,
             "#d8576b"
            ],
            [
             0.6666666666666666,
             "#ed7953"
            ],
            [
             0.7777777777777778,
             "#fb9f3a"
            ],
            [
             0.8888888888888888,
             "#fdca26"
            ],
            [
             1,
             "#f0f921"
            ]
           ],
           "sequentialminus": [
            [
             0,
             "#0d0887"
            ],
            [
             0.1111111111111111,
             "#46039f"
            ],
            [
             0.2222222222222222,
             "#7201a8"
            ],
            [
             0.3333333333333333,
             "#9c179e"
            ],
            [
             0.4444444444444444,
             "#bd3786"
            ],
            [
             0.5555555555555556,
             "#d8576b"
            ],
            [
             0.6666666666666666,
             "#ed7953"
            ],
            [
             0.7777777777777778,
             "#fb9f3a"
            ],
            [
             0.8888888888888888,
             "#fdca26"
            ],
            [
             1,
             "#f0f921"
            ]
           ]
          },
          "colorway": [
           "#636efa",
           "#EF553B",
           "#00cc96",
           "#ab63fa",
           "#FFA15A",
           "#19d3f3",
           "#FF6692",
           "#B6E880",
           "#FF97FF",
           "#FECB52"
          ],
          "font": {
           "color": "#2a3f5f"
          },
          "geo": {
           "bgcolor": "white",
           "lakecolor": "white",
           "landcolor": "white",
           "showlakes": true,
           "showland": true,
           "subunitcolor": "#C8D4E3"
          },
          "hoverlabel": {
           "align": "left"
          },
          "hovermode": "closest",
          "mapbox": {
           "style": "light"
          },
          "paper_bgcolor": "white",
          "plot_bgcolor": "white",
          "polar": {
           "angularaxis": {
            "gridcolor": "#EBF0F8",
            "linecolor": "#EBF0F8",
            "ticks": ""
           },
           "bgcolor": "white",
           "radialaxis": {
            "gridcolor": "#EBF0F8",
            "linecolor": "#EBF0F8",
            "ticks": ""
           }
          },
          "scene": {
           "xaxis": {
            "backgroundcolor": "white",
            "gridcolor": "#DFE8F3",
            "gridwidth": 2,
            "linecolor": "#EBF0F8",
            "showbackground": true,
            "ticks": "",
            "zerolinecolor": "#EBF0F8"
           },
           "yaxis": {
            "backgroundcolor": "white",
            "gridcolor": "#DFE8F3",
            "gridwidth": 2,
            "linecolor": "#EBF0F8",
            "showbackground": true,
            "ticks": "",
            "zerolinecolor": "#EBF0F8"
           },
           "zaxis": {
            "backgroundcolor": "white",
            "gridcolor": "#DFE8F3",
            "gridwidth": 2,
            "linecolor": "#EBF0F8",
            "showbackground": true,
            "ticks": "",
            "zerolinecolor": "#EBF0F8"
           }
          },
          "shapedefaults": {
           "line": {
            "color": "#2a3f5f"
           }
          },
          "ternary": {
           "aaxis": {
            "gridcolor": "#DFE8F3",
            "linecolor": "#A2B1C6",
            "ticks": ""
           },
           "baxis": {
            "gridcolor": "#DFE8F3",
            "linecolor": "#A2B1C6",
            "ticks": ""
           },
           "bgcolor": "white",
           "caxis": {
            "gridcolor": "#DFE8F3",
            "linecolor": "#A2B1C6",
            "ticks": ""
           }
          },
          "title": {
           "x": 0.05
          },
          "xaxis": {
           "automargin": true,
           "gridcolor": "#EBF0F8",
           "linecolor": "#EBF0F8",
           "ticks": "",
           "title": {
            "standoff": 15
           },
           "zerolinecolor": "#EBF0F8",
           "zerolinewidth": 2
          },
          "yaxis": {
           "automargin": true,
           "gridcolor": "#EBF0F8",
           "linecolor": "#EBF0F8",
           "ticks": "",
           "title": {
            "standoff": 15
           },
           "zerolinecolor": "#EBF0F8",
           "zerolinewidth": 2
          }
         }
        },
        "xaxis": {
         "anchor": "y",
         "domain": [
          0,
          1
         ],
         "title": {
          "text": "V:AND-new-noopt"
         }
        },
        "yaxis": {
         "anchor": "x",
         "domain": [
          0,
          1
         ],
         "title": {
          "text": "V:AND-abc-noopt"
         }
        }
       }
      },
      "text/html": [
       "<div>                            <div id=\"f575ab36-6c89-4a5b-ad57-84c9de1bd4e5\" class=\"plotly-graph-div\" style=\"height:525px; width:100%;\"></div>            <script type=\"text/javascript\">                require([\"plotly\"], function(Plotly) {                    window.PLOTLYENV=window.PLOTLYENV || {};                                    if (document.getElementById(\"f575ab36-6c89-4a5b-ad57-84c9de1bd4e5\")) {                    Plotly.newPlot(                        \"f575ab36-6c89-4a5b-ad57-84c9de1bd4e5\",                        [{\"hovertemplate\":\"V:AND-new-noopt=%{x}<br>V:AND-abc-noopt=%{y}<br>name=%{text}<extra></extra>\",\"legendgroup\":\"\",\"marker\":{\"color\":\"#636efa\",\"symbol\":\"circle\"},\"mode\":\"markers\",\"name\":\"\",\"orientation\":\"v\",\"showlegend\":false,\"text\":[\"lift_bytes/\\\"min:AND_AL_IMMb\\\"\",\"lift_bytes/\\\"min:LEA_GPRv_AGEN_32\\\"\",\"lift_bytes/\\\"min:LODSB\\\"\",\"lift_bytes/\\\"min:LODSB\\\"\",\"lift_bytes/\\\"min:LODSB\\\"\",\"lift_bytes/\\\"min:LODSB\\\"\",\"lift_bytes/\\\"min:LOOP_RELBRb\\\"\",\"lift_bytes/\\\"min:MOVSB\\\"\",\"lift_bytes/\\\"min:MOV_GPR8_GPR8_8A\\\"\",\"lift_bytes/\\\"min:PUSH_IMMz_32\\\"\",\"lift_bytes/\\\"min:PUSH_MEMv_32\\\"\",\"lift_bytes/\\\"min:SUB_AL_IMMb\\\"\",\"lift_bytes/\\\"min:XOR_GPR8_GPR8_32\\\"\",\"lift_bytes/\\\"min:XOR_OrAX_IMMz_32\\\"\",\"lift_bytes/\\\"min:AND_MEMb_GPR8\\\"\",\"lift_bytes/\\\"min:ADD_GPR8_GPR8_02\\\"\",\"lift_bytes/\\\"min:IMUL_MEMb\\\"\",\"lift_bytes/\\\"min:MOV_RAX_RAX\\\"\",\"lift_bytes/\\\"min:AND_ONE_CHILD_1\\\"\",\"lift_bytes/\\\"min:AND_ONE_CHILD_2\\\"\",\"lift_source/\\\"min:small\\\"\",\"lift_source/\\\"min:adds\\\"\",\"lift_source/\\\"min:subs\\\"\",\"lift_source/\\\"min:xors\\\"\"],\"x\":[48,245,48,48,244,244,182,462,32,216,331,63,45,89,438,100,558,312,27,193,163,16572,16438,15673],\"xaxis\":\"x\",\"y\":[3338,3829,3401,3808,3401,3808,3281,4072,3207,3039,3149,3154,3903,3478,3246,3882,3987,2590,3755,2423,1823,34309,32877,33186],\"yaxis\":\"y\",\"type\":\"scatter\"}],                        {\"template\":{\"data\":{\"barpolar\":[{\"marker\":{\"line\":{\"color\":\"white\",\"width\":0.5},\"pattern\":{\"fillmode\":\"overlay\",\"size\":10,\"solidity\":0.2}},\"type\":\"barpolar\"}],\"bar\":[{\"error_x\":{\"color\":\"#2a3f5f\"},\"error_y\":{\"color\":\"#2a3f5f\"},\"marker\":{\"line\":{\"color\":\"white\",\"width\":0.5},\"pattern\":{\"fillmode\":\"overlay\",\"size\":10,\"solidity\":0.2}},\"type\":\"bar\"}],\"carpet\":[{\"aaxis\":{\"endlinecolor\":\"#2a3f5f\",\"gridcolor\":\"#C8D4E3\",\"linecolor\":\"#C8D4E3\",\"minorgridcolor\":\"#C8D4E3\",\"startlinecolor\":\"#2a3f5f\"},\"baxis\":{\"endlinecolor\":\"#2a3f5f\",\"gridcolor\":\"#C8D4E3\",\"linecolor\":\"#C8D4E3\",\"minorgridcolor\":\"#C8D4E3\",\"startlinecolor\":\"#2a3f5f\"},\"type\":\"carpet\"}],\"choropleth\":[{\"colorbar\":{\"outlinewidth\":0,\"ticks\":\"\"},\"type\":\"choropleth\"}],\"contourcarpet\":[{\"colorbar\":{\"outlinewidth\":0,\"ticks\":\"\"},\"type\":\"contourcarpet\"}],\"contour\":[{\"colorbar\":{\"outlinewidth\":0,\"ticks\":\"\"},\"colorscale\":[[0.0,\"#0d0887\"],[0.1111111111111111,\"#46039f\"],[0.2222222222222222,\"#7201a8\"],[0.3333333333333333,\"#9c179e\"],[0.4444444444444444,\"#bd3786\"],[0.5555555555555556,\"#d8576b\"],[0.6666666666666666,\"#ed7953\"],[0.7777777777777778,\"#fb9f3a\"],[0.8888888888888888,\"#fdca26\"],[1.0,\"#f0f921\"]],\"type\":\"contour\"}],\"heatmapgl\":[{\"colorbar\":{\"outlinewidth\":0,\"ticks\":\"\"},\"colorscale\":[[0.0,\"#0d0887\"],[0.1111111111111111,\"#46039f\"],[0.2222222222222222,\"#7201a8\"],[0.3333333333333333,\"#9c179e\"],[0.4444444444444444,\"#bd3786\"],[0.5555555555555556,\"#d8576b\"],[0.6666666666666666,\"#ed7953\"],[0.7777777777777778,\"#fb9f3a\"],[0.8888888888888888,\"#fdca26\"],[1.0,\"#f0f921\"]],\"type\":\"heatmapgl\"}],\"heatmap\":[{\"colorbar\":{\"outlinewidth\":0,\"ticks\":\"\"},\"colorscale\":[[0.0,\"#0d0887\"],[0.1111111111111111,\"#46039f\"],[0.2222222222222222,\"#7201a8\"],[0.3333333333333333,\"#9c179e\"],[0.4444444444444444,\"#bd3786\"],[0.5555555555555556,\"#d8576b\"],[0.6666666666666666,\"#ed7953\"],[0.7777777777777778,\"#fb9f3a\"],[0.8888888888888888,\"#fdca26\"],[1.0,\"#f0f921\"]],\"type\":\"heatmap\"}],\"histogram2dcontour\":[{\"colorbar\":{\"outlinewidth\":0,\"ticks\":\"\"},\"colorscale\":[[0.0,\"#0d0887\"],[0.1111111111111111,\"#46039f\"],[0.2222222222222222,\"#7201a8\"],[0.3333333333333333,\"#9c179e\"],[0.4444444444444444,\"#bd3786\"],[0.5555555555555556,\"#d8576b\"],[0.6666666666666666,\"#ed7953\"],[0.7777777777777778,\"#fb9f3a\"],[0.8888888888888888,\"#fdca26\"],[1.0,\"#f0f921\"]],\"type\":\"histogram2dcontour\"}],\"histogram2d\":[{\"colorbar\":{\"outlinewidth\":0,\"ticks\":\"\"},\"colorscale\":[[0.0,\"#0d0887\"],[0.1111111111111111,\"#46039f\"],[0.2222222222222222,\"#7201a8\"],[0.3333333333333333,\"#9c179e\"],[0.4444444444444444,\"#bd3786\"],[0.5555555555555556,\"#d8576b\"],[0.6666666666666666,\"#ed7953\"],[0.7777777777777778,\"#fb9f3a\"],[0.8888888888888888,\"#fdca26\"],[1.0,\"#f0f921\"]],\"type\":\"histogram2d\"}],\"histogram\":[{\"marker\":{\"pattern\":{\"fillmode\":\"overlay\",\"size\":10,\"solidity\":0.2}},\"type\":\"histogram\"}],\"mesh3d\":[{\"colorbar\":{\"outlinewidth\":0,\"ticks\":\"\"},\"type\":\"mesh3d\"}],\"parcoords\":[{\"line\":{\"colorbar\":{\"outlinewidth\":0,\"ticks\":\"\"}},\"type\":\"parcoords\"}],\"pie\":[{\"automargin\":true,\"type\":\"pie\"}],\"scatter3d\":[{\"line\":{\"colorbar\":{\"outlinewidth\":0,\"ticks\":\"\"}},\"marker\":{\"colorbar\":{\"outlinewidth\":0,\"ticks\":\"\"}},\"type\":\"scatter3d\"}],\"scattercarpet\":[{\"marker\":{\"colorbar\":{\"outlinewidth\":0,\"ticks\":\"\"}},\"type\":\"scattercarpet\"}],\"scattergeo\":[{\"marker\":{\"colorbar\":{\"outlinewidth\":0,\"ticks\":\"\"}},\"type\":\"scattergeo\"}],\"scattergl\":[{\"marker\":{\"colorbar\":{\"outlinewidth\":0,\"ticks\":\"\"}},\"type\":\"scattergl\"}],\"scattermapbox\":[{\"marker\":{\"colorbar\":{\"outlinewidth\":0,\"ticks\":\"\"}},\"type\":\"scattermapbox\"}],\"scatterpolargl\":[{\"marker\":{\"colorbar\":{\"outlinewidth\":0,\"ticks\":\"\"}},\"type\":\"scatterpolargl\"}],\"scatterpolar\":[{\"marker\":{\"colorbar\":{\"outlinewidth\":0,\"ticks\":\"\"}},\"type\":\"scatterpolar\"}],\"scatter\":[{\"fillpattern\":{\"fillmode\":\"overlay\",\"size\":10,\"solidity\":0.2},\"type\":\"scatter\"}],\"scatterternary\":[{\"marker\":{\"colorbar\":{\"outlinewidth\":0,\"ticks\":\"\"}},\"type\":\"scatterternary\"}],\"surface\":[{\"colorbar\":{\"outlinewidth\":0,\"ticks\":\"\"},\"colorscale\":[[0.0,\"#0d0887\"],[0.1111111111111111,\"#46039f\"],[0.2222222222222222,\"#7201a8\"],[0.3333333333333333,\"#9c179e\"],[0.4444444444444444,\"#bd3786\"],[0.5555555555555556,\"#d8576b\"],[0.6666666666666666,\"#ed7953\"],[0.7777777777777778,\"#fb9f3a\"],[0.8888888888888888,\"#fdca26\"],[1.0,\"#f0f921\"]],\"type\":\"surface\"}],\"table\":[{\"cells\":{\"fill\":{\"color\":\"#EBF0F8\"},\"line\":{\"color\":\"white\"}},\"header\":{\"fill\":{\"color\":\"#C8D4E3\"},\"line\":{\"color\":\"white\"}},\"type\":\"table\"}]},\"layout\":{\"annotationdefaults\":{\"arrowcolor\":\"#2a3f5f\",\"arrowhead\":0,\"arrowwidth\":1},\"autotypenumbers\":\"strict\",\"coloraxis\":{\"colorbar\":{\"outlinewidth\":0,\"ticks\":\"\"}},\"colorscale\":{\"diverging\":[[0,\"#8e0152\"],[0.1,\"#c51b7d\"],[0.2,\"#de77ae\"],[0.3,\"#f1b6da\"],[0.4,\"#fde0ef\"],[0.5,\"#f7f7f7\"],[0.6,\"#e6f5d0\"],[0.7,\"#b8e186\"],[0.8,\"#7fbc41\"],[0.9,\"#4d9221\"],[1,\"#276419\"]],\"sequential\":[[0.0,\"#0d0887\"],[0.1111111111111111,\"#46039f\"],[0.2222222222222222,\"#7201a8\"],[0.3333333333333333,\"#9c179e\"],[0.4444444444444444,\"#bd3786\"],[0.5555555555555556,\"#d8576b\"],[0.6666666666666666,\"#ed7953\"],[0.7777777777777778,\"#fb9f3a\"],[0.8888888888888888,\"#fdca26\"],[1.0,\"#f0f921\"]],\"sequentialminus\":[[0.0,\"#0d0887\"],[0.1111111111111111,\"#46039f\"],[0.2222222222222222,\"#7201a8\"],[0.3333333333333333,\"#9c179e\"],[0.4444444444444444,\"#bd3786\"],[0.5555555555555556,\"#d8576b\"],[0.6666666666666666,\"#ed7953\"],[0.7777777777777778,\"#fb9f3a\"],[0.8888888888888888,\"#fdca26\"],[1.0,\"#f0f921\"]]},\"colorway\":[\"#636efa\",\"#EF553B\",\"#00cc96\",\"#ab63fa\",\"#FFA15A\",\"#19d3f3\",\"#FF6692\",\"#B6E880\",\"#FF97FF\",\"#FECB52\"],\"font\":{\"color\":\"#2a3f5f\"},\"geo\":{\"bgcolor\":\"white\",\"lakecolor\":\"white\",\"landcolor\":\"white\",\"showlakes\":true,\"showland\":true,\"subunitcolor\":\"#C8D4E3\"},\"hoverlabel\":{\"align\":\"left\"},\"hovermode\":\"closest\",\"mapbox\":{\"style\":\"light\"},\"paper_bgcolor\":\"white\",\"plot_bgcolor\":\"white\",\"polar\":{\"angularaxis\":{\"gridcolor\":\"#EBF0F8\",\"linecolor\":\"#EBF0F8\",\"ticks\":\"\"},\"bgcolor\":\"white\",\"radialaxis\":{\"gridcolor\":\"#EBF0F8\",\"linecolor\":\"#EBF0F8\",\"ticks\":\"\"}},\"scene\":{\"xaxis\":{\"backgroundcolor\":\"white\",\"gridcolor\":\"#DFE8F3\",\"gridwidth\":2,\"linecolor\":\"#EBF0F8\",\"showbackground\":true,\"ticks\":\"\",\"zerolinecolor\":\"#EBF0F8\"},\"yaxis\":{\"backgroundcolor\":\"white\",\"gridcolor\":\"#DFE8F3\",\"gridwidth\":2,\"linecolor\":\"#EBF0F8\",\"showbackground\":true,\"ticks\":\"\",\"zerolinecolor\":\"#EBF0F8\"},\"zaxis\":{\"backgroundcolor\":\"white\",\"gridcolor\":\"#DFE8F3\",\"gridwidth\":2,\"linecolor\":\"#EBF0F8\",\"showbackground\":true,\"ticks\":\"\",\"zerolinecolor\":\"#EBF0F8\"}},\"shapedefaults\":{\"line\":{\"color\":\"#2a3f5f\"}},\"ternary\":{\"aaxis\":{\"gridcolor\":\"#DFE8F3\",\"linecolor\":\"#A2B1C6\",\"ticks\":\"\"},\"baxis\":{\"gridcolor\":\"#DFE8F3\",\"linecolor\":\"#A2B1C6\",\"ticks\":\"\"},\"bgcolor\":\"white\",\"caxis\":{\"gridcolor\":\"#DFE8F3\",\"linecolor\":\"#A2B1C6\",\"ticks\":\"\"}},\"title\":{\"x\":0.05},\"xaxis\":{\"automargin\":true,\"gridcolor\":\"#EBF0F8\",\"linecolor\":\"#EBF0F8\",\"ticks\":\"\",\"title\":{\"standoff\":15},\"zerolinecolor\":\"#EBF0F8\",\"zerolinewidth\":2},\"yaxis\":{\"automargin\":true,\"gridcolor\":\"#EBF0F8\",\"linecolor\":\"#EBF0F8\",\"ticks\":\"\",\"title\":{\"standoff\":15},\"zerolinecolor\":\"#EBF0F8\",\"zerolinewidth\":2}}},\"xaxis\":{\"anchor\":\"y\",\"domain\":[0.0,1.0],\"title\":{\"text\":\"V:AND-new-noopt\"}},\"yaxis\":{\"anchor\":\"x\",\"domain\":[0.0,1.0],\"title\":{\"text\":\"V:AND-abc-noopt\"}},\"legend\":{\"tracegroupgap\":0},\"margin\":{\"t\":60},\"hovermode\":\"x\",\"shapes\":[{\"line\":{\"color\":\"gray\",\"width\":1},\"type\":\"line\",\"x0\":0,\"x1\":50881,\"xref\":\"x\",\"y0\":0,\"y1\":50881,\"yref\":\"y\"}]},                        {\"responsive\": true}                    ).then(function(){\n",
       "                            \n",
       "var gd = document.getElementById('f575ab36-6c89-4a5b-ad57-84c9de1bd4e5');\n",
       "var x = new MutationObserver(function (mutations, observer) {{\n",
       "        var display = window.getComputedStyle(gd).display;\n",
       "        if (!display || display === 'none') {{\n",
       "            console.log([gd, 'removed!']);\n",
       "            Plotly.purge(gd);\n",
       "            observer.disconnect();\n",
       "        }}\n",
       "}});\n",
       "\n",
       "// Listen for the removal of the full notebook cells\n",
       "var notebookContainer = gd.closest('#notebook-container');\n",
       "if (notebookContainer) {{\n",
       "    x.observe(notebookContainer, {childList: true});\n",
       "}}\n",
       "\n",
       "// Listen for the clearing of the current output cell\n",
       "var outputEl = gd.closest('.output');\n",
       "if (outputEl) {{\n",
       "    x.observe(outputEl, {childList: true});\n",
       "}}\n",
       "\n",
       "                        })                };                });            </script>        </div>"
      ]
     },
     "metadata": {},
     "output_type": "display_data"
    }
   ],
   "source": [
    "scatter((new_noopt, \"new-noopt\"), (abc_noopt, \"abc-noopt\"), \"V:AND\")"
   ]
  },
  {
   "cell_type": "code",
   "execution_count": 248,
   "id": "babf33d1",
   "metadata": {},
   "outputs": [
    {
     "data": {
      "application/vnd.plotly.v1+json": {
       "config": {
        "plotlyServerURL": "https://plot.ly"
       },
       "data": [
        {
         "hovertemplate": "V:CELLS-new-noopt=%{x}<br>V:CELLS-new-alu-synthesis=%{y}<br>name=%{text}<extra></extra>",
         "legendgroup": "",
         "marker": {
          "color": "#636efa",
          "symbol": "circle"
         },
         "mode": "markers",
         "name": "",
         "orientation": "v",
         "showlegend": false,
         "text": [
          "lift_bytes/\"min:AND_AL_IMMb\"",
          "lift_bytes/\"min:LEA_GPRv_AGEN_32\"",
          "lift_bytes/\"min:LODSB\"",
          "lift_bytes/\"min:LODSB\"",
          "lift_bytes/\"min:LODSB\"",
          "lift_bytes/\"min:LODSB\"",
          "lift_bytes/\"min:LOOP_RELBRb\"",
          "lift_bytes/\"min:MOVSB\"",
          "lift_bytes/\"min:MOV_GPR8_GPR8_8A\"",
          "lift_bytes/\"min:OR_GPRv_IMMz_32\"",
          "lift_bytes/\"min:POPAD_32\"",
          "lift_bytes/\"min:PUSH_IMMz_32\"",
          "lift_bytes/\"min:PUSH_MEMv_32\"",
          "lift_bytes/\"min:SUB_AL_IMMb\"",
          "lift_bytes/\"min:SUB_GPRv_MEMv_32\"",
          "lift_bytes/\"min:XOR_GPR8_GPR8_32\"",
          "lift_bytes/\"min:XOR_GPRv_IMMz_32\"",
          "lift_bytes/\"min:XOR_OrAX_IMMz_32\"",
          "lift_bytes/\"min:DIV_GPRv_32\"",
          "lift_bytes/\"min:DIV_MEMv_32\"",
          "lift_bytes/\"min:AND_MEMb_GPR8\"",
          "lift_bytes/\"min:ADD_GPR8_GPR8_02\"",
          "lift_bytes/\"min:ADD_MEMb_GPR8\"",
          "lift_bytes/\"min:IMUL_GPRv_MEMv_IMMz_16\"",
          "lift_bytes/\"min:IMUL_GPRv_MEMv_IMMz_32\"",
          "lift_bytes/\"min:IMUL_MEMb\"",
          "lift_bytes/\"min:MOV_MEMv_GPRv_16\"",
          "lift_bytes/\"min:MOV_RAX_RAX\"",
          "lift_bytes/\"min:AND_ONE_CHILD_1\"",
          "lift_bytes/\"min:AND_ONE_CHILD_2\"",
          "lift_source/\"min:small\"",
          "lift_source/\"min:adds\"",
          "lift_source/\"min:mul-16\"",
          "lift_source/\"big:muls\"",
          "lift_source/\"min:idivs\"",
          "lift_source/\"big:divs\"",
          "lift_source/\"min:subs\"",
          "lift_source/\"min:xors\"",
          "lift_source/\"big:3d_image_toolkit\"",
          "lift_source/\"big:router_simulator\"",
          "lift_source/\"big:lan_simulator\"",
          "lift_source/\"big:tiny86\""
         ],
         "type": "scatter",
         "x": [
          1393,
          2642,
          1393,
          1393,
          1934,
          1934,
          1799,
          2629,
          1992,
          2147,
          3163,
          1993,
          2930,
          1447,
          3528,
          2167,
          2148,
          1561,
          33932,
          34727,
          2936,
          2286,
          3805,
          2726,
          11954,
          2930,
          1946,
          3360,
          1270,
          2311,
          2499,
          52068,
          10424,
          77144,
          84395,
          156021,
          51288,
          50412,
          196651,
          166019,
          201210,
          374575
         ],
         "xaxis": "x",
         "y": [
          1490,
          2909,
          1490,
          2095,
          1490,
          2095,
          2063,
          2854,
          2113,
          2251,
          3612,
          2216,
          3287,
          1544,
          3795,
          2300,
          2252,
          1658,
          34034,
          34968,
          3281,
          2435,
          4231,
          2964,
          12318,
          3211,
          2105,
          3823,
          1366,
          2582,
          2786,
          81976,
          12572,
          61631,
          80131,
          152532,
          77954,
          67498,
          245424,
          253054,
          249091,
          910143
         ],
         "yaxis": "y"
        }
       ],
       "layout": {
        "hovermode": "x",
        "legend": {
         "tracegroupgap": 0
        },
        "margin": {
         "t": 60
        },
        "shapes": [
         {
          "line": {
           "color": "gray",
           "width": 1
          },
          "type": "line",
          "x0": 0,
          "x1": 1284718,
          "xref": "x",
          "y0": 0,
          "y1": 1284718,
          "yref": "y"
         }
        ],
        "template": {
         "data": {
          "bar": [
           {
            "error_x": {
             "color": "#2a3f5f"
            },
            "error_y": {
             "color": "#2a3f5f"
            },
            "marker": {
             "line": {
              "color": "white",
              "width": 0.5
             },
             "pattern": {
              "fillmode": "overlay",
              "size": 10,
              "solidity": 0.2
             }
            },
            "type": "bar"
           }
          ],
          "barpolar": [
           {
            "marker": {
             "line": {
              "color": "white",
              "width": 0.5
             },
             "pattern": {
              "fillmode": "overlay",
              "size": 10,
              "solidity": 0.2
             }
            },
            "type": "barpolar"
           }
          ],
          "carpet": [
           {
            "aaxis": {
             "endlinecolor": "#2a3f5f",
             "gridcolor": "#C8D4E3",
             "linecolor": "#C8D4E3",
             "minorgridcolor": "#C8D4E3",
             "startlinecolor": "#2a3f5f"
            },
            "baxis": {
             "endlinecolor": "#2a3f5f",
             "gridcolor": "#C8D4E3",
             "linecolor": "#C8D4E3",
             "minorgridcolor": "#C8D4E3",
             "startlinecolor": "#2a3f5f"
            },
            "type": "carpet"
           }
          ],
          "choropleth": [
           {
            "colorbar": {
             "outlinewidth": 0,
             "ticks": ""
            },
            "type": "choropleth"
           }
          ],
          "contour": [
           {
            "colorbar": {
             "outlinewidth": 0,
             "ticks": ""
            },
            "colorscale": [
             [
              0,
              "#0d0887"
             ],
             [
              0.1111111111111111,
              "#46039f"
             ],
             [
              0.2222222222222222,
              "#7201a8"
             ],
             [
              0.3333333333333333,
              "#9c179e"
             ],
             [
              0.4444444444444444,
              "#bd3786"
             ],
             [
              0.5555555555555556,
              "#d8576b"
             ],
             [
              0.6666666666666666,
              "#ed7953"
             ],
             [
              0.7777777777777778,
              "#fb9f3a"
             ],
             [
              0.8888888888888888,
              "#fdca26"
             ],
             [
              1,
              "#f0f921"
             ]
            ],
            "type": "contour"
           }
          ],
          "contourcarpet": [
           {
            "colorbar": {
             "outlinewidth": 0,
             "ticks": ""
            },
            "type": "contourcarpet"
           }
          ],
          "heatmap": [
           {
            "colorbar": {
             "outlinewidth": 0,
             "ticks": ""
            },
            "colorscale": [
             [
              0,
              "#0d0887"
             ],
             [
              0.1111111111111111,
              "#46039f"
             ],
             [
              0.2222222222222222,
              "#7201a8"
             ],
             [
              0.3333333333333333,
              "#9c179e"
             ],
             [
              0.4444444444444444,
              "#bd3786"
             ],
             [
              0.5555555555555556,
              "#d8576b"
             ],
             [
              0.6666666666666666,
              "#ed7953"
             ],
             [
              0.7777777777777778,
              "#fb9f3a"
             ],
             [
              0.8888888888888888,
              "#fdca26"
             ],
             [
              1,
              "#f0f921"
             ]
            ],
            "type": "heatmap"
           }
          ],
          "heatmapgl": [
           {
            "colorbar": {
             "outlinewidth": 0,
             "ticks": ""
            },
            "colorscale": [
             [
              0,
              "#0d0887"
             ],
             [
              0.1111111111111111,
              "#46039f"
             ],
             [
              0.2222222222222222,
              "#7201a8"
             ],
             [
              0.3333333333333333,
              "#9c179e"
             ],
             [
              0.4444444444444444,
              "#bd3786"
             ],
             [
              0.5555555555555556,
              "#d8576b"
             ],
             [
              0.6666666666666666,
              "#ed7953"
             ],
             [
              0.7777777777777778,
              "#fb9f3a"
             ],
             [
              0.8888888888888888,
              "#fdca26"
             ],
             [
              1,
              "#f0f921"
             ]
            ],
            "type": "heatmapgl"
           }
          ],
          "histogram": [
           {
            "marker": {
             "pattern": {
              "fillmode": "overlay",
              "size": 10,
              "solidity": 0.2
             }
            },
            "type": "histogram"
           }
          ],
          "histogram2d": [
           {
            "colorbar": {
             "outlinewidth": 0,
             "ticks": ""
            },
            "colorscale": [
             [
              0,
              "#0d0887"
             ],
             [
              0.1111111111111111,
              "#46039f"
             ],
             [
              0.2222222222222222,
              "#7201a8"
             ],
             [
              0.3333333333333333,
              "#9c179e"
             ],
             [
              0.4444444444444444,
              "#bd3786"
             ],
             [
              0.5555555555555556,
              "#d8576b"
             ],
             [
              0.6666666666666666,
              "#ed7953"
             ],
             [
              0.7777777777777778,
              "#fb9f3a"
             ],
             [
              0.8888888888888888,
              "#fdca26"
             ],
             [
              1,
              "#f0f921"
             ]
            ],
            "type": "histogram2d"
           }
          ],
          "histogram2dcontour": [
           {
            "colorbar": {
             "outlinewidth": 0,
             "ticks": ""
            },
            "colorscale": [
             [
              0,
              "#0d0887"
             ],
             [
              0.1111111111111111,
              "#46039f"
             ],
             [
              0.2222222222222222,
              "#7201a8"
             ],
             [
              0.3333333333333333,
              "#9c179e"
             ],
             [
              0.4444444444444444,
              "#bd3786"
             ],
             [
              0.5555555555555556,
              "#d8576b"
             ],
             [
              0.6666666666666666,
              "#ed7953"
             ],
             [
              0.7777777777777778,
              "#fb9f3a"
             ],
             [
              0.8888888888888888,
              "#fdca26"
             ],
             [
              1,
              "#f0f921"
             ]
            ],
            "type": "histogram2dcontour"
           }
          ],
          "mesh3d": [
           {
            "colorbar": {
             "outlinewidth": 0,
             "ticks": ""
            },
            "type": "mesh3d"
           }
          ],
          "parcoords": [
           {
            "line": {
             "colorbar": {
              "outlinewidth": 0,
              "ticks": ""
             }
            },
            "type": "parcoords"
           }
          ],
          "pie": [
           {
            "automargin": true,
            "type": "pie"
           }
          ],
          "scatter": [
           {
            "fillpattern": {
             "fillmode": "overlay",
             "size": 10,
             "solidity": 0.2
            },
            "type": "scatter"
           }
          ],
          "scatter3d": [
           {
            "line": {
             "colorbar": {
              "outlinewidth": 0,
              "ticks": ""
             }
            },
            "marker": {
             "colorbar": {
              "outlinewidth": 0,
              "ticks": ""
             }
            },
            "type": "scatter3d"
           }
          ],
          "scattercarpet": [
           {
            "marker": {
             "colorbar": {
              "outlinewidth": 0,
              "ticks": ""
             }
            },
            "type": "scattercarpet"
           }
          ],
          "scattergeo": [
           {
            "marker": {
             "colorbar": {
              "outlinewidth": 0,
              "ticks": ""
             }
            },
            "type": "scattergeo"
           }
          ],
          "scattergl": [
           {
            "marker": {
             "colorbar": {
              "outlinewidth": 0,
              "ticks": ""
             }
            },
            "type": "scattergl"
           }
          ],
          "scattermapbox": [
           {
            "marker": {
             "colorbar": {
              "outlinewidth": 0,
              "ticks": ""
             }
            },
            "type": "scattermapbox"
           }
          ],
          "scatterpolar": [
           {
            "marker": {
             "colorbar": {
              "outlinewidth": 0,
              "ticks": ""
             }
            },
            "type": "scatterpolar"
           }
          ],
          "scatterpolargl": [
           {
            "marker": {
             "colorbar": {
              "outlinewidth": 0,
              "ticks": ""
             }
            },
            "type": "scatterpolargl"
           }
          ],
          "scatterternary": [
           {
            "marker": {
             "colorbar": {
              "outlinewidth": 0,
              "ticks": ""
             }
            },
            "type": "scatterternary"
           }
          ],
          "surface": [
           {
            "colorbar": {
             "outlinewidth": 0,
             "ticks": ""
            },
            "colorscale": [
             [
              0,
              "#0d0887"
             ],
             [
              0.1111111111111111,
              "#46039f"
             ],
             [
              0.2222222222222222,
              "#7201a8"
             ],
             [
              0.3333333333333333,
              "#9c179e"
             ],
             [
              0.4444444444444444,
              "#bd3786"
             ],
             [
              0.5555555555555556,
              "#d8576b"
             ],
             [
              0.6666666666666666,
              "#ed7953"
             ],
             [
              0.7777777777777778,
              "#fb9f3a"
             ],
             [
              0.8888888888888888,
              "#fdca26"
             ],
             [
              1,
              "#f0f921"
             ]
            ],
            "type": "surface"
           }
          ],
          "table": [
           {
            "cells": {
             "fill": {
              "color": "#EBF0F8"
             },
             "line": {
              "color": "white"
             }
            },
            "header": {
             "fill": {
              "color": "#C8D4E3"
             },
             "line": {
              "color": "white"
             }
            },
            "type": "table"
           }
          ]
         },
         "layout": {
          "annotationdefaults": {
           "arrowcolor": "#2a3f5f",
           "arrowhead": 0,
           "arrowwidth": 1
          },
          "autotypenumbers": "strict",
          "coloraxis": {
           "colorbar": {
            "outlinewidth": 0,
            "ticks": ""
           }
          },
          "colorscale": {
           "diverging": [
            [
             0,
             "#8e0152"
            ],
            [
             0.1,
             "#c51b7d"
            ],
            [
             0.2,
             "#de77ae"
            ],
            [
             0.3,
             "#f1b6da"
            ],
            [
             0.4,
             "#fde0ef"
            ],
            [
             0.5,
             "#f7f7f7"
            ],
            [
             0.6,
             "#e6f5d0"
            ],
            [
             0.7,
             "#b8e186"
            ],
            [
             0.8,
             "#7fbc41"
            ],
            [
             0.9,
             "#4d9221"
            ],
            [
             1,
             "#276419"
            ]
           ],
           "sequential": [
            [
             0,
             "#0d0887"
            ],
            [
             0.1111111111111111,
             "#46039f"
            ],
            [
             0.2222222222222222,
             "#7201a8"
            ],
            [
             0.3333333333333333,
             "#9c179e"
            ],
            [
             0.4444444444444444,
             "#bd3786"
            ],
            [
             0.5555555555555556,
             "#d8576b"
            ],
            [
             0.6666666666666666,
             "#ed7953"
            ],
            [
             0.7777777777777778,
             "#fb9f3a"
            ],
            [
             0.8888888888888888,
             "#fdca26"
            ],
            [
             1,
             "#f0f921"
            ]
           ],
           "sequentialminus": [
            [
             0,
             "#0d0887"
            ],
            [
             0.1111111111111111,
             "#46039f"
            ],
            [
             0.2222222222222222,
             "#7201a8"
            ],
            [
             0.3333333333333333,
             "#9c179e"
            ],
            [
             0.4444444444444444,
             "#bd3786"
            ],
            [
             0.5555555555555556,
             "#d8576b"
            ],
            [
             0.6666666666666666,
             "#ed7953"
            ],
            [
             0.7777777777777778,
             "#fb9f3a"
            ],
            [
             0.8888888888888888,
             "#fdca26"
            ],
            [
             1,
             "#f0f921"
            ]
           ]
          },
          "colorway": [
           "#636efa",
           "#EF553B",
           "#00cc96",
           "#ab63fa",
           "#FFA15A",
           "#19d3f3",
           "#FF6692",
           "#B6E880",
           "#FF97FF",
           "#FECB52"
          ],
          "font": {
           "color": "#2a3f5f"
          },
          "geo": {
           "bgcolor": "white",
           "lakecolor": "white",
           "landcolor": "white",
           "showlakes": true,
           "showland": true,
           "subunitcolor": "#C8D4E3"
          },
          "hoverlabel": {
           "align": "left"
          },
          "hovermode": "closest",
          "mapbox": {
           "style": "light"
          },
          "paper_bgcolor": "white",
          "plot_bgcolor": "white",
          "polar": {
           "angularaxis": {
            "gridcolor": "#EBF0F8",
            "linecolor": "#EBF0F8",
            "ticks": ""
           },
           "bgcolor": "white",
           "radialaxis": {
            "gridcolor": "#EBF0F8",
            "linecolor": "#EBF0F8",
            "ticks": ""
           }
          },
          "scene": {
           "xaxis": {
            "backgroundcolor": "white",
            "gridcolor": "#DFE8F3",
            "gridwidth": 2,
            "linecolor": "#EBF0F8",
            "showbackground": true,
            "ticks": "",
            "zerolinecolor": "#EBF0F8"
           },
           "yaxis": {
            "backgroundcolor": "white",
            "gridcolor": "#DFE8F3",
            "gridwidth": 2,
            "linecolor": "#EBF0F8",
            "showbackground": true,
            "ticks": "",
            "zerolinecolor": "#EBF0F8"
           },
           "zaxis": {
            "backgroundcolor": "white",
            "gridcolor": "#DFE8F3",
            "gridwidth": 2,
            "linecolor": "#EBF0F8",
            "showbackground": true,
            "ticks": "",
            "zerolinecolor": "#EBF0F8"
           }
          },
          "shapedefaults": {
           "line": {
            "color": "#2a3f5f"
           }
          },
          "ternary": {
           "aaxis": {
            "gridcolor": "#DFE8F3",
            "linecolor": "#A2B1C6",
            "ticks": ""
           },
           "baxis": {
            "gridcolor": "#DFE8F3",
            "linecolor": "#A2B1C6",
            "ticks": ""
           },
           "bgcolor": "white",
           "caxis": {
            "gridcolor": "#DFE8F3",
            "linecolor": "#A2B1C6",
            "ticks": ""
           }
          },
          "title": {
           "x": 0.05
          },
          "xaxis": {
           "automargin": true,
           "gridcolor": "#EBF0F8",
           "linecolor": "#EBF0F8",
           "ticks": "",
           "title": {
            "standoff": 15
           },
           "zerolinecolor": "#EBF0F8",
           "zerolinewidth": 2
          },
          "yaxis": {
           "automargin": true,
           "gridcolor": "#EBF0F8",
           "linecolor": "#EBF0F8",
           "ticks": "",
           "title": {
            "standoff": 15
           },
           "zerolinecolor": "#EBF0F8",
           "zerolinewidth": 2
          }
         }
        },
        "xaxis": {
         "anchor": "y",
         "domain": [
          0,
          1
         ],
         "title": {
          "text": "V:CELLS-new-noopt"
         }
        },
        "yaxis": {
         "anchor": "x",
         "domain": [
          0,
          1
         ],
         "title": {
          "text": "V:CELLS-new-alu-synthesis"
         }
        }
       }
      },
      "text/html": [
       "<div>                            <div id=\"c39924cc-9871-43a1-a533-8c3981b0483f\" class=\"plotly-graph-div\" style=\"height:525px; width:100%;\"></div>            <script type=\"text/javascript\">                require([\"plotly\"], function(Plotly) {                    window.PLOTLYENV=window.PLOTLYENV || {};                                    if (document.getElementById(\"c39924cc-9871-43a1-a533-8c3981b0483f\")) {                    Plotly.newPlot(                        \"c39924cc-9871-43a1-a533-8c3981b0483f\",                        [{\"hovertemplate\":\"V:CELLS-new-noopt=%{x}<br>V:CELLS-new-alu-synthesis=%{y}<br>name=%{text}<extra></extra>\",\"legendgroup\":\"\",\"marker\":{\"color\":\"#636efa\",\"symbol\":\"circle\"},\"mode\":\"markers\",\"name\":\"\",\"orientation\":\"v\",\"showlegend\":false,\"text\":[\"lift_bytes/\\\"min:AND_AL_IMMb\\\"\",\"lift_bytes/\\\"min:LEA_GPRv_AGEN_32\\\"\",\"lift_bytes/\\\"min:LODSB\\\"\",\"lift_bytes/\\\"min:LODSB\\\"\",\"lift_bytes/\\\"min:LODSB\\\"\",\"lift_bytes/\\\"min:LODSB\\\"\",\"lift_bytes/\\\"min:LOOP_RELBRb\\\"\",\"lift_bytes/\\\"min:MOVSB\\\"\",\"lift_bytes/\\\"min:MOV_GPR8_GPR8_8A\\\"\",\"lift_bytes/\\\"min:OR_GPRv_IMMz_32\\\"\",\"lift_bytes/\\\"min:POPAD_32\\\"\",\"lift_bytes/\\\"min:PUSH_IMMz_32\\\"\",\"lift_bytes/\\\"min:PUSH_MEMv_32\\\"\",\"lift_bytes/\\\"min:SUB_AL_IMMb\\\"\",\"lift_bytes/\\\"min:SUB_GPRv_MEMv_32\\\"\",\"lift_bytes/\\\"min:XOR_GPR8_GPR8_32\\\"\",\"lift_bytes/\\\"min:XOR_GPRv_IMMz_32\\\"\",\"lift_bytes/\\\"min:XOR_OrAX_IMMz_32\\\"\",\"lift_bytes/\\\"min:DIV_GPRv_32\\\"\",\"lift_bytes/\\\"min:DIV_MEMv_32\\\"\",\"lift_bytes/\\\"min:AND_MEMb_GPR8\\\"\",\"lift_bytes/\\\"min:ADD_GPR8_GPR8_02\\\"\",\"lift_bytes/\\\"min:ADD_MEMb_GPR8\\\"\",\"lift_bytes/\\\"min:IMUL_GPRv_MEMv_IMMz_16\\\"\",\"lift_bytes/\\\"min:IMUL_GPRv_MEMv_IMMz_32\\\"\",\"lift_bytes/\\\"min:IMUL_MEMb\\\"\",\"lift_bytes/\\\"min:MOV_MEMv_GPRv_16\\\"\",\"lift_bytes/\\\"min:MOV_RAX_RAX\\\"\",\"lift_bytes/\\\"min:AND_ONE_CHILD_1\\\"\",\"lift_bytes/\\\"min:AND_ONE_CHILD_2\\\"\",\"lift_source/\\\"min:small\\\"\",\"lift_source/\\\"min:adds\\\"\",\"lift_source/\\\"min:mul-16\\\"\",\"lift_source/\\\"big:muls\\\"\",\"lift_source/\\\"min:idivs\\\"\",\"lift_source/\\\"big:divs\\\"\",\"lift_source/\\\"min:subs\\\"\",\"lift_source/\\\"min:xors\\\"\",\"lift_source/\\\"big:3d_image_toolkit\\\"\",\"lift_source/\\\"big:router_simulator\\\"\",\"lift_source/\\\"big:lan_simulator\\\"\",\"lift_source/\\\"big:tiny86\\\"\"],\"x\":[1393,2642,1393,1393,1934,1934,1799,2629,1992,2147,3163,1993,2930,1447,3528,2167,2148,1561,33932,34727,2936,2286,3805,2726,11954,2930,1946,3360,1270,2311,2499,52068,10424,77144,84395,156021,51288,50412,196651,166019,201210,374575],\"xaxis\":\"x\",\"y\":[1490,2909,1490,2095,1490,2095,2063,2854,2113,2251,3612,2216,3287,1544,3795,2300,2252,1658,34034,34968,3281,2435,4231,2964,12318,3211,2105,3823,1366,2582,2786,81976,12572,61631,80131,152532,77954,67498,245424,253054,249091,910143],\"yaxis\":\"y\",\"type\":\"scatter\"}],                        {\"template\":{\"data\":{\"barpolar\":[{\"marker\":{\"line\":{\"color\":\"white\",\"width\":0.5},\"pattern\":{\"fillmode\":\"overlay\",\"size\":10,\"solidity\":0.2}},\"type\":\"barpolar\"}],\"bar\":[{\"error_x\":{\"color\":\"#2a3f5f\"},\"error_y\":{\"color\":\"#2a3f5f\"},\"marker\":{\"line\":{\"color\":\"white\",\"width\":0.5},\"pattern\":{\"fillmode\":\"overlay\",\"size\":10,\"solidity\":0.2}},\"type\":\"bar\"}],\"carpet\":[{\"aaxis\":{\"endlinecolor\":\"#2a3f5f\",\"gridcolor\":\"#C8D4E3\",\"linecolor\":\"#C8D4E3\",\"minorgridcolor\":\"#C8D4E3\",\"startlinecolor\":\"#2a3f5f\"},\"baxis\":{\"endlinecolor\":\"#2a3f5f\",\"gridcolor\":\"#C8D4E3\",\"linecolor\":\"#C8D4E3\",\"minorgridcolor\":\"#C8D4E3\",\"startlinecolor\":\"#2a3f5f\"},\"type\":\"carpet\"}],\"choropleth\":[{\"colorbar\":{\"outlinewidth\":0,\"ticks\":\"\"},\"type\":\"choropleth\"}],\"contourcarpet\":[{\"colorbar\":{\"outlinewidth\":0,\"ticks\":\"\"},\"type\":\"contourcarpet\"}],\"contour\":[{\"colorbar\":{\"outlinewidth\":0,\"ticks\":\"\"},\"colorscale\":[[0.0,\"#0d0887\"],[0.1111111111111111,\"#46039f\"],[0.2222222222222222,\"#7201a8\"],[0.3333333333333333,\"#9c179e\"],[0.4444444444444444,\"#bd3786\"],[0.5555555555555556,\"#d8576b\"],[0.6666666666666666,\"#ed7953\"],[0.7777777777777778,\"#fb9f3a\"],[0.8888888888888888,\"#fdca26\"],[1.0,\"#f0f921\"]],\"type\":\"contour\"}],\"heatmapgl\":[{\"colorbar\":{\"outlinewidth\":0,\"ticks\":\"\"},\"colorscale\":[[0.0,\"#0d0887\"],[0.1111111111111111,\"#46039f\"],[0.2222222222222222,\"#7201a8\"],[0.3333333333333333,\"#9c179e\"],[0.4444444444444444,\"#bd3786\"],[0.5555555555555556,\"#d8576b\"],[0.6666666666666666,\"#ed7953\"],[0.7777777777777778,\"#fb9f3a\"],[0.8888888888888888,\"#fdca26\"],[1.0,\"#f0f921\"]],\"type\":\"heatmapgl\"}],\"heatmap\":[{\"colorbar\":{\"outlinewidth\":0,\"ticks\":\"\"},\"colorscale\":[[0.0,\"#0d0887\"],[0.1111111111111111,\"#46039f\"],[0.2222222222222222,\"#7201a8\"],[0.3333333333333333,\"#9c179e\"],[0.4444444444444444,\"#bd3786\"],[0.5555555555555556,\"#d8576b\"],[0.6666666666666666,\"#ed7953\"],[0.7777777777777778,\"#fb9f3a\"],[0.8888888888888888,\"#fdca26\"],[1.0,\"#f0f921\"]],\"type\":\"heatmap\"}],\"histogram2dcontour\":[{\"colorbar\":{\"outlinewidth\":0,\"ticks\":\"\"},\"colorscale\":[[0.0,\"#0d0887\"],[0.1111111111111111,\"#46039f\"],[0.2222222222222222,\"#7201a8\"],[0.3333333333333333,\"#9c179e\"],[0.4444444444444444,\"#bd3786\"],[0.5555555555555556,\"#d8576b\"],[0.6666666666666666,\"#ed7953\"],[0.7777777777777778,\"#fb9f3a\"],[0.8888888888888888,\"#fdca26\"],[1.0,\"#f0f921\"]],\"type\":\"histogram2dcontour\"}],\"histogram2d\":[{\"colorbar\":{\"outlinewidth\":0,\"ticks\":\"\"},\"colorscale\":[[0.0,\"#0d0887\"],[0.1111111111111111,\"#46039f\"],[0.2222222222222222,\"#7201a8\"],[0.3333333333333333,\"#9c179e\"],[0.4444444444444444,\"#bd3786\"],[0.5555555555555556,\"#d8576b\"],[0.6666666666666666,\"#ed7953\"],[0.7777777777777778,\"#fb9f3a\"],[0.8888888888888888,\"#fdca26\"],[1.0,\"#f0f921\"]],\"type\":\"histogram2d\"}],\"histogram\":[{\"marker\":{\"pattern\":{\"fillmode\":\"overlay\",\"size\":10,\"solidity\":0.2}},\"type\":\"histogram\"}],\"mesh3d\":[{\"colorbar\":{\"outlinewidth\":0,\"ticks\":\"\"},\"type\":\"mesh3d\"}],\"parcoords\":[{\"line\":{\"colorbar\":{\"outlinewidth\":0,\"ticks\":\"\"}},\"type\":\"parcoords\"}],\"pie\":[{\"automargin\":true,\"type\":\"pie\"}],\"scatter3d\":[{\"line\":{\"colorbar\":{\"outlinewidth\":0,\"ticks\":\"\"}},\"marker\":{\"colorbar\":{\"outlinewidth\":0,\"ticks\":\"\"}},\"type\":\"scatter3d\"}],\"scattercarpet\":[{\"marker\":{\"colorbar\":{\"outlinewidth\":0,\"ticks\":\"\"}},\"type\":\"scattercarpet\"}],\"scattergeo\":[{\"marker\":{\"colorbar\":{\"outlinewidth\":0,\"ticks\":\"\"}},\"type\":\"scattergeo\"}],\"scattergl\":[{\"marker\":{\"colorbar\":{\"outlinewidth\":0,\"ticks\":\"\"}},\"type\":\"scattergl\"}],\"scattermapbox\":[{\"marker\":{\"colorbar\":{\"outlinewidth\":0,\"ticks\":\"\"}},\"type\":\"scattermapbox\"}],\"scatterpolargl\":[{\"marker\":{\"colorbar\":{\"outlinewidth\":0,\"ticks\":\"\"}},\"type\":\"scatterpolargl\"}],\"scatterpolar\":[{\"marker\":{\"colorbar\":{\"outlinewidth\":0,\"ticks\":\"\"}},\"type\":\"scatterpolar\"}],\"scatter\":[{\"fillpattern\":{\"fillmode\":\"overlay\",\"size\":10,\"solidity\":0.2},\"type\":\"scatter\"}],\"scatterternary\":[{\"marker\":{\"colorbar\":{\"outlinewidth\":0,\"ticks\":\"\"}},\"type\":\"scatterternary\"}],\"surface\":[{\"colorbar\":{\"outlinewidth\":0,\"ticks\":\"\"},\"colorscale\":[[0.0,\"#0d0887\"],[0.1111111111111111,\"#46039f\"],[0.2222222222222222,\"#7201a8\"],[0.3333333333333333,\"#9c179e\"],[0.4444444444444444,\"#bd3786\"],[0.5555555555555556,\"#d8576b\"],[0.6666666666666666,\"#ed7953\"],[0.7777777777777778,\"#fb9f3a\"],[0.8888888888888888,\"#fdca26\"],[1.0,\"#f0f921\"]],\"type\":\"surface\"}],\"table\":[{\"cells\":{\"fill\":{\"color\":\"#EBF0F8\"},\"line\":{\"color\":\"white\"}},\"header\":{\"fill\":{\"color\":\"#C8D4E3\"},\"line\":{\"color\":\"white\"}},\"type\":\"table\"}]},\"layout\":{\"annotationdefaults\":{\"arrowcolor\":\"#2a3f5f\",\"arrowhead\":0,\"arrowwidth\":1},\"autotypenumbers\":\"strict\",\"coloraxis\":{\"colorbar\":{\"outlinewidth\":0,\"ticks\":\"\"}},\"colorscale\":{\"diverging\":[[0,\"#8e0152\"],[0.1,\"#c51b7d\"],[0.2,\"#de77ae\"],[0.3,\"#f1b6da\"],[0.4,\"#fde0ef\"],[0.5,\"#f7f7f7\"],[0.6,\"#e6f5d0\"],[0.7,\"#b8e186\"],[0.8,\"#7fbc41\"],[0.9,\"#4d9221\"],[1,\"#276419\"]],\"sequential\":[[0.0,\"#0d0887\"],[0.1111111111111111,\"#46039f\"],[0.2222222222222222,\"#7201a8\"],[0.3333333333333333,\"#9c179e\"],[0.4444444444444444,\"#bd3786\"],[0.5555555555555556,\"#d8576b\"],[0.6666666666666666,\"#ed7953\"],[0.7777777777777778,\"#fb9f3a\"],[0.8888888888888888,\"#fdca26\"],[1.0,\"#f0f921\"]],\"sequentialminus\":[[0.0,\"#0d0887\"],[0.1111111111111111,\"#46039f\"],[0.2222222222222222,\"#7201a8\"],[0.3333333333333333,\"#9c179e\"],[0.4444444444444444,\"#bd3786\"],[0.5555555555555556,\"#d8576b\"],[0.6666666666666666,\"#ed7953\"],[0.7777777777777778,\"#fb9f3a\"],[0.8888888888888888,\"#fdca26\"],[1.0,\"#f0f921\"]]},\"colorway\":[\"#636efa\",\"#EF553B\",\"#00cc96\",\"#ab63fa\",\"#FFA15A\",\"#19d3f3\",\"#FF6692\",\"#B6E880\",\"#FF97FF\",\"#FECB52\"],\"font\":{\"color\":\"#2a3f5f\"},\"geo\":{\"bgcolor\":\"white\",\"lakecolor\":\"white\",\"landcolor\":\"white\",\"showlakes\":true,\"showland\":true,\"subunitcolor\":\"#C8D4E3\"},\"hoverlabel\":{\"align\":\"left\"},\"hovermode\":\"closest\",\"mapbox\":{\"style\":\"light\"},\"paper_bgcolor\":\"white\",\"plot_bgcolor\":\"white\",\"polar\":{\"angularaxis\":{\"gridcolor\":\"#EBF0F8\",\"linecolor\":\"#EBF0F8\",\"ticks\":\"\"},\"bgcolor\":\"white\",\"radialaxis\":{\"gridcolor\":\"#EBF0F8\",\"linecolor\":\"#EBF0F8\",\"ticks\":\"\"}},\"scene\":{\"xaxis\":{\"backgroundcolor\":\"white\",\"gridcolor\":\"#DFE8F3\",\"gridwidth\":2,\"linecolor\":\"#EBF0F8\",\"showbackground\":true,\"ticks\":\"\",\"zerolinecolor\":\"#EBF0F8\"},\"yaxis\":{\"backgroundcolor\":\"white\",\"gridcolor\":\"#DFE8F3\",\"gridwidth\":2,\"linecolor\":\"#EBF0F8\",\"showbackground\":true,\"ticks\":\"\",\"zerolinecolor\":\"#EBF0F8\"},\"zaxis\":{\"backgroundcolor\":\"white\",\"gridcolor\":\"#DFE8F3\",\"gridwidth\":2,\"linecolor\":\"#EBF0F8\",\"showbackground\":true,\"ticks\":\"\",\"zerolinecolor\":\"#EBF0F8\"}},\"shapedefaults\":{\"line\":{\"color\":\"#2a3f5f\"}},\"ternary\":{\"aaxis\":{\"gridcolor\":\"#DFE8F3\",\"linecolor\":\"#A2B1C6\",\"ticks\":\"\"},\"baxis\":{\"gridcolor\":\"#DFE8F3\",\"linecolor\":\"#A2B1C6\",\"ticks\":\"\"},\"bgcolor\":\"white\",\"caxis\":{\"gridcolor\":\"#DFE8F3\",\"linecolor\":\"#A2B1C6\",\"ticks\":\"\"}},\"title\":{\"x\":0.05},\"xaxis\":{\"automargin\":true,\"gridcolor\":\"#EBF0F8\",\"linecolor\":\"#EBF0F8\",\"ticks\":\"\",\"title\":{\"standoff\":15},\"zerolinecolor\":\"#EBF0F8\",\"zerolinewidth\":2},\"yaxis\":{\"automargin\":true,\"gridcolor\":\"#EBF0F8\",\"linecolor\":\"#EBF0F8\",\"ticks\":\"\",\"title\":{\"standoff\":15},\"zerolinecolor\":\"#EBF0F8\",\"zerolinewidth\":2}}},\"xaxis\":{\"anchor\":\"y\",\"domain\":[0.0,1.0],\"title\":{\"text\":\"V:CELLS-new-noopt\"}},\"yaxis\":{\"anchor\":\"x\",\"domain\":[0.0,1.0],\"title\":{\"text\":\"V:CELLS-new-alu-synthesis\"}},\"legend\":{\"tracegroupgap\":0},\"margin\":{\"t\":60},\"hovermode\":\"x\",\"shapes\":[{\"line\":{\"color\":\"gray\",\"width\":1},\"type\":\"line\",\"x0\":0,\"x1\":1284718,\"xref\":\"x\",\"y0\":0,\"y1\":1284718,\"yref\":\"y\"}]},                        {\"responsive\": true}                    ).then(function(){\n",
       "                            \n",
       "var gd = document.getElementById('c39924cc-9871-43a1-a533-8c3981b0483f');\n",
       "var x = new MutationObserver(function (mutations, observer) {{\n",
       "        var display = window.getComputedStyle(gd).display;\n",
       "        if (!display || display === 'none') {{\n",
       "            console.log([gd, 'removed!']);\n",
       "            Plotly.purge(gd);\n",
       "            observer.disconnect();\n",
       "        }}\n",
       "}});\n",
       "\n",
       "// Listen for the removal of the full notebook cells\n",
       "var notebookContainer = gd.closest('#notebook-container');\n",
       "if (notebookContainer) {{\n",
       "    x.observe(notebookContainer, {childList: true});\n",
       "}}\n",
       "\n",
       "// Listen for the clearing of the current output cell\n",
       "var outputEl = gd.closest('.output');\n",
       "if (outputEl) {{\n",
       "    x.observe(outputEl, {childList: true});\n",
       "}}\n",
       "\n",
       "                        })                };                });            </script>        </div>"
      ]
     },
     "metadata": {},
     "output_type": "display_data"
    }
   ],
   "source": [
    "scatter((new_noopt, \"new-noopt\"), (new_conju, \"new-alu-synthesis\"), \"V:CELLS\")"
   ]
  },
  {
   "cell_type": "code",
   "execution_count": 269,
   "id": "889781f4",
   "metadata": {},
   "outputs": [
    {
     "data": {
      "application/vnd.plotly.v1+json": {
       "config": {
        "plotlyServerURL": "https://plot.ly"
       },
       "data": [
        {
         "hovertemplate": "Nodes-new-noopt=%{x}<br>Nodes-new-alu-synthesis=%{y}<br>name=%{text}<extra></extra>",
         "legendgroup": "",
         "marker": {
          "color": "#636efa",
          "symbol": "circle"
         },
         "mode": "markers",
         "name": "",
         "orientation": "v",
         "showlegend": false,
         "text": [
          "lift_bytes/\"min:AND_AL_IMMb\"",
          "lift_bytes/\"min:LEA_GPRv_AGEN_32\"",
          "lift_bytes/\"min:LODSB\"",
          "lift_bytes/\"min:LODSB\"",
          "lift_bytes/\"min:LODSB\"",
          "lift_bytes/\"min:LODSB\"",
          "lift_bytes/\"min:LOOP_RELBRb\"",
          "lift_bytes/\"min:MOVSB\"",
          "lift_bytes/\"min:MOV_GPR8_GPR8_8A\"",
          "lift_bytes/\"min:OR_GPRv_IMMz_32\"",
          "lift_bytes/\"min:POPAD_32\"",
          "lift_bytes/\"min:PUSH_IMMz_32\"",
          "lift_bytes/\"min:PUSH_MEMv_32\"",
          "lift_bytes/\"min:SUB_AL_IMMb\"",
          "lift_bytes/\"min:SUB_GPRv_MEMv_32\"",
          "lift_bytes/\"min:XOR_GPR8_GPR8_32\"",
          "lift_bytes/\"min:XOR_GPRv_IMMz_32\"",
          "lift_bytes/\"min:XOR_OrAX_IMMz_32\"",
          "lift_bytes/\"min:DIV_GPRv_32\"",
          "lift_bytes/\"min:DIV_MEMv_32\"",
          "lift_bytes/\"min:AND_MEMb_GPR8\"",
          "lift_bytes/\"min:ADD_GPR8_GPR8_02\"",
          "lift_bytes/\"min:ADD_MEMb_GPR8\"",
          "lift_bytes/\"min:IMUL_GPRv_MEMv_IMMz_16\"",
          "lift_bytes/\"min:IMUL_GPRv_MEMv_IMMz_32\"",
          "lift_bytes/\"min:IMUL_MEMb\"",
          "lift_bytes/\"min:MOV_MEMv_GPRv_16\"",
          "lift_bytes/\"min:MOV_RAX_RAX\"",
          "lift_bytes/\"min:AND_ONE_CHILD_1\"",
          "lift_bytes/\"min:AND_ONE_CHILD_2\"",
          "lift_source/\"min:small\"",
          "lift_source/\"min:adds\"",
          "lift_source/\"min:mul-16\"",
          "lift_source/\"big:muls\"",
          "lift_source/\"min:idivs\"",
          "lift_source/\"big:divs\"",
          "lift_source/\"min:subs\"",
          "lift_source/\"min:xors\"",
          "lift_source/\"big:3d_image_toolkit\"",
          "lift_source/\"big:router_simulator\"",
          "lift_source/\"big:lan_simulator\"",
          "lift_source/\"big:tiny86\""
         ],
         "type": "scatter",
         "x": [
          110,
          155,
          110,
          110,
          107,
          107,
          111,
          107,
          160,
          142,
          127,
          102,
          128,
          128,
          179,
          179,
          142,
          104,
          168,
          188,
          161,
          197,
          179,
          171,
          167,
          141,
          134,
          218,
          92,
          165,
          226,
          1946,
          423,
          1419,
          658,
          1069,
          1936,
          1791,
          3933,
          3979,
          4569,
          12203
         ],
         "xaxis": "x",
         "y": [
          123,
          200,
          123,
          138,
          123,
          138,
          169,
          156,
          183,
          159,
          257,
          133,
          190,
          150,
          233,
          206,
          159,
          117,
          201,
          250,
          240,
          242,
          276,
          228,
          217,
          190,
          182,
          293,
          105,
          212,
          312,
          10382,
          935,
          6192,
          1437,
          2772,
          10021,
          8888,
          18505,
          19109,
          26686,
          121328
         ],
         "yaxis": "y"
        }
       ],
       "layout": {
        "hovermode": "x",
        "legend": {
         "tracegroupgap": 0
        },
        "margin": {
         "t": 60
        },
        "shapes": [
         {
          "line": {
           "color": "gray",
           "width": 1
          },
          "type": "line",
          "x0": 0,
          "x1": 133531,
          "xref": "x",
          "y0": 0,
          "y1": 133531,
          "yref": "y"
         }
        ],
        "template": {
         "data": {
          "bar": [
           {
            "error_x": {
             "color": "#2a3f5f"
            },
            "error_y": {
             "color": "#2a3f5f"
            },
            "marker": {
             "line": {
              "color": "white",
              "width": 0.5
             },
             "pattern": {
              "fillmode": "overlay",
              "size": 10,
              "solidity": 0.2
             }
            },
            "type": "bar"
           }
          ],
          "barpolar": [
           {
            "marker": {
             "line": {
              "color": "white",
              "width": 0.5
             },
             "pattern": {
              "fillmode": "overlay",
              "size": 10,
              "solidity": 0.2
             }
            },
            "type": "barpolar"
           }
          ],
          "carpet": [
           {
            "aaxis": {
             "endlinecolor": "#2a3f5f",
             "gridcolor": "#C8D4E3",
             "linecolor": "#C8D4E3",
             "minorgridcolor": "#C8D4E3",
             "startlinecolor": "#2a3f5f"
            },
            "baxis": {
             "endlinecolor": "#2a3f5f",
             "gridcolor": "#C8D4E3",
             "linecolor": "#C8D4E3",
             "minorgridcolor": "#C8D4E3",
             "startlinecolor": "#2a3f5f"
            },
            "type": "carpet"
           }
          ],
          "choropleth": [
           {
            "colorbar": {
             "outlinewidth": 0,
             "ticks": ""
            },
            "type": "choropleth"
           }
          ],
          "contour": [
           {
            "colorbar": {
             "outlinewidth": 0,
             "ticks": ""
            },
            "colorscale": [
             [
              0,
              "#0d0887"
             ],
             [
              0.1111111111111111,
              "#46039f"
             ],
             [
              0.2222222222222222,
              "#7201a8"
             ],
             [
              0.3333333333333333,
              "#9c179e"
             ],
             [
              0.4444444444444444,
              "#bd3786"
             ],
             [
              0.5555555555555556,
              "#d8576b"
             ],
             [
              0.6666666666666666,
              "#ed7953"
             ],
             [
              0.7777777777777778,
              "#fb9f3a"
             ],
             [
              0.8888888888888888,
              "#fdca26"
             ],
             [
              1,
              "#f0f921"
             ]
            ],
            "type": "contour"
           }
          ],
          "contourcarpet": [
           {
            "colorbar": {
             "outlinewidth": 0,
             "ticks": ""
            },
            "type": "contourcarpet"
           }
          ],
          "heatmap": [
           {
            "colorbar": {
             "outlinewidth": 0,
             "ticks": ""
            },
            "colorscale": [
             [
              0,
              "#0d0887"
             ],
             [
              0.1111111111111111,
              "#46039f"
             ],
             [
              0.2222222222222222,
              "#7201a8"
             ],
             [
              0.3333333333333333,
              "#9c179e"
             ],
             [
              0.4444444444444444,
              "#bd3786"
             ],
             [
              0.5555555555555556,
              "#d8576b"
             ],
             [
              0.6666666666666666,
              "#ed7953"
             ],
             [
              0.7777777777777778,
              "#fb9f3a"
             ],
             [
              0.8888888888888888,
              "#fdca26"
             ],
             [
              1,
              "#f0f921"
             ]
            ],
            "type": "heatmap"
           }
          ],
          "heatmapgl": [
           {
            "colorbar": {
             "outlinewidth": 0,
             "ticks": ""
            },
            "colorscale": [
             [
              0,
              "#0d0887"
             ],
             [
              0.1111111111111111,
              "#46039f"
             ],
             [
              0.2222222222222222,
              "#7201a8"
             ],
             [
              0.3333333333333333,
              "#9c179e"
             ],
             [
              0.4444444444444444,
              "#bd3786"
             ],
             [
              0.5555555555555556,
              "#d8576b"
             ],
             [
              0.6666666666666666,
              "#ed7953"
             ],
             [
              0.7777777777777778,
              "#fb9f3a"
             ],
             [
              0.8888888888888888,
              "#fdca26"
             ],
             [
              1,
              "#f0f921"
             ]
            ],
            "type": "heatmapgl"
           }
          ],
          "histogram": [
           {
            "marker": {
             "pattern": {
              "fillmode": "overlay",
              "size": 10,
              "solidity": 0.2
             }
            },
            "type": "histogram"
           }
          ],
          "histogram2d": [
           {
            "colorbar": {
             "outlinewidth": 0,
             "ticks": ""
            },
            "colorscale": [
             [
              0,
              "#0d0887"
             ],
             [
              0.1111111111111111,
              "#46039f"
             ],
             [
              0.2222222222222222,
              "#7201a8"
             ],
             [
              0.3333333333333333,
              "#9c179e"
             ],
             [
              0.4444444444444444,
              "#bd3786"
             ],
             [
              0.5555555555555556,
              "#d8576b"
             ],
             [
              0.6666666666666666,
              "#ed7953"
             ],
             [
              0.7777777777777778,
              "#fb9f3a"
             ],
             [
              0.8888888888888888,
              "#fdca26"
             ],
             [
              1,
              "#f0f921"
             ]
            ],
            "type": "histogram2d"
           }
          ],
          "histogram2dcontour": [
           {
            "colorbar": {
             "outlinewidth": 0,
             "ticks": ""
            },
            "colorscale": [
             [
              0,
              "#0d0887"
             ],
             [
              0.1111111111111111,
              "#46039f"
             ],
             [
              0.2222222222222222,
              "#7201a8"
             ],
             [
              0.3333333333333333,
              "#9c179e"
             ],
             [
              0.4444444444444444,
              "#bd3786"
             ],
             [
              0.5555555555555556,
              "#d8576b"
             ],
             [
              0.6666666666666666,
              "#ed7953"
             ],
             [
              0.7777777777777778,
              "#fb9f3a"
             ],
             [
              0.8888888888888888,
              "#fdca26"
             ],
             [
              1,
              "#f0f921"
             ]
            ],
            "type": "histogram2dcontour"
           }
          ],
          "mesh3d": [
           {
            "colorbar": {
             "outlinewidth": 0,
             "ticks": ""
            },
            "type": "mesh3d"
           }
          ],
          "parcoords": [
           {
            "line": {
             "colorbar": {
              "outlinewidth": 0,
              "ticks": ""
             }
            },
            "type": "parcoords"
           }
          ],
          "pie": [
           {
            "automargin": true,
            "type": "pie"
           }
          ],
          "scatter": [
           {
            "fillpattern": {
             "fillmode": "overlay",
             "size": 10,
             "solidity": 0.2
            },
            "type": "scatter"
           }
          ],
          "scatter3d": [
           {
            "line": {
             "colorbar": {
              "outlinewidth": 0,
              "ticks": ""
             }
            },
            "marker": {
             "colorbar": {
              "outlinewidth": 0,
              "ticks": ""
             }
            },
            "type": "scatter3d"
           }
          ],
          "scattercarpet": [
           {
            "marker": {
             "colorbar": {
              "outlinewidth": 0,
              "ticks": ""
             }
            },
            "type": "scattercarpet"
           }
          ],
          "scattergeo": [
           {
            "marker": {
             "colorbar": {
              "outlinewidth": 0,
              "ticks": ""
             }
            },
            "type": "scattergeo"
           }
          ],
          "scattergl": [
           {
            "marker": {
             "colorbar": {
              "outlinewidth": 0,
              "ticks": ""
             }
            },
            "type": "scattergl"
           }
          ],
          "scattermapbox": [
           {
            "marker": {
             "colorbar": {
              "outlinewidth": 0,
              "ticks": ""
             }
            },
            "type": "scattermapbox"
           }
          ],
          "scatterpolar": [
           {
            "marker": {
             "colorbar": {
              "outlinewidth": 0,
              "ticks": ""
             }
            },
            "type": "scatterpolar"
           }
          ],
          "scatterpolargl": [
           {
            "marker": {
             "colorbar": {
              "outlinewidth": 0,
              "ticks": ""
             }
            },
            "type": "scatterpolargl"
           }
          ],
          "scatterternary": [
           {
            "marker": {
             "colorbar": {
              "outlinewidth": 0,
              "ticks": ""
             }
            },
            "type": "scatterternary"
           }
          ],
          "surface": [
           {
            "colorbar": {
             "outlinewidth": 0,
             "ticks": ""
            },
            "colorscale": [
             [
              0,
              "#0d0887"
             ],
             [
              0.1111111111111111,
              "#46039f"
             ],
             [
              0.2222222222222222,
              "#7201a8"
             ],
             [
              0.3333333333333333,
              "#9c179e"
             ],
             [
              0.4444444444444444,
              "#bd3786"
             ],
             [
              0.5555555555555556,
              "#d8576b"
             ],
             [
              0.6666666666666666,
              "#ed7953"
             ],
             [
              0.7777777777777778,
              "#fb9f3a"
             ],
             [
              0.8888888888888888,
              "#fdca26"
             ],
             [
              1,
              "#f0f921"
             ]
            ],
            "type": "surface"
           }
          ],
          "table": [
           {
            "cells": {
             "fill": {
              "color": "#EBF0F8"
             },
             "line": {
              "color": "white"
             }
            },
            "header": {
             "fill": {
              "color": "#C8D4E3"
             },
             "line": {
              "color": "white"
             }
            },
            "type": "table"
           }
          ]
         },
         "layout": {
          "annotationdefaults": {
           "arrowcolor": "#2a3f5f",
           "arrowhead": 0,
           "arrowwidth": 1
          },
          "autotypenumbers": "strict",
          "coloraxis": {
           "colorbar": {
            "outlinewidth": 0,
            "ticks": ""
           }
          },
          "colorscale": {
           "diverging": [
            [
             0,
             "#8e0152"
            ],
            [
             0.1,
             "#c51b7d"
            ],
            [
             0.2,
             "#de77ae"
            ],
            [
             0.3,
             "#f1b6da"
            ],
            [
             0.4,
             "#fde0ef"
            ],
            [
             0.5,
             "#f7f7f7"
            ],
            [
             0.6,
             "#e6f5d0"
            ],
            [
             0.7,
             "#b8e186"
            ],
            [
             0.8,
             "#7fbc41"
            ],
            [
             0.9,
             "#4d9221"
            ],
            [
             1,
             "#276419"
            ]
           ],
           "sequential": [
            [
             0,
             "#0d0887"
            ],
            [
             0.1111111111111111,
             "#46039f"
            ],
            [
             0.2222222222222222,
             "#7201a8"
            ],
            [
             0.3333333333333333,
             "#9c179e"
            ],
            [
             0.4444444444444444,
             "#bd3786"
            ],
            [
             0.5555555555555556,
             "#d8576b"
            ],
            [
             0.6666666666666666,
             "#ed7953"
            ],
            [
             0.7777777777777778,
             "#fb9f3a"
            ],
            [
             0.8888888888888888,
             "#fdca26"
            ],
            [
             1,
             "#f0f921"
            ]
           ],
           "sequentialminus": [
            [
             0,
             "#0d0887"
            ],
            [
             0.1111111111111111,
             "#46039f"
            ],
            [
             0.2222222222222222,
             "#7201a8"
            ],
            [
             0.3333333333333333,
             "#9c179e"
            ],
            [
             0.4444444444444444,
             "#bd3786"
            ],
            [
             0.5555555555555556,
             "#d8576b"
            ],
            [
             0.6666666666666666,
             "#ed7953"
            ],
            [
             0.7777777777777778,
             "#fb9f3a"
            ],
            [
             0.8888888888888888,
             "#fdca26"
            ],
            [
             1,
             "#f0f921"
            ]
           ]
          },
          "colorway": [
           "#636efa",
           "#EF553B",
           "#00cc96",
           "#ab63fa",
           "#FFA15A",
           "#19d3f3",
           "#FF6692",
           "#B6E880",
           "#FF97FF",
           "#FECB52"
          ],
          "font": {
           "color": "#2a3f5f"
          },
          "geo": {
           "bgcolor": "white",
           "lakecolor": "white",
           "landcolor": "white",
           "showlakes": true,
           "showland": true,
           "subunitcolor": "#C8D4E3"
          },
          "hoverlabel": {
           "align": "left"
          },
          "hovermode": "closest",
          "mapbox": {
           "style": "light"
          },
          "paper_bgcolor": "white",
          "plot_bgcolor": "white",
          "polar": {
           "angularaxis": {
            "gridcolor": "#EBF0F8",
            "linecolor": "#EBF0F8",
            "ticks": ""
           },
           "bgcolor": "white",
           "radialaxis": {
            "gridcolor": "#EBF0F8",
            "linecolor": "#EBF0F8",
            "ticks": ""
           }
          },
          "scene": {
           "xaxis": {
            "backgroundcolor": "white",
            "gridcolor": "#DFE8F3",
            "gridwidth": 2,
            "linecolor": "#EBF0F8",
            "showbackground": true,
            "ticks": "",
            "zerolinecolor": "#EBF0F8"
           },
           "yaxis": {
            "backgroundcolor": "white",
            "gridcolor": "#DFE8F3",
            "gridwidth": 2,
            "linecolor": "#EBF0F8",
            "showbackground": true,
            "ticks": "",
            "zerolinecolor": "#EBF0F8"
           },
           "zaxis": {
            "backgroundcolor": "white",
            "gridcolor": "#DFE8F3",
            "gridwidth": 2,
            "linecolor": "#EBF0F8",
            "showbackground": true,
            "ticks": "",
            "zerolinecolor": "#EBF0F8"
           }
          },
          "shapedefaults": {
           "line": {
            "color": "#2a3f5f"
           }
          },
          "ternary": {
           "aaxis": {
            "gridcolor": "#DFE8F3",
            "linecolor": "#A2B1C6",
            "ticks": ""
           },
           "baxis": {
            "gridcolor": "#DFE8F3",
            "linecolor": "#A2B1C6",
            "ticks": ""
           },
           "bgcolor": "white",
           "caxis": {
            "gridcolor": "#DFE8F3",
            "linecolor": "#A2B1C6",
            "ticks": ""
           }
          },
          "title": {
           "x": 0.05
          },
          "xaxis": {
           "automargin": true,
           "gridcolor": "#EBF0F8",
           "linecolor": "#EBF0F8",
           "ticks": "",
           "title": {
            "standoff": 15
           },
           "zerolinecolor": "#EBF0F8",
           "zerolinewidth": 2
          },
          "yaxis": {
           "automargin": true,
           "gridcolor": "#EBF0F8",
           "linecolor": "#EBF0F8",
           "ticks": "",
           "title": {
            "standoff": 15
           },
           "zerolinecolor": "#EBF0F8",
           "zerolinewidth": 2
          }
         }
        },
        "xaxis": {
         "anchor": "y",
         "domain": [
          0,
          1
         ],
         "title": {
          "text": "Nodes-new-noopt"
         }
        },
        "yaxis": {
         "anchor": "x",
         "domain": [
          0,
          1
         ],
         "title": {
          "text": "Nodes-new-alu-synthesis"
         }
        }
       }
      },
      "text/html": [
       "<div>                            <div id=\"87816714-6c15-4394-82e2-221dc2675485\" class=\"plotly-graph-div\" style=\"height:525px; width:100%;\"></div>            <script type=\"text/javascript\">                require([\"plotly\"], function(Plotly) {                    window.PLOTLYENV=window.PLOTLYENV || {};                                    if (document.getElementById(\"87816714-6c15-4394-82e2-221dc2675485\")) {                    Plotly.newPlot(                        \"87816714-6c15-4394-82e2-221dc2675485\",                        [{\"hovertemplate\":\"Nodes-new-noopt=%{x}<br>Nodes-new-alu-synthesis=%{y}<br>name=%{text}<extra></extra>\",\"legendgroup\":\"\",\"marker\":{\"color\":\"#636efa\",\"symbol\":\"circle\"},\"mode\":\"markers\",\"name\":\"\",\"orientation\":\"v\",\"showlegend\":false,\"text\":[\"lift_bytes/\\\"min:AND_AL_IMMb\\\"\",\"lift_bytes/\\\"min:LEA_GPRv_AGEN_32\\\"\",\"lift_bytes/\\\"min:LODSB\\\"\",\"lift_bytes/\\\"min:LODSB\\\"\",\"lift_bytes/\\\"min:LODSB\\\"\",\"lift_bytes/\\\"min:LODSB\\\"\",\"lift_bytes/\\\"min:LOOP_RELBRb\\\"\",\"lift_bytes/\\\"min:MOVSB\\\"\",\"lift_bytes/\\\"min:MOV_GPR8_GPR8_8A\\\"\",\"lift_bytes/\\\"min:OR_GPRv_IMMz_32\\\"\",\"lift_bytes/\\\"min:POPAD_32\\\"\",\"lift_bytes/\\\"min:PUSH_IMMz_32\\\"\",\"lift_bytes/\\\"min:PUSH_MEMv_32\\\"\",\"lift_bytes/\\\"min:SUB_AL_IMMb\\\"\",\"lift_bytes/\\\"min:SUB_GPRv_MEMv_32\\\"\",\"lift_bytes/\\\"min:XOR_GPR8_GPR8_32\\\"\",\"lift_bytes/\\\"min:XOR_GPRv_IMMz_32\\\"\",\"lift_bytes/\\\"min:XOR_OrAX_IMMz_32\\\"\",\"lift_bytes/\\\"min:DIV_GPRv_32\\\"\",\"lift_bytes/\\\"min:DIV_MEMv_32\\\"\",\"lift_bytes/\\\"min:AND_MEMb_GPR8\\\"\",\"lift_bytes/\\\"min:ADD_GPR8_GPR8_02\\\"\",\"lift_bytes/\\\"min:ADD_MEMb_GPR8\\\"\",\"lift_bytes/\\\"min:IMUL_GPRv_MEMv_IMMz_16\\\"\",\"lift_bytes/\\\"min:IMUL_GPRv_MEMv_IMMz_32\\\"\",\"lift_bytes/\\\"min:IMUL_MEMb\\\"\",\"lift_bytes/\\\"min:MOV_MEMv_GPRv_16\\\"\",\"lift_bytes/\\\"min:MOV_RAX_RAX\\\"\",\"lift_bytes/\\\"min:AND_ONE_CHILD_1\\\"\",\"lift_bytes/\\\"min:AND_ONE_CHILD_2\\\"\",\"lift_source/\\\"min:small\\\"\",\"lift_source/\\\"min:adds\\\"\",\"lift_source/\\\"min:mul-16\\\"\",\"lift_source/\\\"big:muls\\\"\",\"lift_source/\\\"min:idivs\\\"\",\"lift_source/\\\"big:divs\\\"\",\"lift_source/\\\"min:subs\\\"\",\"lift_source/\\\"min:xors\\\"\",\"lift_source/\\\"big:3d_image_toolkit\\\"\",\"lift_source/\\\"big:router_simulator\\\"\",\"lift_source/\\\"big:lan_simulator\\\"\",\"lift_source/\\\"big:tiny86\\\"\"],\"x\":[110,155,110,110,107,107,111,107,160,142,127,102,128,128,179,179,142,104,168,188,161,197,179,171,167,141,134,218,92,165,226,1946,423,1419,658,1069,1936,1791,3933,3979,4569,12203],\"xaxis\":\"x\",\"y\":[123,200,123,138,123,138,169,156,183,159,257,133,190,150,233,206,159,117,201,250,240,242,276,228,217,190,182,293,105,212,312,10382,935,6192,1437,2772,10021,8888,18505,19109,26686,121328],\"yaxis\":\"y\",\"type\":\"scatter\"}],                        {\"template\":{\"data\":{\"barpolar\":[{\"marker\":{\"line\":{\"color\":\"white\",\"width\":0.5},\"pattern\":{\"fillmode\":\"overlay\",\"size\":10,\"solidity\":0.2}},\"type\":\"barpolar\"}],\"bar\":[{\"error_x\":{\"color\":\"#2a3f5f\"},\"error_y\":{\"color\":\"#2a3f5f\"},\"marker\":{\"line\":{\"color\":\"white\",\"width\":0.5},\"pattern\":{\"fillmode\":\"overlay\",\"size\":10,\"solidity\":0.2}},\"type\":\"bar\"}],\"carpet\":[{\"aaxis\":{\"endlinecolor\":\"#2a3f5f\",\"gridcolor\":\"#C8D4E3\",\"linecolor\":\"#C8D4E3\",\"minorgridcolor\":\"#C8D4E3\",\"startlinecolor\":\"#2a3f5f\"},\"baxis\":{\"endlinecolor\":\"#2a3f5f\",\"gridcolor\":\"#C8D4E3\",\"linecolor\":\"#C8D4E3\",\"minorgridcolor\":\"#C8D4E3\",\"startlinecolor\":\"#2a3f5f\"},\"type\":\"carpet\"}],\"choropleth\":[{\"colorbar\":{\"outlinewidth\":0,\"ticks\":\"\"},\"type\":\"choropleth\"}],\"contourcarpet\":[{\"colorbar\":{\"outlinewidth\":0,\"ticks\":\"\"},\"type\":\"contourcarpet\"}],\"contour\":[{\"colorbar\":{\"outlinewidth\":0,\"ticks\":\"\"},\"colorscale\":[[0.0,\"#0d0887\"],[0.1111111111111111,\"#46039f\"],[0.2222222222222222,\"#7201a8\"],[0.3333333333333333,\"#9c179e\"],[0.4444444444444444,\"#bd3786\"],[0.5555555555555556,\"#d8576b\"],[0.6666666666666666,\"#ed7953\"],[0.7777777777777778,\"#fb9f3a\"],[0.8888888888888888,\"#fdca26\"],[1.0,\"#f0f921\"]],\"type\":\"contour\"}],\"heatmapgl\":[{\"colorbar\":{\"outlinewidth\":0,\"ticks\":\"\"},\"colorscale\":[[0.0,\"#0d0887\"],[0.1111111111111111,\"#46039f\"],[0.2222222222222222,\"#7201a8\"],[0.3333333333333333,\"#9c179e\"],[0.4444444444444444,\"#bd3786\"],[0.5555555555555556,\"#d8576b\"],[0.6666666666666666,\"#ed7953\"],[0.7777777777777778,\"#fb9f3a\"],[0.8888888888888888,\"#fdca26\"],[1.0,\"#f0f921\"]],\"type\":\"heatmapgl\"}],\"heatmap\":[{\"colorbar\":{\"outlinewidth\":0,\"ticks\":\"\"},\"colorscale\":[[0.0,\"#0d0887\"],[0.1111111111111111,\"#46039f\"],[0.2222222222222222,\"#7201a8\"],[0.3333333333333333,\"#9c179e\"],[0.4444444444444444,\"#bd3786\"],[0.5555555555555556,\"#d8576b\"],[0.6666666666666666,\"#ed7953\"],[0.7777777777777778,\"#fb9f3a\"],[0.8888888888888888,\"#fdca26\"],[1.0,\"#f0f921\"]],\"type\":\"heatmap\"}],\"histogram2dcontour\":[{\"colorbar\":{\"outlinewidth\":0,\"ticks\":\"\"},\"colorscale\":[[0.0,\"#0d0887\"],[0.1111111111111111,\"#46039f\"],[0.2222222222222222,\"#7201a8\"],[0.3333333333333333,\"#9c179e\"],[0.4444444444444444,\"#bd3786\"],[0.5555555555555556,\"#d8576b\"],[0.6666666666666666,\"#ed7953\"],[0.7777777777777778,\"#fb9f3a\"],[0.8888888888888888,\"#fdca26\"],[1.0,\"#f0f921\"]],\"type\":\"histogram2dcontour\"}],\"histogram2d\":[{\"colorbar\":{\"outlinewidth\":0,\"ticks\":\"\"},\"colorscale\":[[0.0,\"#0d0887\"],[0.1111111111111111,\"#46039f\"],[0.2222222222222222,\"#7201a8\"],[0.3333333333333333,\"#9c179e\"],[0.4444444444444444,\"#bd3786\"],[0.5555555555555556,\"#d8576b\"],[0.6666666666666666,\"#ed7953\"],[0.7777777777777778,\"#fb9f3a\"],[0.8888888888888888,\"#fdca26\"],[1.0,\"#f0f921\"]],\"type\":\"histogram2d\"}],\"histogram\":[{\"marker\":{\"pattern\":{\"fillmode\":\"overlay\",\"size\":10,\"solidity\":0.2}},\"type\":\"histogram\"}],\"mesh3d\":[{\"colorbar\":{\"outlinewidth\":0,\"ticks\":\"\"},\"type\":\"mesh3d\"}],\"parcoords\":[{\"line\":{\"colorbar\":{\"outlinewidth\":0,\"ticks\":\"\"}},\"type\":\"parcoords\"}],\"pie\":[{\"automargin\":true,\"type\":\"pie\"}],\"scatter3d\":[{\"line\":{\"colorbar\":{\"outlinewidth\":0,\"ticks\":\"\"}},\"marker\":{\"colorbar\":{\"outlinewidth\":0,\"ticks\":\"\"}},\"type\":\"scatter3d\"}],\"scattercarpet\":[{\"marker\":{\"colorbar\":{\"outlinewidth\":0,\"ticks\":\"\"}},\"type\":\"scattercarpet\"}],\"scattergeo\":[{\"marker\":{\"colorbar\":{\"outlinewidth\":0,\"ticks\":\"\"}},\"type\":\"scattergeo\"}],\"scattergl\":[{\"marker\":{\"colorbar\":{\"outlinewidth\":0,\"ticks\":\"\"}},\"type\":\"scattergl\"}],\"scattermapbox\":[{\"marker\":{\"colorbar\":{\"outlinewidth\":0,\"ticks\":\"\"}},\"type\":\"scattermapbox\"}],\"scatterpolargl\":[{\"marker\":{\"colorbar\":{\"outlinewidth\":0,\"ticks\":\"\"}},\"type\":\"scatterpolargl\"}],\"scatterpolar\":[{\"marker\":{\"colorbar\":{\"outlinewidth\":0,\"ticks\":\"\"}},\"type\":\"scatterpolar\"}],\"scatter\":[{\"fillpattern\":{\"fillmode\":\"overlay\",\"size\":10,\"solidity\":0.2},\"type\":\"scatter\"}],\"scatterternary\":[{\"marker\":{\"colorbar\":{\"outlinewidth\":0,\"ticks\":\"\"}},\"type\":\"scatterternary\"}],\"surface\":[{\"colorbar\":{\"outlinewidth\":0,\"ticks\":\"\"},\"colorscale\":[[0.0,\"#0d0887\"],[0.1111111111111111,\"#46039f\"],[0.2222222222222222,\"#7201a8\"],[0.3333333333333333,\"#9c179e\"],[0.4444444444444444,\"#bd3786\"],[0.5555555555555556,\"#d8576b\"],[0.6666666666666666,\"#ed7953\"],[0.7777777777777778,\"#fb9f3a\"],[0.8888888888888888,\"#fdca26\"],[1.0,\"#f0f921\"]],\"type\":\"surface\"}],\"table\":[{\"cells\":{\"fill\":{\"color\":\"#EBF0F8\"},\"line\":{\"color\":\"white\"}},\"header\":{\"fill\":{\"color\":\"#C8D4E3\"},\"line\":{\"color\":\"white\"}},\"type\":\"table\"}]},\"layout\":{\"annotationdefaults\":{\"arrowcolor\":\"#2a3f5f\",\"arrowhead\":0,\"arrowwidth\":1},\"autotypenumbers\":\"strict\",\"coloraxis\":{\"colorbar\":{\"outlinewidth\":0,\"ticks\":\"\"}},\"colorscale\":{\"diverging\":[[0,\"#8e0152\"],[0.1,\"#c51b7d\"],[0.2,\"#de77ae\"],[0.3,\"#f1b6da\"],[0.4,\"#fde0ef\"],[0.5,\"#f7f7f7\"],[0.6,\"#e6f5d0\"],[0.7,\"#b8e186\"],[0.8,\"#7fbc41\"],[0.9,\"#4d9221\"],[1,\"#276419\"]],\"sequential\":[[0.0,\"#0d0887\"],[0.1111111111111111,\"#46039f\"],[0.2222222222222222,\"#7201a8\"],[0.3333333333333333,\"#9c179e\"],[0.4444444444444444,\"#bd3786\"],[0.5555555555555556,\"#d8576b\"],[0.6666666666666666,\"#ed7953\"],[0.7777777777777778,\"#fb9f3a\"],[0.8888888888888888,\"#fdca26\"],[1.0,\"#f0f921\"]],\"sequentialminus\":[[0.0,\"#0d0887\"],[0.1111111111111111,\"#46039f\"],[0.2222222222222222,\"#7201a8\"],[0.3333333333333333,\"#9c179e\"],[0.4444444444444444,\"#bd3786\"],[0.5555555555555556,\"#d8576b\"],[0.6666666666666666,\"#ed7953\"],[0.7777777777777778,\"#fb9f3a\"],[0.8888888888888888,\"#fdca26\"],[1.0,\"#f0f921\"]]},\"colorway\":[\"#636efa\",\"#EF553B\",\"#00cc96\",\"#ab63fa\",\"#FFA15A\",\"#19d3f3\",\"#FF6692\",\"#B6E880\",\"#FF97FF\",\"#FECB52\"],\"font\":{\"color\":\"#2a3f5f\"},\"geo\":{\"bgcolor\":\"white\",\"lakecolor\":\"white\",\"landcolor\":\"white\",\"showlakes\":true,\"showland\":true,\"subunitcolor\":\"#C8D4E3\"},\"hoverlabel\":{\"align\":\"left\"},\"hovermode\":\"closest\",\"mapbox\":{\"style\":\"light\"},\"paper_bgcolor\":\"white\",\"plot_bgcolor\":\"white\",\"polar\":{\"angularaxis\":{\"gridcolor\":\"#EBF0F8\",\"linecolor\":\"#EBF0F8\",\"ticks\":\"\"},\"bgcolor\":\"white\",\"radialaxis\":{\"gridcolor\":\"#EBF0F8\",\"linecolor\":\"#EBF0F8\",\"ticks\":\"\"}},\"scene\":{\"xaxis\":{\"backgroundcolor\":\"white\",\"gridcolor\":\"#DFE8F3\",\"gridwidth\":2,\"linecolor\":\"#EBF0F8\",\"showbackground\":true,\"ticks\":\"\",\"zerolinecolor\":\"#EBF0F8\"},\"yaxis\":{\"backgroundcolor\":\"white\",\"gridcolor\":\"#DFE8F3\",\"gridwidth\":2,\"linecolor\":\"#EBF0F8\",\"showbackground\":true,\"ticks\":\"\",\"zerolinecolor\":\"#EBF0F8\"},\"zaxis\":{\"backgroundcolor\":\"white\",\"gridcolor\":\"#DFE8F3\",\"gridwidth\":2,\"linecolor\":\"#EBF0F8\",\"showbackground\":true,\"ticks\":\"\",\"zerolinecolor\":\"#EBF0F8\"}},\"shapedefaults\":{\"line\":{\"color\":\"#2a3f5f\"}},\"ternary\":{\"aaxis\":{\"gridcolor\":\"#DFE8F3\",\"linecolor\":\"#A2B1C6\",\"ticks\":\"\"},\"baxis\":{\"gridcolor\":\"#DFE8F3\",\"linecolor\":\"#A2B1C6\",\"ticks\":\"\"},\"bgcolor\":\"white\",\"caxis\":{\"gridcolor\":\"#DFE8F3\",\"linecolor\":\"#A2B1C6\",\"ticks\":\"\"}},\"title\":{\"x\":0.05},\"xaxis\":{\"automargin\":true,\"gridcolor\":\"#EBF0F8\",\"linecolor\":\"#EBF0F8\",\"ticks\":\"\",\"title\":{\"standoff\":15},\"zerolinecolor\":\"#EBF0F8\",\"zerolinewidth\":2},\"yaxis\":{\"automargin\":true,\"gridcolor\":\"#EBF0F8\",\"linecolor\":\"#EBF0F8\",\"ticks\":\"\",\"title\":{\"standoff\":15},\"zerolinecolor\":\"#EBF0F8\",\"zerolinewidth\":2}}},\"xaxis\":{\"anchor\":\"y\",\"domain\":[0.0,1.0],\"title\":{\"text\":\"Nodes-new-noopt\"}},\"yaxis\":{\"anchor\":\"x\",\"domain\":[0.0,1.0],\"title\":{\"text\":\"Nodes-new-alu-synthesis\"}},\"legend\":{\"tracegroupgap\":0},\"margin\":{\"t\":60},\"hovermode\":\"x\",\"shapes\":[{\"line\":{\"color\":\"gray\",\"width\":1},\"type\":\"line\",\"x0\":0,\"x1\":133531,\"xref\":\"x\",\"y0\":0,\"y1\":133531,\"yref\":\"y\"}]},                        {\"responsive\": true}                    ).then(function(){\n",
       "                            \n",
       "var gd = document.getElementById('87816714-6c15-4394-82e2-221dc2675485');\n",
       "var x = new MutationObserver(function (mutations, observer) {{\n",
       "        var display = window.getComputedStyle(gd).display;\n",
       "        if (!display || display === 'none') {{\n",
       "            console.log([gd, 'removed!']);\n",
       "            Plotly.purge(gd);\n",
       "            observer.disconnect();\n",
       "        }}\n",
       "}});\n",
       "\n",
       "// Listen for the removal of the full notebook cells\n",
       "var notebookContainer = gd.closest('#notebook-container');\n",
       "if (notebookContainer) {{\n",
       "    x.observe(notebookContainer, {childList: true});\n",
       "}}\n",
       "\n",
       "// Listen for the clearing of the current output cell\n",
       "var outputEl = gd.closest('.output');\n",
       "if (outputEl) {{\n",
       "    x.observe(outputEl, {childList: true});\n",
       "}}\n",
       "\n",
       "                        })                };                });            </script>        </div>"
      ]
     },
     "metadata": {},
     "output_type": "display_data"
    }
   ],
   "source": [
    "scatter((new_noopt, \"new-noopt\"), (new_conju, \"new-alu-synthesis\"), \"Nodes\")"
   ]
  },
  {
   "cell_type": "code",
   "execution_count": 292,
   "id": "1a5dc306",
   "metadata": {},
   "outputs": [
    {
     "data": {
      "application/vnd.plotly.v1+json": {
       "config": {
        "plotlyServerURL": "https://plot.ly"
       },
       "data": [
        {
         "hovertemplate": "Mul-new-noopt=%{x}<br>Mul-new-alu-synthesis=%{y}<br>name=%{text}<extra></extra>",
         "legendgroup": "",
         "marker": {
          "color": "#636efa",
          "symbol": "circle"
         },
         "mode": "markers",
         "name": "",
         "orientation": "v",
         "showlegend": false,
         "text": [
          "lift_bytes/\"min:AND_AL_IMMb\"",
          "lift_bytes/\"min:LEA_GPRv_AGEN_32\"",
          "lift_bytes/\"min:LODSB\"",
          "lift_bytes/\"min:LODSB\"",
          "lift_bytes/\"min:LODSB\"",
          "lift_bytes/\"min:LODSB\"",
          "lift_bytes/\"min:LOOP_RELBRb\"",
          "lift_bytes/\"min:MOVSB\"",
          "lift_bytes/\"min:MOV_GPR8_GPR8_8A\"",
          "lift_bytes/\"min:OR_GPRv_IMMz_32\"",
          "lift_bytes/\"min:POPAD_32\"",
          "lift_bytes/\"min:PUSH_IMMz_32\"",
          "lift_bytes/\"min:PUSH_MEMv_32\"",
          "lift_bytes/\"min:SUB_AL_IMMb\"",
          "lift_bytes/\"min:SUB_GPRv_MEMv_32\"",
          "lift_bytes/\"min:XOR_GPR8_GPR8_32\"",
          "lift_bytes/\"min:XOR_GPRv_IMMz_32\"",
          "lift_bytes/\"min:XOR_OrAX_IMMz_32\"",
          "lift_bytes/\"min:DIV_GPRv_32\"",
          "lift_bytes/\"min:DIV_MEMv_32\"",
          "lift_bytes/\"min:AND_MEMb_GPR8\"",
          "lift_bytes/\"min:ADD_GPR8_GPR8_02\"",
          "lift_bytes/\"min:ADD_MEMb_GPR8\"",
          "lift_bytes/\"min:IMUL_GPRv_MEMv_IMMz_16\"",
          "lift_bytes/\"min:IMUL_GPRv_MEMv_IMMz_32\"",
          "lift_bytes/\"min:IMUL_MEMb\"",
          "lift_bytes/\"min:MOV_MEMv_GPRv_16\"",
          "lift_bytes/\"min:MOV_RAX_RAX\"",
          "lift_bytes/\"min:AND_ONE_CHILD_1\"",
          "lift_bytes/\"min:AND_ONE_CHILD_2\"",
          "lift_source/\"min:small\"",
          "lift_source/\"min:adds\"",
          "lift_source/\"min:mul-16\"",
          "lift_source/\"big:muls\"",
          "lift_source/\"min:idivs\"",
          "lift_source/\"big:divs\"",
          "lift_source/\"min:subs\"",
          "lift_source/\"min:xors\"",
          "lift_source/\"big:3d_image_toolkit\"",
          "lift_source/\"big:router_simulator\"",
          "lift_source/\"big:lan_simulator\"",
          "lift_source/\"big:tiny86\""
         ],
         "type": "scatter",
         "x": [
          0,
          0,
          0,
          0,
          0,
          0,
          0,
          0,
          0,
          0,
          0,
          0,
          0,
          0,
          0,
          0,
          0,
          0,
          0,
          0,
          0,
          0,
          0,
          1,
          1,
          1,
          0,
          0,
          0,
          0,
          0,
          0,
          4,
          12,
          0,
          0,
          0,
          0,
          4,
          3,
          5,
          12
         ],
         "xaxis": "x",
         "y": [
          0,
          0,
          0,
          0,
          0,
          0,
          0,
          0,
          0,
          0,
          0,
          0,
          0,
          0,
          0,
          0,
          0,
          0,
          0,
          0,
          0,
          0,
          0,
          1,
          1,
          1,
          0,
          0,
          0,
          0,
          0,
          0,
          1,
          1,
          0,
          0,
          0,
          0,
          1,
          1,
          1,
          1
         ],
         "yaxis": "y"
        }
       ],
       "layout": {
        "hovermode": "x",
        "legend": {
         "tracegroupgap": 0
        },
        "margin": {
         "t": 60
        },
        "shapes": [
         {
          "line": {
           "color": "gray",
           "width": 1
          },
          "type": "line",
          "x0": 0,
          "x1": 13,
          "xref": "x",
          "y0": 0,
          "y1": 13,
          "yref": "y"
         }
        ],
        "template": {
         "data": {
          "bar": [
           {
            "error_x": {
             "color": "#2a3f5f"
            },
            "error_y": {
             "color": "#2a3f5f"
            },
            "marker": {
             "line": {
              "color": "white",
              "width": 0.5
             },
             "pattern": {
              "fillmode": "overlay",
              "size": 10,
              "solidity": 0.2
             }
            },
            "type": "bar"
           }
          ],
          "barpolar": [
           {
            "marker": {
             "line": {
              "color": "white",
              "width": 0.5
             },
             "pattern": {
              "fillmode": "overlay",
              "size": 10,
              "solidity": 0.2
             }
            },
            "type": "barpolar"
           }
          ],
          "carpet": [
           {
            "aaxis": {
             "endlinecolor": "#2a3f5f",
             "gridcolor": "#C8D4E3",
             "linecolor": "#C8D4E3",
             "minorgridcolor": "#C8D4E3",
             "startlinecolor": "#2a3f5f"
            },
            "baxis": {
             "endlinecolor": "#2a3f5f",
             "gridcolor": "#C8D4E3",
             "linecolor": "#C8D4E3",
             "minorgridcolor": "#C8D4E3",
             "startlinecolor": "#2a3f5f"
            },
            "type": "carpet"
           }
          ],
          "choropleth": [
           {
            "colorbar": {
             "outlinewidth": 0,
             "ticks": ""
            },
            "type": "choropleth"
           }
          ],
          "contour": [
           {
            "colorbar": {
             "outlinewidth": 0,
             "ticks": ""
            },
            "colorscale": [
             [
              0,
              "#0d0887"
             ],
             [
              0.1111111111111111,
              "#46039f"
             ],
             [
              0.2222222222222222,
              "#7201a8"
             ],
             [
              0.3333333333333333,
              "#9c179e"
             ],
             [
              0.4444444444444444,
              "#bd3786"
             ],
             [
              0.5555555555555556,
              "#d8576b"
             ],
             [
              0.6666666666666666,
              "#ed7953"
             ],
             [
              0.7777777777777778,
              "#fb9f3a"
             ],
             [
              0.8888888888888888,
              "#fdca26"
             ],
             [
              1,
              "#f0f921"
             ]
            ],
            "type": "contour"
           }
          ],
          "contourcarpet": [
           {
            "colorbar": {
             "outlinewidth": 0,
             "ticks": ""
            },
            "type": "contourcarpet"
           }
          ],
          "heatmap": [
           {
            "colorbar": {
             "outlinewidth": 0,
             "ticks": ""
            },
            "colorscale": [
             [
              0,
              "#0d0887"
             ],
             [
              0.1111111111111111,
              "#46039f"
             ],
             [
              0.2222222222222222,
              "#7201a8"
             ],
             [
              0.3333333333333333,
              "#9c179e"
             ],
             [
              0.4444444444444444,
              "#bd3786"
             ],
             [
              0.5555555555555556,
              "#d8576b"
             ],
             [
              0.6666666666666666,
              "#ed7953"
             ],
             [
              0.7777777777777778,
              "#fb9f3a"
             ],
             [
              0.8888888888888888,
              "#fdca26"
             ],
             [
              1,
              "#f0f921"
             ]
            ],
            "type": "heatmap"
           }
          ],
          "heatmapgl": [
           {
            "colorbar": {
             "outlinewidth": 0,
             "ticks": ""
            },
            "colorscale": [
             [
              0,
              "#0d0887"
             ],
             [
              0.1111111111111111,
              "#46039f"
             ],
             [
              0.2222222222222222,
              "#7201a8"
             ],
             [
              0.3333333333333333,
              "#9c179e"
             ],
             [
              0.4444444444444444,
              "#bd3786"
             ],
             [
              0.5555555555555556,
              "#d8576b"
             ],
             [
              0.6666666666666666,
              "#ed7953"
             ],
             [
              0.7777777777777778,
              "#fb9f3a"
             ],
             [
              0.8888888888888888,
              "#fdca26"
             ],
             [
              1,
              "#f0f921"
             ]
            ],
            "type": "heatmapgl"
           }
          ],
          "histogram": [
           {
            "marker": {
             "pattern": {
              "fillmode": "overlay",
              "size": 10,
              "solidity": 0.2
             }
            },
            "type": "histogram"
           }
          ],
          "histogram2d": [
           {
            "colorbar": {
             "outlinewidth": 0,
             "ticks": ""
            },
            "colorscale": [
             [
              0,
              "#0d0887"
             ],
             [
              0.1111111111111111,
              "#46039f"
             ],
             [
              0.2222222222222222,
              "#7201a8"
             ],
             [
              0.3333333333333333,
              "#9c179e"
             ],
             [
              0.4444444444444444,
              "#bd3786"
             ],
             [
              0.5555555555555556,
              "#d8576b"
             ],
             [
              0.6666666666666666,
              "#ed7953"
             ],
             [
              0.7777777777777778,
              "#fb9f3a"
             ],
             [
              0.8888888888888888,
              "#fdca26"
             ],
             [
              1,
              "#f0f921"
             ]
            ],
            "type": "histogram2d"
           }
          ],
          "histogram2dcontour": [
           {
            "colorbar": {
             "outlinewidth": 0,
             "ticks": ""
            },
            "colorscale": [
             [
              0,
              "#0d0887"
             ],
             [
              0.1111111111111111,
              "#46039f"
             ],
             [
              0.2222222222222222,
              "#7201a8"
             ],
             [
              0.3333333333333333,
              "#9c179e"
             ],
             [
              0.4444444444444444,
              "#bd3786"
             ],
             [
              0.5555555555555556,
              "#d8576b"
             ],
             [
              0.6666666666666666,
              "#ed7953"
             ],
             [
              0.7777777777777778,
              "#fb9f3a"
             ],
             [
              0.8888888888888888,
              "#fdca26"
             ],
             [
              1,
              "#f0f921"
             ]
            ],
            "type": "histogram2dcontour"
           }
          ],
          "mesh3d": [
           {
            "colorbar": {
             "outlinewidth": 0,
             "ticks": ""
            },
            "type": "mesh3d"
           }
          ],
          "parcoords": [
           {
            "line": {
             "colorbar": {
              "outlinewidth": 0,
              "ticks": ""
             }
            },
            "type": "parcoords"
           }
          ],
          "pie": [
           {
            "automargin": true,
            "type": "pie"
           }
          ],
          "scatter": [
           {
            "fillpattern": {
             "fillmode": "overlay",
             "size": 10,
             "solidity": 0.2
            },
            "type": "scatter"
           }
          ],
          "scatter3d": [
           {
            "line": {
             "colorbar": {
              "outlinewidth": 0,
              "ticks": ""
             }
            },
            "marker": {
             "colorbar": {
              "outlinewidth": 0,
              "ticks": ""
             }
            },
            "type": "scatter3d"
           }
          ],
          "scattercarpet": [
           {
            "marker": {
             "colorbar": {
              "outlinewidth": 0,
              "ticks": ""
             }
            },
            "type": "scattercarpet"
           }
          ],
          "scattergeo": [
           {
            "marker": {
             "colorbar": {
              "outlinewidth": 0,
              "ticks": ""
             }
            },
            "type": "scattergeo"
           }
          ],
          "scattergl": [
           {
            "marker": {
             "colorbar": {
              "outlinewidth": 0,
              "ticks": ""
             }
            },
            "type": "scattergl"
           }
          ],
          "scattermapbox": [
           {
            "marker": {
             "colorbar": {
              "outlinewidth": 0,
              "ticks": ""
             }
            },
            "type": "scattermapbox"
           }
          ],
          "scatterpolar": [
           {
            "marker": {
             "colorbar": {
              "outlinewidth": 0,
              "ticks": ""
             }
            },
            "type": "scatterpolar"
           }
          ],
          "scatterpolargl": [
           {
            "marker": {
             "colorbar": {
              "outlinewidth": 0,
              "ticks": ""
             }
            },
            "type": "scatterpolargl"
           }
          ],
          "scatterternary": [
           {
            "marker": {
             "colorbar": {
              "outlinewidth": 0,
              "ticks": ""
             }
            },
            "type": "scatterternary"
           }
          ],
          "surface": [
           {
            "colorbar": {
             "outlinewidth": 0,
             "ticks": ""
            },
            "colorscale": [
             [
              0,
              "#0d0887"
             ],
             [
              0.1111111111111111,
              "#46039f"
             ],
             [
              0.2222222222222222,
              "#7201a8"
             ],
             [
              0.3333333333333333,
              "#9c179e"
             ],
             [
              0.4444444444444444,
              "#bd3786"
             ],
             [
              0.5555555555555556,
              "#d8576b"
             ],
             [
              0.6666666666666666,
              "#ed7953"
             ],
             [
              0.7777777777777778,
              "#fb9f3a"
             ],
             [
              0.8888888888888888,
              "#fdca26"
             ],
             [
              1,
              "#f0f921"
             ]
            ],
            "type": "surface"
           }
          ],
          "table": [
           {
            "cells": {
             "fill": {
              "color": "#EBF0F8"
             },
             "line": {
              "color": "white"
             }
            },
            "header": {
             "fill": {
              "color": "#C8D4E3"
             },
             "line": {
              "color": "white"
             }
            },
            "type": "table"
           }
          ]
         },
         "layout": {
          "annotationdefaults": {
           "arrowcolor": "#2a3f5f",
           "arrowhead": 0,
           "arrowwidth": 1
          },
          "autotypenumbers": "strict",
          "coloraxis": {
           "colorbar": {
            "outlinewidth": 0,
            "ticks": ""
           }
          },
          "colorscale": {
           "diverging": [
            [
             0,
             "#8e0152"
            ],
            [
             0.1,
             "#c51b7d"
            ],
            [
             0.2,
             "#de77ae"
            ],
            [
             0.3,
             "#f1b6da"
            ],
            [
             0.4,
             "#fde0ef"
            ],
            [
             0.5,
             "#f7f7f7"
            ],
            [
             0.6,
             "#e6f5d0"
            ],
            [
             0.7,
             "#b8e186"
            ],
            [
             0.8,
             "#7fbc41"
            ],
            [
             0.9,
             "#4d9221"
            ],
            [
             1,
             "#276419"
            ]
           ],
           "sequential": [
            [
             0,
             "#0d0887"
            ],
            [
             0.1111111111111111,
             "#46039f"
            ],
            [
             0.2222222222222222,
             "#7201a8"
            ],
            [
             0.3333333333333333,
             "#9c179e"
            ],
            [
             0.4444444444444444,
             "#bd3786"
            ],
            [
             0.5555555555555556,
             "#d8576b"
            ],
            [
             0.6666666666666666,
             "#ed7953"
            ],
            [
             0.7777777777777778,
             "#fb9f3a"
            ],
            [
             0.8888888888888888,
             "#fdca26"
            ],
            [
             1,
             "#f0f921"
            ]
           ],
           "sequentialminus": [
            [
             0,
             "#0d0887"
            ],
            [
             0.1111111111111111,
             "#46039f"
            ],
            [
             0.2222222222222222,
             "#7201a8"
            ],
            [
             0.3333333333333333,
             "#9c179e"
            ],
            [
             0.4444444444444444,
             "#bd3786"
            ],
            [
             0.5555555555555556,
             "#d8576b"
            ],
            [
             0.6666666666666666,
             "#ed7953"
            ],
            [
             0.7777777777777778,
             "#fb9f3a"
            ],
            [
             0.8888888888888888,
             "#fdca26"
            ],
            [
             1,
             "#f0f921"
            ]
           ]
          },
          "colorway": [
           "#636efa",
           "#EF553B",
           "#00cc96",
           "#ab63fa",
           "#FFA15A",
           "#19d3f3",
           "#FF6692",
           "#B6E880",
           "#FF97FF",
           "#FECB52"
          ],
          "font": {
           "color": "#2a3f5f"
          },
          "geo": {
           "bgcolor": "white",
           "lakecolor": "white",
           "landcolor": "white",
           "showlakes": true,
           "showland": true,
           "subunitcolor": "#C8D4E3"
          },
          "hoverlabel": {
           "align": "left"
          },
          "hovermode": "closest",
          "mapbox": {
           "style": "light"
          },
          "paper_bgcolor": "white",
          "plot_bgcolor": "white",
          "polar": {
           "angularaxis": {
            "gridcolor": "#EBF0F8",
            "linecolor": "#EBF0F8",
            "ticks": ""
           },
           "bgcolor": "white",
           "radialaxis": {
            "gridcolor": "#EBF0F8",
            "linecolor": "#EBF0F8",
            "ticks": ""
           }
          },
          "scene": {
           "xaxis": {
            "backgroundcolor": "white",
            "gridcolor": "#DFE8F3",
            "gridwidth": 2,
            "linecolor": "#EBF0F8",
            "showbackground": true,
            "ticks": "",
            "zerolinecolor": "#EBF0F8"
           },
           "yaxis": {
            "backgroundcolor": "white",
            "gridcolor": "#DFE8F3",
            "gridwidth": 2,
            "linecolor": "#EBF0F8",
            "showbackground": true,
            "ticks": "",
            "zerolinecolor": "#EBF0F8"
           },
           "zaxis": {
            "backgroundcolor": "white",
            "gridcolor": "#DFE8F3",
            "gridwidth": 2,
            "linecolor": "#EBF0F8",
            "showbackground": true,
            "ticks": "",
            "zerolinecolor": "#EBF0F8"
           }
          },
          "shapedefaults": {
           "line": {
            "color": "#2a3f5f"
           }
          },
          "ternary": {
           "aaxis": {
            "gridcolor": "#DFE8F3",
            "linecolor": "#A2B1C6",
            "ticks": ""
           },
           "baxis": {
            "gridcolor": "#DFE8F3",
            "linecolor": "#A2B1C6",
            "ticks": ""
           },
           "bgcolor": "white",
           "caxis": {
            "gridcolor": "#DFE8F3",
            "linecolor": "#A2B1C6",
            "ticks": ""
           }
          },
          "title": {
           "x": 0.05
          },
          "xaxis": {
           "automargin": true,
           "gridcolor": "#EBF0F8",
           "linecolor": "#EBF0F8",
           "ticks": "",
           "title": {
            "standoff": 15
           },
           "zerolinecolor": "#EBF0F8",
           "zerolinewidth": 2
          },
          "yaxis": {
           "automargin": true,
           "gridcolor": "#EBF0F8",
           "linecolor": "#EBF0F8",
           "ticks": "",
           "title": {
            "standoff": 15
           },
           "zerolinecolor": "#EBF0F8",
           "zerolinewidth": 2
          }
         }
        },
        "xaxis": {
         "anchor": "y",
         "domain": [
          0,
          1
         ],
         "title": {
          "text": "Mul-new-noopt"
         }
        },
        "yaxis": {
         "anchor": "x",
         "domain": [
          0,
          1
         ],
         "title": {
          "text": "Mul-new-alu-synthesis"
         }
        }
       }
      },
      "text/html": [
       "<div>                            <div id=\"890008a0-5db0-4de7-880e-4d71127b4857\" class=\"plotly-graph-div\" style=\"height:525px; width:100%;\"></div>            <script type=\"text/javascript\">                require([\"plotly\"], function(Plotly) {                    window.PLOTLYENV=window.PLOTLYENV || {};                                    if (document.getElementById(\"890008a0-5db0-4de7-880e-4d71127b4857\")) {                    Plotly.newPlot(                        \"890008a0-5db0-4de7-880e-4d71127b4857\",                        [{\"hovertemplate\":\"Mul-new-noopt=%{x}<br>Mul-new-alu-synthesis=%{y}<br>name=%{text}<extra></extra>\",\"legendgroup\":\"\",\"marker\":{\"color\":\"#636efa\",\"symbol\":\"circle\"},\"mode\":\"markers\",\"name\":\"\",\"orientation\":\"v\",\"showlegend\":false,\"text\":[\"lift_bytes/\\\"min:AND_AL_IMMb\\\"\",\"lift_bytes/\\\"min:LEA_GPRv_AGEN_32\\\"\",\"lift_bytes/\\\"min:LODSB\\\"\",\"lift_bytes/\\\"min:LODSB\\\"\",\"lift_bytes/\\\"min:LODSB\\\"\",\"lift_bytes/\\\"min:LODSB\\\"\",\"lift_bytes/\\\"min:LOOP_RELBRb\\\"\",\"lift_bytes/\\\"min:MOVSB\\\"\",\"lift_bytes/\\\"min:MOV_GPR8_GPR8_8A\\\"\",\"lift_bytes/\\\"min:OR_GPRv_IMMz_32\\\"\",\"lift_bytes/\\\"min:POPAD_32\\\"\",\"lift_bytes/\\\"min:PUSH_IMMz_32\\\"\",\"lift_bytes/\\\"min:PUSH_MEMv_32\\\"\",\"lift_bytes/\\\"min:SUB_AL_IMMb\\\"\",\"lift_bytes/\\\"min:SUB_GPRv_MEMv_32\\\"\",\"lift_bytes/\\\"min:XOR_GPR8_GPR8_32\\\"\",\"lift_bytes/\\\"min:XOR_GPRv_IMMz_32\\\"\",\"lift_bytes/\\\"min:XOR_OrAX_IMMz_32\\\"\",\"lift_bytes/\\\"min:DIV_GPRv_32\\\"\",\"lift_bytes/\\\"min:DIV_MEMv_32\\\"\",\"lift_bytes/\\\"min:AND_MEMb_GPR8\\\"\",\"lift_bytes/\\\"min:ADD_GPR8_GPR8_02\\\"\",\"lift_bytes/\\\"min:ADD_MEMb_GPR8\\\"\",\"lift_bytes/\\\"min:IMUL_GPRv_MEMv_IMMz_16\\\"\",\"lift_bytes/\\\"min:IMUL_GPRv_MEMv_IMMz_32\\\"\",\"lift_bytes/\\\"min:IMUL_MEMb\\\"\",\"lift_bytes/\\\"min:MOV_MEMv_GPRv_16\\\"\",\"lift_bytes/\\\"min:MOV_RAX_RAX\\\"\",\"lift_bytes/\\\"min:AND_ONE_CHILD_1\\\"\",\"lift_bytes/\\\"min:AND_ONE_CHILD_2\\\"\",\"lift_source/\\\"min:small\\\"\",\"lift_source/\\\"min:adds\\\"\",\"lift_source/\\\"min:mul-16\\\"\",\"lift_source/\\\"big:muls\\\"\",\"lift_source/\\\"min:idivs\\\"\",\"lift_source/\\\"big:divs\\\"\",\"lift_source/\\\"min:subs\\\"\",\"lift_source/\\\"min:xors\\\"\",\"lift_source/\\\"big:3d_image_toolkit\\\"\",\"lift_source/\\\"big:router_simulator\\\"\",\"lift_source/\\\"big:lan_simulator\\\"\",\"lift_source/\\\"big:tiny86\\\"\"],\"x\":[0,0,0,0,0,0,0,0,0,0,0,0,0,0,0,0,0,0,0,0,0,0,0,1,1,1,0,0,0,0,0,0,4,12,0,0,0,0,4,3,5,12],\"xaxis\":\"x\",\"y\":[0,0,0,0,0,0,0,0,0,0,0,0,0,0,0,0,0,0,0,0,0,0,0,1,1,1,0,0,0,0,0,0,1,1,0,0,0,0,1,1,1,1],\"yaxis\":\"y\",\"type\":\"scatter\"}],                        {\"template\":{\"data\":{\"barpolar\":[{\"marker\":{\"line\":{\"color\":\"white\",\"width\":0.5},\"pattern\":{\"fillmode\":\"overlay\",\"size\":10,\"solidity\":0.2}},\"type\":\"barpolar\"}],\"bar\":[{\"error_x\":{\"color\":\"#2a3f5f\"},\"error_y\":{\"color\":\"#2a3f5f\"},\"marker\":{\"line\":{\"color\":\"white\",\"width\":0.5},\"pattern\":{\"fillmode\":\"overlay\",\"size\":10,\"solidity\":0.2}},\"type\":\"bar\"}],\"carpet\":[{\"aaxis\":{\"endlinecolor\":\"#2a3f5f\",\"gridcolor\":\"#C8D4E3\",\"linecolor\":\"#C8D4E3\",\"minorgridcolor\":\"#C8D4E3\",\"startlinecolor\":\"#2a3f5f\"},\"baxis\":{\"endlinecolor\":\"#2a3f5f\",\"gridcolor\":\"#C8D4E3\",\"linecolor\":\"#C8D4E3\",\"minorgridcolor\":\"#C8D4E3\",\"startlinecolor\":\"#2a3f5f\"},\"type\":\"carpet\"}],\"choropleth\":[{\"colorbar\":{\"outlinewidth\":0,\"ticks\":\"\"},\"type\":\"choropleth\"}],\"contourcarpet\":[{\"colorbar\":{\"outlinewidth\":0,\"ticks\":\"\"},\"type\":\"contourcarpet\"}],\"contour\":[{\"colorbar\":{\"outlinewidth\":0,\"ticks\":\"\"},\"colorscale\":[[0.0,\"#0d0887\"],[0.1111111111111111,\"#46039f\"],[0.2222222222222222,\"#7201a8\"],[0.3333333333333333,\"#9c179e\"],[0.4444444444444444,\"#bd3786\"],[0.5555555555555556,\"#d8576b\"],[0.6666666666666666,\"#ed7953\"],[0.7777777777777778,\"#fb9f3a\"],[0.8888888888888888,\"#fdca26\"],[1.0,\"#f0f921\"]],\"type\":\"contour\"}],\"heatmapgl\":[{\"colorbar\":{\"outlinewidth\":0,\"ticks\":\"\"},\"colorscale\":[[0.0,\"#0d0887\"],[0.1111111111111111,\"#46039f\"],[0.2222222222222222,\"#7201a8\"],[0.3333333333333333,\"#9c179e\"],[0.4444444444444444,\"#bd3786\"],[0.5555555555555556,\"#d8576b\"],[0.6666666666666666,\"#ed7953\"],[0.7777777777777778,\"#fb9f3a\"],[0.8888888888888888,\"#fdca26\"],[1.0,\"#f0f921\"]],\"type\":\"heatmapgl\"}],\"heatmap\":[{\"colorbar\":{\"outlinewidth\":0,\"ticks\":\"\"},\"colorscale\":[[0.0,\"#0d0887\"],[0.1111111111111111,\"#46039f\"],[0.2222222222222222,\"#7201a8\"],[0.3333333333333333,\"#9c179e\"],[0.4444444444444444,\"#bd3786\"],[0.5555555555555556,\"#d8576b\"],[0.6666666666666666,\"#ed7953\"],[0.7777777777777778,\"#fb9f3a\"],[0.8888888888888888,\"#fdca26\"],[1.0,\"#f0f921\"]],\"type\":\"heatmap\"}],\"histogram2dcontour\":[{\"colorbar\":{\"outlinewidth\":0,\"ticks\":\"\"},\"colorscale\":[[0.0,\"#0d0887\"],[0.1111111111111111,\"#46039f\"],[0.2222222222222222,\"#7201a8\"],[0.3333333333333333,\"#9c179e\"],[0.4444444444444444,\"#bd3786\"],[0.5555555555555556,\"#d8576b\"],[0.6666666666666666,\"#ed7953\"],[0.7777777777777778,\"#fb9f3a\"],[0.8888888888888888,\"#fdca26\"],[1.0,\"#f0f921\"]],\"type\":\"histogram2dcontour\"}],\"histogram2d\":[{\"colorbar\":{\"outlinewidth\":0,\"ticks\":\"\"},\"colorscale\":[[0.0,\"#0d0887\"],[0.1111111111111111,\"#46039f\"],[0.2222222222222222,\"#7201a8\"],[0.3333333333333333,\"#9c179e\"],[0.4444444444444444,\"#bd3786\"],[0.5555555555555556,\"#d8576b\"],[0.6666666666666666,\"#ed7953\"],[0.7777777777777778,\"#fb9f3a\"],[0.8888888888888888,\"#fdca26\"],[1.0,\"#f0f921\"]],\"type\":\"histogram2d\"}],\"histogram\":[{\"marker\":{\"pattern\":{\"fillmode\":\"overlay\",\"size\":10,\"solidity\":0.2}},\"type\":\"histogram\"}],\"mesh3d\":[{\"colorbar\":{\"outlinewidth\":0,\"ticks\":\"\"},\"type\":\"mesh3d\"}],\"parcoords\":[{\"line\":{\"colorbar\":{\"outlinewidth\":0,\"ticks\":\"\"}},\"type\":\"parcoords\"}],\"pie\":[{\"automargin\":true,\"type\":\"pie\"}],\"scatter3d\":[{\"line\":{\"colorbar\":{\"outlinewidth\":0,\"ticks\":\"\"}},\"marker\":{\"colorbar\":{\"outlinewidth\":0,\"ticks\":\"\"}},\"type\":\"scatter3d\"}],\"scattercarpet\":[{\"marker\":{\"colorbar\":{\"outlinewidth\":0,\"ticks\":\"\"}},\"type\":\"scattercarpet\"}],\"scattergeo\":[{\"marker\":{\"colorbar\":{\"outlinewidth\":0,\"ticks\":\"\"}},\"type\":\"scattergeo\"}],\"scattergl\":[{\"marker\":{\"colorbar\":{\"outlinewidth\":0,\"ticks\":\"\"}},\"type\":\"scattergl\"}],\"scattermapbox\":[{\"marker\":{\"colorbar\":{\"outlinewidth\":0,\"ticks\":\"\"}},\"type\":\"scattermapbox\"}],\"scatterpolargl\":[{\"marker\":{\"colorbar\":{\"outlinewidth\":0,\"ticks\":\"\"}},\"type\":\"scatterpolargl\"}],\"scatterpolar\":[{\"marker\":{\"colorbar\":{\"outlinewidth\":0,\"ticks\":\"\"}},\"type\":\"scatterpolar\"}],\"scatter\":[{\"fillpattern\":{\"fillmode\":\"overlay\",\"size\":10,\"solidity\":0.2},\"type\":\"scatter\"}],\"scatterternary\":[{\"marker\":{\"colorbar\":{\"outlinewidth\":0,\"ticks\":\"\"}},\"type\":\"scatterternary\"}],\"surface\":[{\"colorbar\":{\"outlinewidth\":0,\"ticks\":\"\"},\"colorscale\":[[0.0,\"#0d0887\"],[0.1111111111111111,\"#46039f\"],[0.2222222222222222,\"#7201a8\"],[0.3333333333333333,\"#9c179e\"],[0.4444444444444444,\"#bd3786\"],[0.5555555555555556,\"#d8576b\"],[0.6666666666666666,\"#ed7953\"],[0.7777777777777778,\"#fb9f3a\"],[0.8888888888888888,\"#fdca26\"],[1.0,\"#f0f921\"]],\"type\":\"surface\"}],\"table\":[{\"cells\":{\"fill\":{\"color\":\"#EBF0F8\"},\"line\":{\"color\":\"white\"}},\"header\":{\"fill\":{\"color\":\"#C8D4E3\"},\"line\":{\"color\":\"white\"}},\"type\":\"table\"}]},\"layout\":{\"annotationdefaults\":{\"arrowcolor\":\"#2a3f5f\",\"arrowhead\":0,\"arrowwidth\":1},\"autotypenumbers\":\"strict\",\"coloraxis\":{\"colorbar\":{\"outlinewidth\":0,\"ticks\":\"\"}},\"colorscale\":{\"diverging\":[[0,\"#8e0152\"],[0.1,\"#c51b7d\"],[0.2,\"#de77ae\"],[0.3,\"#f1b6da\"],[0.4,\"#fde0ef\"],[0.5,\"#f7f7f7\"],[0.6,\"#e6f5d0\"],[0.7,\"#b8e186\"],[0.8,\"#7fbc41\"],[0.9,\"#4d9221\"],[1,\"#276419\"]],\"sequential\":[[0.0,\"#0d0887\"],[0.1111111111111111,\"#46039f\"],[0.2222222222222222,\"#7201a8\"],[0.3333333333333333,\"#9c179e\"],[0.4444444444444444,\"#bd3786\"],[0.5555555555555556,\"#d8576b\"],[0.6666666666666666,\"#ed7953\"],[0.7777777777777778,\"#fb9f3a\"],[0.8888888888888888,\"#fdca26\"],[1.0,\"#f0f921\"]],\"sequentialminus\":[[0.0,\"#0d0887\"],[0.1111111111111111,\"#46039f\"],[0.2222222222222222,\"#7201a8\"],[0.3333333333333333,\"#9c179e\"],[0.4444444444444444,\"#bd3786\"],[0.5555555555555556,\"#d8576b\"],[0.6666666666666666,\"#ed7953\"],[0.7777777777777778,\"#fb9f3a\"],[0.8888888888888888,\"#fdca26\"],[1.0,\"#f0f921\"]]},\"colorway\":[\"#636efa\",\"#EF553B\",\"#00cc96\",\"#ab63fa\",\"#FFA15A\",\"#19d3f3\",\"#FF6692\",\"#B6E880\",\"#FF97FF\",\"#FECB52\"],\"font\":{\"color\":\"#2a3f5f\"},\"geo\":{\"bgcolor\":\"white\",\"lakecolor\":\"white\",\"landcolor\":\"white\",\"showlakes\":true,\"showland\":true,\"subunitcolor\":\"#C8D4E3\"},\"hoverlabel\":{\"align\":\"left\"},\"hovermode\":\"closest\",\"mapbox\":{\"style\":\"light\"},\"paper_bgcolor\":\"white\",\"plot_bgcolor\":\"white\",\"polar\":{\"angularaxis\":{\"gridcolor\":\"#EBF0F8\",\"linecolor\":\"#EBF0F8\",\"ticks\":\"\"},\"bgcolor\":\"white\",\"radialaxis\":{\"gridcolor\":\"#EBF0F8\",\"linecolor\":\"#EBF0F8\",\"ticks\":\"\"}},\"scene\":{\"xaxis\":{\"backgroundcolor\":\"white\",\"gridcolor\":\"#DFE8F3\",\"gridwidth\":2,\"linecolor\":\"#EBF0F8\",\"showbackground\":true,\"ticks\":\"\",\"zerolinecolor\":\"#EBF0F8\"},\"yaxis\":{\"backgroundcolor\":\"white\",\"gridcolor\":\"#DFE8F3\",\"gridwidth\":2,\"linecolor\":\"#EBF0F8\",\"showbackground\":true,\"ticks\":\"\",\"zerolinecolor\":\"#EBF0F8\"},\"zaxis\":{\"backgroundcolor\":\"white\",\"gridcolor\":\"#DFE8F3\",\"gridwidth\":2,\"linecolor\":\"#EBF0F8\",\"showbackground\":true,\"ticks\":\"\",\"zerolinecolor\":\"#EBF0F8\"}},\"shapedefaults\":{\"line\":{\"color\":\"#2a3f5f\"}},\"ternary\":{\"aaxis\":{\"gridcolor\":\"#DFE8F3\",\"linecolor\":\"#A2B1C6\",\"ticks\":\"\"},\"baxis\":{\"gridcolor\":\"#DFE8F3\",\"linecolor\":\"#A2B1C6\",\"ticks\":\"\"},\"bgcolor\":\"white\",\"caxis\":{\"gridcolor\":\"#DFE8F3\",\"linecolor\":\"#A2B1C6\",\"ticks\":\"\"}},\"title\":{\"x\":0.05},\"xaxis\":{\"automargin\":true,\"gridcolor\":\"#EBF0F8\",\"linecolor\":\"#EBF0F8\",\"ticks\":\"\",\"title\":{\"standoff\":15},\"zerolinecolor\":\"#EBF0F8\",\"zerolinewidth\":2},\"yaxis\":{\"automargin\":true,\"gridcolor\":\"#EBF0F8\",\"linecolor\":\"#EBF0F8\",\"ticks\":\"\",\"title\":{\"standoff\":15},\"zerolinecolor\":\"#EBF0F8\",\"zerolinewidth\":2}}},\"xaxis\":{\"anchor\":\"y\",\"domain\":[0.0,1.0],\"title\":{\"text\":\"Mul-new-noopt\"}},\"yaxis\":{\"anchor\":\"x\",\"domain\":[0.0,1.0],\"title\":{\"text\":\"Mul-new-alu-synthesis\"}},\"legend\":{\"tracegroupgap\":0},\"margin\":{\"t\":60},\"hovermode\":\"x\",\"shapes\":[{\"line\":{\"color\":\"gray\",\"width\":1},\"type\":\"line\",\"x0\":0,\"x1\":13,\"xref\":\"x\",\"y0\":0,\"y1\":13,\"yref\":\"y\"}]},                        {\"responsive\": true}                    ).then(function(){\n",
       "                            \n",
       "var gd = document.getElementById('890008a0-5db0-4de7-880e-4d71127b4857');\n",
       "var x = new MutationObserver(function (mutations, observer) {{\n",
       "        var display = window.getComputedStyle(gd).display;\n",
       "        if (!display || display === 'none') {{\n",
       "            console.log([gd, 'removed!']);\n",
       "            Plotly.purge(gd);\n",
       "            observer.disconnect();\n",
       "        }}\n",
       "}});\n",
       "\n",
       "// Listen for the removal of the full notebook cells\n",
       "var notebookContainer = gd.closest('#notebook-container');\n",
       "if (notebookContainer) {{\n",
       "    x.observe(notebookContainer, {childList: true});\n",
       "}}\n",
       "\n",
       "// Listen for the clearing of the current output cell\n",
       "var outputEl = gd.closest('.output');\n",
       "if (outputEl) {{\n",
       "    x.observe(outputEl, {childList: true});\n",
       "}}\n",
       "\n",
       "                        })                };                });            </script>        </div>"
      ]
     },
     "metadata": {},
     "output_type": "display_data"
    }
   ],
   "source": [
    "scatter((new_noopt, \"new-noopt\"), (new_conju, \"new-alu-synthesis\"), \"Mul\")"
   ]
  },
  {
   "cell_type": "code",
   "execution_count": 166,
   "id": "a652a2d0",
   "metadata": {},
   "outputs": [
    {
     "data": {
      "text/html": [
       "<div>\n",
       "<style scoped>\n",
       "    .dataframe tbody tr th:only-of-type {\n",
       "        vertical-align: middle;\n",
       "    }\n",
       "\n",
       "    .dataframe tbody tr th {\n",
       "        vertical-align: top;\n",
       "    }\n",
       "\n",
       "    .dataframe thead th {\n",
       "        text-align: right;\n",
       "    }\n",
       "</style>\n",
       "<table border=\"1\" class=\"dataframe\">\n",
       "  <thead>\n",
       "    <tr style=\"text-align: right;\">\n",
       "      <th></th>\n",
       "      <th>name</th>\n",
       "      <th>real_time</th>\n",
       "      <th>cpu_time</th>\n",
       "      <th>AShr</th>\n",
       "      <th>Add</th>\n",
       "      <th>LShr</th>\n",
       "      <th>Mul</th>\n",
       "      <th>Nodes</th>\n",
       "      <th>SDiv</th>\n",
       "      <th>SRem</th>\n",
       "      <th>...</th>\n",
       "      <th>Sub</th>\n",
       "      <th>UDiv</th>\n",
       "      <th>URem</th>\n",
       "      <th>pop_count</th>\n",
       "      <th>V:AND</th>\n",
       "      <th>V:CELLS</th>\n",
       "      <th>V:MUX</th>\n",
       "      <th>V:NOT</th>\n",
       "      <th>V:OR</th>\n",
       "      <th>V:XOR</th>\n",
       "    </tr>\n",
       "  </thead>\n",
       "  <tbody>\n",
       "    <tr>\n",
       "      <th>0</th>\n",
       "      <td>lift_bytes/\"min:AND_AL_IMMb\"</td>\n",
       "      <td>2972073580</td>\n",
       "      <td>195898000</td>\n",
       "      <td>0</td>\n",
       "      <td>2</td>\n",
       "      <td>0</td>\n",
       "      <td>0</td>\n",
       "      <td>110</td>\n",
       "      <td>0</td>\n",
       "      <td>0</td>\n",
       "      <td>...</td>\n",
       "      <td>0</td>\n",
       "      <td>0</td>\n",
       "      <td>0</td>\n",
       "      <td>1</td>\n",
       "      <td>8089</td>\n",
       "      <td>1393</td>\n",
       "      <td>0</td>\n",
       "      <td>40</td>\n",
       "      <td>731</td>\n",
       "      <td>574</td>\n",
       "    </tr>\n",
       "    <tr>\n",
       "      <th>1</th>\n",
       "      <td>lift_bytes/\"min:LEA_GPRv_AGEN_32\"</td>\n",
       "      <td>3487134498</td>\n",
       "      <td>189459000</td>\n",
       "      <td>0</td>\n",
       "      <td>5</td>\n",
       "      <td>0</td>\n",
       "      <td>0</td>\n",
       "      <td>155</td>\n",
       "      <td>0</td>\n",
       "      <td>0</td>\n",
       "      <td>...</td>\n",
       "      <td>0</td>\n",
       "      <td>0</td>\n",
       "      <td>0</td>\n",
       "      <td>0</td>\n",
       "      <td>9342</td>\n",
       "      <td>2628</td>\n",
       "      <td>736</td>\n",
       "      <td>61</td>\n",
       "      <td>827</td>\n",
       "      <td>759</td>\n",
       "    </tr>\n",
       "    <tr>\n",
       "      <th>2</th>\n",
       "      <td>lift_bytes/\"min:LODSB\"</td>\n",
       "      <td>2668726298</td>\n",
       "      <td>189224249</td>\n",
       "      <td>0</td>\n",
       "      <td>2</td>\n",
       "      <td>0</td>\n",
       "      <td>0</td>\n",
       "      <td>110</td>\n",
       "      <td>0</td>\n",
       "      <td>0</td>\n",
       "      <td>...</td>\n",
       "      <td>0</td>\n",
       "      <td>0</td>\n",
       "      <td>0</td>\n",
       "      <td>1</td>\n",
       "      <td>8089</td>\n",
       "      <td>1393</td>\n",
       "      <td>0</td>\n",
       "      <td>40</td>\n",
       "      <td>731</td>\n",
       "      <td>574</td>\n",
       "    </tr>\n",
       "    <tr>\n",
       "      <th>3</th>\n",
       "      <td>lift_bytes/\"min:LODSB\"</td>\n",
       "      <td>2544468480</td>\n",
       "      <td>180706999</td>\n",
       "      <td>0</td>\n",
       "      <td>4</td>\n",
       "      <td>0</td>\n",
       "      <td>0</td>\n",
       "      <td>107</td>\n",
       "      <td>0</td>\n",
       "      <td>0</td>\n",
       "      <td>...</td>\n",
       "      <td>0</td>\n",
       "      <td>0</td>\n",
       "      <td>0</td>\n",
       "      <td>0</td>\n",
       "      <td>9902</td>\n",
       "      <td>1934</td>\n",
       "      <td>0</td>\n",
       "      <td>41</td>\n",
       "      <td>878</td>\n",
       "      <td>771</td>\n",
       "    </tr>\n",
       "    <tr>\n",
       "      <th>4</th>\n",
       "      <td>lift_bytes/\"min:LOOP_RELBRb\"</td>\n",
       "      <td>3000810256</td>\n",
       "      <td>185864000</td>\n",
       "      <td>0</td>\n",
       "      <td>7</td>\n",
       "      <td>0</td>\n",
       "      <td>0</td>\n",
       "      <td>111</td>\n",
       "      <td>0</td>\n",
       "      <td>0</td>\n",
       "      <td>...</td>\n",
       "      <td>0</td>\n",
       "      <td>0</td>\n",
       "      <td>0</td>\n",
       "      <td>0</td>\n",
       "      <td>9169</td>\n",
       "      <td>1799</td>\n",
       "      <td>32</td>\n",
       "      <td>67</td>\n",
       "      <td>817</td>\n",
       "      <td>701</td>\n",
       "    </tr>\n",
       "    <tr>\n",
       "      <th>5</th>\n",
       "      <td>lift_bytes/\"min:MOVSB\"</td>\n",
       "      <td>3295159685</td>\n",
       "      <td>186351000</td>\n",
       "      <td>0</td>\n",
       "      <td>6</td>\n",
       "      <td>0</td>\n",
       "      <td>0</td>\n",
       "      <td>107</td>\n",
       "      <td>0</td>\n",
       "      <td>0</td>\n",
       "      <td>...</td>\n",
       "      <td>0</td>\n",
       "      <td>0</td>\n",
       "      <td>0</td>\n",
       "      <td>0</td>\n",
       "      <td>12672</td>\n",
       "      <td>2629</td>\n",
       "      <td>0</td>\n",
       "      <td>49</td>\n",
       "      <td>1110</td>\n",
       "      <td>1008</td>\n",
       "    </tr>\n",
       "    <tr>\n",
       "      <th>6</th>\n",
       "      <td>lift_bytes/\"min:MOV_GPR8_GPR8_8A\"</td>\n",
       "      <td>3089338554</td>\n",
       "      <td>195559000</td>\n",
       "      <td>0</td>\n",
       "      <td>2</td>\n",
       "      <td>1</td>\n",
       "      <td>0</td>\n",
       "      <td>156</td>\n",
       "      <td>0</td>\n",
       "      <td>0</td>\n",
       "      <td>...</td>\n",
       "      <td>0</td>\n",
       "      <td>0</td>\n",
       "      <td>0</td>\n",
       "      <td>0</td>\n",
       "      <td>8293</td>\n",
       "      <td>1973</td>\n",
       "      <td>528</td>\n",
       "      <td>57</td>\n",
       "      <td>751</td>\n",
       "      <td>605</td>\n",
       "    </tr>\n",
       "    <tr>\n",
       "      <th>7</th>\n",
       "      <td>lift_bytes/\"min:OR_GPRv_IMMz_32\"</td>\n",
       "      <td>3321818430</td>\n",
       "      <td>204426999</td>\n",
       "      <td>0</td>\n",
       "      <td>2</td>\n",
       "      <td>0</td>\n",
       "      <td>0</td>\n",
       "      <td>142</td>\n",
       "      <td>0</td>\n",
       "      <td>0</td>\n",
       "      <td>...</td>\n",
       "      <td>0</td>\n",
       "      <td>0</td>\n",
       "      <td>0</td>\n",
       "      <td>1</td>\n",
       "      <td>9377</td>\n",
       "      <td>2133</td>\n",
       "      <td>448</td>\n",
       "      <td>86</td>\n",
       "      <td>844</td>\n",
       "      <td>662</td>\n",
       "    </tr>\n",
       "    <tr>\n",
       "      <th>8</th>\n",
       "      <td>lift_bytes/\"min:POPAD_32\"</td>\n",
       "      <td>5349704657</td>\n",
       "      <td>196898999</td>\n",
       "      <td>0</td>\n",
       "      <td>15</td>\n",
       "      <td>0</td>\n",
       "      <td>0</td>\n",
       "      <td>127</td>\n",
       "      <td>0</td>\n",
       "      <td>0</td>\n",
       "      <td>...</td>\n",
       "      <td>0</td>\n",
       "      <td>0</td>\n",
       "      <td>0</td>\n",
       "      <td>0</td>\n",
       "      <td>16382</td>\n",
       "      <td>3163</td>\n",
       "      <td>0</td>\n",
       "      <td>95</td>\n",
       "      <td>1467</td>\n",
       "      <td>1356</td>\n",
       "    </tr>\n",
       "    <tr>\n",
       "      <th>9</th>\n",
       "      <td>lift_bytes/\"min:PUSH_IMMz_32\"</td>\n",
       "      <td>2649305024</td>\n",
       "      <td>188547000</td>\n",
       "      <td>0</td>\n",
       "      <td>4</td>\n",
       "      <td>0</td>\n",
       "      <td>0</td>\n",
       "      <td>102</td>\n",
       "      <td>0</td>\n",
       "      <td>0</td>\n",
       "      <td>...</td>\n",
       "      <td>0</td>\n",
       "      <td>0</td>\n",
       "      <td>0</td>\n",
       "      <td>0</td>\n",
       "      <td>10028</td>\n",
       "      <td>1993</td>\n",
       "      <td>0</td>\n",
       "      <td>71</td>\n",
       "      <td>892</td>\n",
       "      <td>814</td>\n",
       "    </tr>\n",
       "    <tr>\n",
       "      <th>10</th>\n",
       "      <td>lift_bytes/\"min:PUSH_MEMv_32\"</td>\n",
       "      <td>4769163450</td>\n",
       "      <td>200881000</td>\n",
       "      <td>0</td>\n",
       "      <td>7</td>\n",
       "      <td>0</td>\n",
       "      <td>0</td>\n",
       "      <td>128</td>\n",
       "      <td>0</td>\n",
       "      <td>0</td>\n",
       "      <td>...</td>\n",
       "      <td>0</td>\n",
       "      <td>0</td>\n",
       "      <td>0</td>\n",
       "      <td>0</td>\n",
       "      <td>12497</td>\n",
       "      <td>2930</td>\n",
       "      <td>416</td>\n",
       "      <td>99</td>\n",
       "      <td>1106</td>\n",
       "      <td>978</td>\n",
       "    </tr>\n",
       "    <tr>\n",
       "      <th>11</th>\n",
       "      <td>lift_bytes/\"min:SUB_AL_IMMb\"</td>\n",
       "      <td>3470384265</td>\n",
       "      <td>233964000</td>\n",
       "      <td>0</td>\n",
       "      <td>3</td>\n",
       "      <td>4</td>\n",
       "      <td>0</td>\n",
       "      <td>128</td>\n",
       "      <td>0</td>\n",
       "      <td>0</td>\n",
       "      <td>...</td>\n",
       "      <td>1</td>\n",
       "      <td>0</td>\n",
       "      <td>0</td>\n",
       "      <td>1</td>\n",
       "      <td>8236</td>\n",
       "      <td>1447</td>\n",
       "      <td>0</td>\n",
       "      <td>51</td>\n",
       "      <td>743</td>\n",
       "      <td>590</td>\n",
       "    </tr>\n",
       "    <tr>\n",
       "      <th>12</th>\n",
       "      <td>lift_bytes/\"min:SUB_GPRv_MEMv_32\"</td>\n",
       "      <td>5766718341</td>\n",
       "      <td>217029999</td>\n",
       "      <td>0</td>\n",
       "      <td>6</td>\n",
       "      <td>4</td>\n",
       "      <td>0</td>\n",
       "      <td>179</td>\n",
       "      <td>0</td>\n",
       "      <td>0</td>\n",
       "      <td>...</td>\n",
       "      <td>1</td>\n",
       "      <td>0</td>\n",
       "      <td>0</td>\n",
       "      <td>1</td>\n",
       "      <td>12798</td>\n",
       "      <td>3514</td>\n",
       "      <td>736</td>\n",
       "      <td>168</td>\n",
       "      <td>1117</td>\n",
       "      <td>982</td>\n",
       "    </tr>\n",
       "    <tr>\n",
       "      <th>13</th>\n",
       "      <td>lift_bytes/\"min:XOR_GPR8_GPR8_32\"</td>\n",
       "      <td>3972320006</td>\n",
       "      <td>214405000</td>\n",
       "      <td>0</td>\n",
       "      <td>2</td>\n",
       "      <td>2</td>\n",
       "      <td>0</td>\n",
       "      <td>175</td>\n",
       "      <td>0</td>\n",
       "      <td>0</td>\n",
       "      <td>...</td>\n",
       "      <td>0</td>\n",
       "      <td>0</td>\n",
       "      <td>0</td>\n",
       "      <td>1</td>\n",
       "      <td>8999</td>\n",
       "      <td>2148</td>\n",
       "      <td>592</td>\n",
       "      <td>73</td>\n",
       "      <td>814</td>\n",
       "      <td>624</td>\n",
       "    </tr>\n",
       "    <tr>\n",
       "      <th>14</th>\n",
       "      <td>lift_bytes/\"min:XOR_GPRv_IMMz_32\"</td>\n",
       "      <td>4150723434</td>\n",
       "      <td>206106000</td>\n",
       "      <td>0</td>\n",
       "      <td>2</td>\n",
       "      <td>0</td>\n",
       "      <td>0</td>\n",
       "      <td>142</td>\n",
       "      <td>0</td>\n",
       "      <td>0</td>\n",
       "      <td>...</td>\n",
       "      <td>0</td>\n",
       "      <td>0</td>\n",
       "      <td>0</td>\n",
       "      <td>1</td>\n",
       "      <td>9025</td>\n",
       "      <td>2134</td>\n",
       "      <td>448</td>\n",
       "      <td>87</td>\n",
       "      <td>812</td>\n",
       "      <td>694</td>\n",
       "    </tr>\n",
       "    <tr>\n",
       "      <th>15</th>\n",
       "      <td>lift_bytes/\"min:XOR_OrAX_IMMz_32\"</td>\n",
       "      <td>3352511255</td>\n",
       "      <td>211425999</td>\n",
       "      <td>0</td>\n",
       "      <td>2</td>\n",
       "      <td>0</td>\n",
       "      <td>0</td>\n",
       "      <td>104</td>\n",
       "      <td>0</td>\n",
       "      <td>0</td>\n",
       "      <td>...</td>\n",
       "      <td>0</td>\n",
       "      <td>0</td>\n",
       "      <td>0</td>\n",
       "      <td>1</td>\n",
       "      <td>8328</td>\n",
       "      <td>1561</td>\n",
       "      <td>0</td>\n",
       "      <td>67</td>\n",
       "      <td>749</td>\n",
       "      <td>656</td>\n",
       "    </tr>\n",
       "    <tr>\n",
       "      <th>16</th>\n",
       "      <td>lift_bytes/\"min:DIV_GPRv_32\"</td>\n",
       "      <td>1697890807200</td>\n",
       "      <td>211536999</td>\n",
       "      <td>0</td>\n",
       "      <td>2</td>\n",
       "      <td>0</td>\n",
       "      <td>0</td>\n",
       "      <td>168</td>\n",
       "      <td>0</td>\n",
       "      <td>0</td>\n",
       "      <td>...</td>\n",
       "      <td>0</td>\n",
       "      <td>1</td>\n",
       "      <td>1</td>\n",
       "      <td>0</td>\n",
       "      <td>104858</td>\n",
       "      <td>33932</td>\n",
       "      <td>4083</td>\n",
       "      <td>2497</td>\n",
       "      <td>8354</td>\n",
       "      <td>6034</td>\n",
       "    </tr>\n",
       "    <tr>\n",
       "      <th>17</th>\n",
       "      <td>lift_bytes/\"min:DIV_MEMv_32\"</td>\n",
       "      <td>1879085828661</td>\n",
       "      <td>317274999</td>\n",
       "      <td>0</td>\n",
       "      <td>5</td>\n",
       "      <td>0</td>\n",
       "      <td>0</td>\n",
       "      <td>188</td>\n",
       "      <td>0</td>\n",
       "      <td>0</td>\n",
       "      <td>...</td>\n",
       "      <td>0</td>\n",
       "      <td>1</td>\n",
       "      <td>1</td>\n",
       "      <td>0</td>\n",
       "      <td>107130</td>\n",
       "      <td>34727</td>\n",
       "      <td>4275</td>\n",
       "      <td>2509</td>\n",
       "      <td>8543</td>\n",
       "      <td>6243</td>\n",
       "    </tr>\n",
       "    <tr>\n",
       "      <th>18</th>\n",
       "      <td>lift_bytes/\"min:AND_MEMb_GPR8\"</td>\n",
       "      <td>5917813529</td>\n",
       "      <td>225876999</td>\n",
       "      <td>0</td>\n",
       "      <td>8</td>\n",
       "      <td>1</td>\n",
       "      <td>0</td>\n",
       "      <td>161</td>\n",
       "      <td>0</td>\n",
       "      <td>0</td>\n",
       "      <td>...</td>\n",
       "      <td>0</td>\n",
       "      <td>0</td>\n",
       "      <td>0</td>\n",
       "      <td>1</td>\n",
       "      <td>12978</td>\n",
       "      <td>2936</td>\n",
       "      <td>256</td>\n",
       "      <td>73</td>\n",
       "      <td>1140</td>\n",
       "      <td>1029</td>\n",
       "    </tr>\n",
       "    <tr>\n",
       "      <th>19</th>\n",
       "      <td>lift_bytes/\"min:ADD_GPR8_GPR8_02\"</td>\n",
       "      <td>7098012284</td>\n",
       "      <td>302487000</td>\n",
       "      <td>0</td>\n",
       "      <td>4</td>\n",
       "      <td>6</td>\n",
       "      <td>0</td>\n",
       "      <td>193</td>\n",
       "      <td>0</td>\n",
       "      <td>0</td>\n",
       "      <td>...</td>\n",
       "      <td>0</td>\n",
       "      <td>0</td>\n",
       "      <td>0</td>\n",
       "      <td>1</td>\n",
       "      <td>9329</td>\n",
       "      <td>2267</td>\n",
       "      <td>592</td>\n",
       "      <td>89</td>\n",
       "      <td>839</td>\n",
       "      <td>647</td>\n",
       "    </tr>\n",
       "    <tr>\n",
       "      <th>20</th>\n",
       "      <td>lift_bytes/\"min:ADD_MEMb_GPR8\"</td>\n",
       "      <td>10776665935</td>\n",
       "      <td>338534000</td>\n",
       "      <td>0</td>\n",
       "      <td>10</td>\n",
       "      <td>5</td>\n",
       "      <td>0</td>\n",
       "      <td>179</td>\n",
       "      <td>0</td>\n",
       "      <td>0</td>\n",
       "      <td>...</td>\n",
       "      <td>0</td>\n",
       "      <td>0</td>\n",
       "      <td>0</td>\n",
       "      <td>1</td>\n",
       "      <td>14112</td>\n",
       "      <td>3805</td>\n",
       "      <td>832</td>\n",
       "      <td>103</td>\n",
       "      <td>1234</td>\n",
       "      <td>1098</td>\n",
       "    </tr>\n",
       "    <tr>\n",
       "      <th>21</th>\n",
       "      <td>lift_bytes/\"min:IMUL_GPRv_MEMv_IMMz_16\"</td>\n",
       "      <td>6709838215</td>\n",
       "      <td>316558999</td>\n",
       "      <td>1</td>\n",
       "      <td>6</td>\n",
       "      <td>0</td>\n",
       "      <td>1</td>\n",
       "      <td>171</td>\n",
       "      <td>0</td>\n",
       "      <td>0</td>\n",
       "      <td>...</td>\n",
       "      <td>0</td>\n",
       "      <td>0</td>\n",
       "      <td>0</td>\n",
       "      <td>0</td>\n",
       "      <td>10379</td>\n",
       "      <td>2712</td>\n",
       "      <td>752</td>\n",
       "      <td>75</td>\n",
       "      <td>930</td>\n",
       "      <td>806</td>\n",
       "    </tr>\n",
       "    <tr>\n",
       "      <th>22</th>\n",
       "      <td>lift_bytes/\"min:IMUL_GPRv_MEMv_IMMz_32\"</td>\n",
       "      <td>22695714269</td>\n",
       "      <td>267280999</td>\n",
       "      <td>0</td>\n",
       "      <td>6</td>\n",
       "      <td>0</td>\n",
       "      <td>1</td>\n",
       "      <td>167</td>\n",
       "      <td>0</td>\n",
       "      <td>0</td>\n",
       "      <td>...</td>\n",
       "      <td>0</td>\n",
       "      <td>0</td>\n",
       "      <td>0</td>\n",
       "      <td>0</td>\n",
       "      <td>32051</td>\n",
       "      <td>11949</td>\n",
       "      <td>640</td>\n",
       "      <td>143</td>\n",
       "      <td>2492</td>\n",
       "      <td>4035</td>\n",
       "    </tr>\n",
       "    <tr>\n",
       "      <th>23</th>\n",
       "      <td>lift_bytes/\"min:IMUL_MEMb\"</td>\n",
       "      <td>4325943380</td>\n",
       "      <td>225701999</td>\n",
       "      <td>0</td>\n",
       "      <td>6</td>\n",
       "      <td>1</td>\n",
       "      <td>1</td>\n",
       "      <td>141</td>\n",
       "      <td>0</td>\n",
       "      <td>0</td>\n",
       "      <td>...</td>\n",
       "      <td>0</td>\n",
       "      <td>0</td>\n",
       "      <td>0</td>\n",
       "      <td>0</td>\n",
       "      <td>11414</td>\n",
       "      <td>2928</td>\n",
       "      <td>288</td>\n",
       "      <td>73</td>\n",
       "      <td>987</td>\n",
       "      <td>1023</td>\n",
       "    </tr>\n",
       "    <tr>\n",
       "      <th>24</th>\n",
       "      <td>lift_bytes/\"min:MOV_MEMv_GPRv_16\"</td>\n",
       "      <td>3018708335</td>\n",
       "      <td>208153000</td>\n",
       "      <td>0</td>\n",
       "      <td>5</td>\n",
       "      <td>0</td>\n",
       "      <td>0</td>\n",
       "      <td>134</td>\n",
       "      <td>0</td>\n",
       "      <td>0</td>\n",
       "      <td>...</td>\n",
       "      <td>0</td>\n",
       "      <td>0</td>\n",
       "      <td>0</td>\n",
       "      <td>0</td>\n",
       "      <td>9525</td>\n",
       "      <td>1946</td>\n",
       "      <td>224</td>\n",
       "      <td>62</td>\n",
       "      <td>858</td>\n",
       "      <td>715</td>\n",
       "    </tr>\n",
       "    <tr>\n",
       "      <th>25</th>\n",
       "      <td>lift_bytes/\"min:MOV_RAX_RAX\"</td>\n",
       "      <td>5053206199</td>\n",
       "      <td>219265000</td>\n",
       "      <td>0</td>\n",
       "      <td>8</td>\n",
       "      <td>3</td>\n",
       "      <td>0</td>\n",
       "      <td>202</td>\n",
       "      <td>0</td>\n",
       "      <td>0</td>\n",
       "      <td>...</td>\n",
       "      <td>0</td>\n",
       "      <td>0</td>\n",
       "      <td>0</td>\n",
       "      <td>1</td>\n",
       "      <td>12724</td>\n",
       "      <td>3310</td>\n",
       "      <td>832</td>\n",
       "      <td>145</td>\n",
       "      <td>1129</td>\n",
       "      <td>899</td>\n",
       "    </tr>\n",
       "    <tr>\n",
       "      <th>26</th>\n",
       "      <td>lift_bytes/\"min:AND_ONE_CHILD_1\"</td>\n",
       "      <td>1882113691</td>\n",
       "      <td>199053249</td>\n",
       "      <td>0</td>\n",
       "      <td>2</td>\n",
       "      <td>0</td>\n",
       "      <td>0</td>\n",
       "      <td>92</td>\n",
       "      <td>0</td>\n",
       "      <td>0</td>\n",
       "      <td>...</td>\n",
       "      <td>0</td>\n",
       "      <td>0</td>\n",
       "      <td>0</td>\n",
       "      <td>0</td>\n",
       "      <td>7221</td>\n",
       "      <td>1270</td>\n",
       "      <td>0</td>\n",
       "      <td>31</td>\n",
       "      <td>654</td>\n",
       "      <td>558</td>\n",
       "    </tr>\n",
       "    <tr>\n",
       "      <th>27</th>\n",
       "      <td>lift_bytes/\"min:AND_ONE_CHILD_2\"</td>\n",
       "      <td>3334276425</td>\n",
       "      <td>215213000</td>\n",
       "      <td>0</td>\n",
       "      <td>4</td>\n",
       "      <td>3</td>\n",
       "      <td>0</td>\n",
       "      <td>165</td>\n",
       "      <td>0</td>\n",
       "      <td>0</td>\n",
       "      <td>...</td>\n",
       "      <td>0</td>\n",
       "      <td>0</td>\n",
       "      <td>0</td>\n",
       "      <td>1</td>\n",
       "      <td>9796</td>\n",
       "      <td>2299</td>\n",
       "      <td>448</td>\n",
       "      <td>121</td>\n",
       "      <td>873</td>\n",
       "      <td>664</td>\n",
       "    </tr>\n",
       "    <tr>\n",
       "      <th>28</th>\n",
       "      <td>lift_source/\"min:small\"</td>\n",
       "      <td>4151220829</td>\n",
       "      <td>225497000</td>\n",
       "      <td>0</td>\n",
       "      <td>5</td>\n",
       "      <td>6</td>\n",
       "      <td>0</td>\n",
       "      <td>222</td>\n",
       "      <td>0</td>\n",
       "      <td>0</td>\n",
       "      <td>...</td>\n",
       "      <td>0</td>\n",
       "      <td>0</td>\n",
       "      <td>0</td>\n",
       "      <td>1</td>\n",
       "      <td>10305</td>\n",
       "      <td>2481</td>\n",
       "      <td>593</td>\n",
       "      <td>107</td>\n",
       "      <td>922</td>\n",
       "      <td>696</td>\n",
       "    </tr>\n",
       "    <tr>\n",
       "      <th>29</th>\n",
       "      <td>lift_source/\"min:adcs\"</td>\n",
       "      <td>121687992271</td>\n",
       "      <td>1462137000</td>\n",
       "      <td>0</td>\n",
       "      <td>265</td>\n",
       "      <td>30</td>\n",
       "      <td>0</td>\n",
       "      <td>1822</td>\n",
       "      <td>0</td>\n",
       "      <td>0</td>\n",
       "      <td>...</td>\n",
       "      <td>0</td>\n",
       "      <td>0</td>\n",
       "      <td>0</td>\n",
       "      <td>9</td>\n",
       "      <td>141373</td>\n",
       "      <td>50302</td>\n",
       "      <td>10137</td>\n",
       "      <td>807</td>\n",
       "      <td>11411</td>\n",
       "      <td>12095</td>\n",
       "    </tr>\n",
       "    <tr>\n",
       "      <th>30</th>\n",
       "      <td>lift_source/\"min:adds\"</td>\n",
       "      <td>114323581326</td>\n",
       "      <td>1600685000</td>\n",
       "      <td>0</td>\n",
       "      <td>282</td>\n",
       "      <td>28</td>\n",
       "      <td>0</td>\n",
       "      <td>1848</td>\n",
       "      <td>0</td>\n",
       "      <td>0</td>\n",
       "      <td>...</td>\n",
       "      <td>0</td>\n",
       "      <td>0</td>\n",
       "      <td>0</td>\n",
       "      <td>8</td>\n",
       "      <td>147216</td>\n",
       "      <td>51753</td>\n",
       "      <td>10032</td>\n",
       "      <td>720</td>\n",
       "      <td>11894</td>\n",
       "      <td>12725</td>\n",
       "    </tr>\n",
       "    <tr>\n",
       "      <th>31</th>\n",
       "      <td>lift_source/\"min:ands\"</td>\n",
       "      <td>136830245328</td>\n",
       "      <td>1565272000</td>\n",
       "      <td>0</td>\n",
       "      <td>269</td>\n",
       "      <td>3</td>\n",
       "      <td>0</td>\n",
       "      <td>1690</td>\n",
       "      <td>0</td>\n",
       "      <td>0</td>\n",
       "      <td>...</td>\n",
       "      <td>0</td>\n",
       "      <td>0</td>\n",
       "      <td>0</td>\n",
       "      <td>7</td>\n",
       "      <td>148670</td>\n",
       "      <td>51573</td>\n",
       "      <td>9776</td>\n",
       "      <td>595</td>\n",
       "      <td>12029</td>\n",
       "      <td>12822</td>\n",
       "    </tr>\n",
       "    <tr>\n",
       "      <th>32</th>\n",
       "      <td>lift_source/\"min:calls\"</td>\n",
       "      <td>20517263134</td>\n",
       "      <td>462575999</td>\n",
       "      <td>0</td>\n",
       "      <td>69</td>\n",
       "      <td>0</td>\n",
       "      <td>0</td>\n",
       "      <td>449</td>\n",
       "      <td>0</td>\n",
       "      <td>0</td>\n",
       "      <td>...</td>\n",
       "      <td>0</td>\n",
       "      <td>0</td>\n",
       "      <td>0</td>\n",
       "      <td>0</td>\n",
       "      <td>34656</td>\n",
       "      <td>10964</td>\n",
       "      <td>2256</td>\n",
       "      <td>194</td>\n",
       "      <td>2901</td>\n",
       "      <td>2868</td>\n",
       "    </tr>\n",
       "    <tr>\n",
       "      <th>33</th>\n",
       "      <td>lift_source/\"min:cmps\"</td>\n",
       "      <td>100877499377</td>\n",
       "      <td>1272394000</td>\n",
       "      <td>0</td>\n",
       "      <td>178</td>\n",
       "      <td>39</td>\n",
       "      <td>0</td>\n",
       "      <td>1624</td>\n",
       "      <td>0</td>\n",
       "      <td>0</td>\n",
       "      <td>...</td>\n",
       "      <td>12</td>\n",
       "      <td>0</td>\n",
       "      <td>0</td>\n",
       "      <td>12</td>\n",
       "      <td>103576</td>\n",
       "      <td>34307</td>\n",
       "      <td>5568</td>\n",
       "      <td>710</td>\n",
       "      <td>8408</td>\n",
       "      <td>8533</td>\n",
       "    </tr>\n",
       "    <tr>\n",
       "      <th>34</th>\n",
       "      <td>lift_source/\"min:decs\"</td>\n",
       "      <td>129564277258</td>\n",
       "      <td>1981284000</td>\n",
       "      <td>0</td>\n",
       "      <td>178</td>\n",
       "      <td>39</td>\n",
       "      <td>0</td>\n",
       "      <td>1624</td>\n",
       "      <td>0</td>\n",
       "      <td>0</td>\n",
       "      <td>...</td>\n",
       "      <td>12</td>\n",
       "      <td>0</td>\n",
       "      <td>0</td>\n",
       "      <td>12</td>\n",
       "      <td>103582</td>\n",
       "      <td>34313</td>\n",
       "      <td>5568</td>\n",
       "      <td>710</td>\n",
       "      <td>8408</td>\n",
       "      <td>8533</td>\n",
       "    </tr>\n",
       "    <tr>\n",
       "      <th>35</th>\n",
       "      <td>lift_source/\"min:mul-16\"</td>\n",
       "      <td>29767009409</td>\n",
       "      <td>415057000</td>\n",
       "      <td>3</td>\n",
       "      <td>34</td>\n",
       "      <td>2</td>\n",
       "      <td>4</td>\n",
       "      <td>423</td>\n",
       "      <td>0</td>\n",
       "      <td>0</td>\n",
       "      <td>...</td>\n",
       "      <td>0</td>\n",
       "      <td>0</td>\n",
       "      <td>0</td>\n",
       "      <td>0</td>\n",
       "      <td>31056</td>\n",
       "      <td>10411</td>\n",
       "      <td>2080</td>\n",
       "      <td>190</td>\n",
       "      <td>2573</td>\n",
       "      <td>2815</td>\n",
       "    </tr>\n",
       "    <tr>\n",
       "      <th>36</th>\n",
       "      <td>lift_source/\"min:idivs\"</td>\n",
       "      <td>1697236089705</td>\n",
       "      <td>407906999</td>\n",
       "      <td>1</td>\n",
       "      <td>46</td>\n",
       "      <td>2</td>\n",
       "      <td>0</td>\n",
       "      <td>658</td>\n",
       "      <td>4</td>\n",
       "      <td>4</td>\n",
       "      <td>...</td>\n",
       "      <td>0</td>\n",
       "      <td>0</td>\n",
       "      <td>0</td>\n",
       "      <td>0</td>\n",
       "      <td>248185</td>\n",
       "      <td>84396</td>\n",
       "      <td>10762</td>\n",
       "      <td>4706</td>\n",
       "      <td>19519</td>\n",
       "      <td>15933</td>\n",
       "    </tr>\n",
       "    <tr>\n",
       "      <th>37</th>\n",
       "      <td>lift_source/\"min:incs\"</td>\n",
       "      <td>12095755220</td>\n",
       "      <td>411446000</td>\n",
       "      <td>0</td>\n",
       "      <td>108</td>\n",
       "      <td>13</td>\n",
       "      <td>0</td>\n",
       "      <td>754</td>\n",
       "      <td>0</td>\n",
       "      <td>0</td>\n",
       "      <td>...</td>\n",
       "      <td>0</td>\n",
       "      <td>0</td>\n",
       "      <td>0</td>\n",
       "      <td>4</td>\n",
       "      <td>58162</td>\n",
       "      <td>21163</td>\n",
       "      <td>5712</td>\n",
       "      <td>308</td>\n",
       "      <td>4786</td>\n",
       "      <td>4841</td>\n",
       "    </tr>\n",
       "    <tr>\n",
       "      <th>38</th>\n",
       "      <td>lift_source/\"min:jmps\"</td>\n",
       "      <td>6706921217</td>\n",
       "      <td>471927999</td>\n",
       "      <td>0</td>\n",
       "      <td>51</td>\n",
       "      <td>0</td>\n",
       "      <td>0</td>\n",
       "      <td>553</td>\n",
       "      <td>0</td>\n",
       "      <td>0</td>\n",
       "      <td>...</td>\n",
       "      <td>0</td>\n",
       "      <td>0</td>\n",
       "      <td>0</td>\n",
       "      <td>0</td>\n",
       "      <td>37498</td>\n",
       "      <td>11178</td>\n",
       "      <td>1952</td>\n",
       "      <td>185</td>\n",
       "      <td>3148</td>\n",
       "      <td>3023</td>\n",
       "    </tr>\n",
       "    <tr>\n",
       "      <th>39</th>\n",
       "      <td>lift_source/\"min:leas\"</td>\n",
       "      <td>5476814322</td>\n",
       "      <td>419502000</td>\n",
       "      <td>0</td>\n",
       "      <td>59</td>\n",
       "      <td>0</td>\n",
       "      <td>0</td>\n",
       "      <td>543</td>\n",
       "      <td>0</td>\n",
       "      <td>0</td>\n",
       "      <td>...</td>\n",
       "      <td>0</td>\n",
       "      <td>0</td>\n",
       "      <td>0</td>\n",
       "      <td>0</td>\n",
       "      <td>27785</td>\n",
       "      <td>8308</td>\n",
       "      <td>1520</td>\n",
       "      <td>170</td>\n",
       "      <td>2340</td>\n",
       "      <td>2233</td>\n",
       "    </tr>\n",
       "    <tr>\n",
       "      <th>40</th>\n",
       "      <td>lift_source/\"min:movs\"</td>\n",
       "      <td>26725537379</td>\n",
       "      <td>1239498000</td>\n",
       "      <td>0</td>\n",
       "      <td>184</td>\n",
       "      <td>2</td>\n",
       "      <td>0</td>\n",
       "      <td>1511</td>\n",
       "      <td>0</td>\n",
       "      <td>0</td>\n",
       "      <td>...</td>\n",
       "      <td>0</td>\n",
       "      <td>0</td>\n",
       "      <td>0</td>\n",
       "      <td>0</td>\n",
       "      <td>109660</td>\n",
       "      <td>36657</td>\n",
       "      <td>6208</td>\n",
       "      <td>452</td>\n",
       "      <td>8891</td>\n",
       "      <td>9247</td>\n",
       "    </tr>\n",
       "    <tr>\n",
       "      <th>41</th>\n",
       "      <td>lift_source/\"min:ors\"</td>\n",
       "      <td>30126947537</td>\n",
       "      <td>1306410999</td>\n",
       "      <td>0</td>\n",
       "      <td>242</td>\n",
       "      <td>3</td>\n",
       "      <td>0</td>\n",
       "      <td>1641</td>\n",
       "      <td>0</td>\n",
       "      <td>0</td>\n",
       "      <td>...</td>\n",
       "      <td>0</td>\n",
       "      <td>0</td>\n",
       "      <td>0</td>\n",
       "      <td>7</td>\n",
       "      <td>137316</td>\n",
       "      <td>47615</td>\n",
       "      <td>9424</td>\n",
       "      <td>590</td>\n",
       "      <td>11135</td>\n",
       "      <td>11635</td>\n",
       "    </tr>\n",
       "    <tr>\n",
       "      <th>42</th>\n",
       "      <td>lift_source/\"min:stack\"</td>\n",
       "      <td>17511960021</td>\n",
       "      <td>545132999</td>\n",
       "      <td>0</td>\n",
       "      <td>117</td>\n",
       "      <td>12</td>\n",
       "      <td>0</td>\n",
       "      <td>982</td>\n",
       "      <td>0</td>\n",
       "      <td>0</td>\n",
       "      <td>...</td>\n",
       "      <td>0</td>\n",
       "      <td>0</td>\n",
       "      <td>0</td>\n",
       "      <td>0</td>\n",
       "      <td>74972</td>\n",
       "      <td>21413</td>\n",
       "      <td>2784</td>\n",
       "      <td>414</td>\n",
       "      <td>6287</td>\n",
       "      <td>6113</td>\n",
       "    </tr>\n",
       "    <tr>\n",
       "      <th>43</th>\n",
       "      <td>lift_source/\"min:sbbs\"</td>\n",
       "      <td>37737462245</td>\n",
       "      <td>1308342000</td>\n",
       "      <td>0</td>\n",
       "      <td>254</td>\n",
       "      <td>30</td>\n",
       "      <td>0</td>\n",
       "      <td>1773</td>\n",
       "      <td>0</td>\n",
       "      <td>0</td>\n",
       "      <td>...</td>\n",
       "      <td>18</td>\n",
       "      <td>0</td>\n",
       "      <td>0</td>\n",
       "      <td>9</td>\n",
       "      <td>143100</td>\n",
       "      <td>49254</td>\n",
       "      <td>8905</td>\n",
       "      <td>783</td>\n",
       "      <td>11573</td>\n",
       "      <td>12196</td>\n",
       "    </tr>\n",
       "    <tr>\n",
       "      <th>44</th>\n",
       "      <td>lift_source/\"min:subs\"</td>\n",
       "      <td>44827251831</td>\n",
       "      <td>1537603000</td>\n",
       "      <td>0</td>\n",
       "      <td>269</td>\n",
       "      <td>30</td>\n",
       "      <td>0</td>\n",
       "      <td>1827</td>\n",
       "      <td>0</td>\n",
       "      <td>0</td>\n",
       "      <td>...</td>\n",
       "      <td>9</td>\n",
       "      <td>0</td>\n",
       "      <td>0</td>\n",
       "      <td>9</td>\n",
       "      <td>145533</td>\n",
       "      <td>50924</td>\n",
       "      <td>9792</td>\n",
       "      <td>706</td>\n",
       "      <td>11757</td>\n",
       "      <td>12463</td>\n",
       "    </tr>\n",
       "    <tr>\n",
       "      <th>45</th>\n",
       "      <td>lift_source/\"min:tests\"</td>\n",
       "      <td>26988316167</td>\n",
       "      <td>915460000</td>\n",
       "      <td>0</td>\n",
       "      <td>113</td>\n",
       "      <td>2</td>\n",
       "      <td>0</td>\n",
       "      <td>1105</td>\n",
       "      <td>0</td>\n",
       "      <td>0</td>\n",
       "      <td>...</td>\n",
       "      <td>0</td>\n",
       "      <td>0</td>\n",
       "      <td>0</td>\n",
       "      <td>4</td>\n",
       "      <td>70359</td>\n",
       "      <td>22680</td>\n",
       "      <td>3968</td>\n",
       "      <td>411</td>\n",
       "      <td>5772</td>\n",
       "      <td>5662</td>\n",
       "    </tr>\n",
       "    <tr>\n",
       "      <th>46</th>\n",
       "      <td>lift_source/\"min:xchg\"</td>\n",
       "      <td>4388833448</td>\n",
       "      <td>334178000</td>\n",
       "      <td>0</td>\n",
       "      <td>4</td>\n",
       "      <td>0</td>\n",
       "      <td>0</td>\n",
       "      <td>212</td>\n",
       "      <td>0</td>\n",
       "      <td>0</td>\n",
       "      <td>...</td>\n",
       "      <td>0</td>\n",
       "      <td>0</td>\n",
       "      <td>0</td>\n",
       "      <td>0</td>\n",
       "      <td>10175</td>\n",
       "      <td>2754</td>\n",
       "      <td>896</td>\n",
       "      <td>103</td>\n",
       "      <td>915</td>\n",
       "      <td>730</td>\n",
       "    </tr>\n",
       "    <tr>\n",
       "      <th>47</th>\n",
       "      <td>lift_source/\"min:xors\"</td>\n",
       "      <td>63300048614</td>\n",
       "      <td>2337620999</td>\n",
       "      <td>0</td>\n",
       "      <td>253</td>\n",
       "      <td>3</td>\n",
       "      <td>0</td>\n",
       "      <td>1686</td>\n",
       "      <td>0</td>\n",
       "      <td>0</td>\n",
       "      <td>...</td>\n",
       "      <td>0</td>\n",
       "      <td>0</td>\n",
       "      <td>0</td>\n",
       "      <td>7</td>\n",
       "      <td>142188</td>\n",
       "      <td>50115</td>\n",
       "      <td>10160</td>\n",
       "      <td>605</td>\n",
       "      <td>11521</td>\n",
       "      <td>12372</td>\n",
       "    </tr>\n",
       "    <tr>\n",
       "      <th>48</th>\n",
       "      <td>lift_source/\"big:muls\"</td>\n",
       "      <td>163665376974</td>\n",
       "      <td>1533965000</td>\n",
       "      <td>3</td>\n",
       "      <td>183</td>\n",
       "      <td>8</td>\n",
       "      <td>12</td>\n",
       "      <td>1377</td>\n",
       "      <td>0</td>\n",
       "      <td>0</td>\n",
       "      <td>...</td>\n",
       "      <td>0</td>\n",
       "      <td>0</td>\n",
       "      <td>0</td>\n",
       "      <td>0</td>\n",
       "      <td>206210</td>\n",
       "      <td>77143</td>\n",
       "      <td>5296</td>\n",
       "      <td>694</td>\n",
       "      <td>15889</td>\n",
       "      <td>23833</td>\n",
       "    </tr>\n",
       "    <tr>\n",
       "      <th>49</th>\n",
       "      <td>lift_source/\"big:divs\"</td>\n",
       "      <td>3674600314588</td>\n",
       "      <td>569365999</td>\n",
       "      <td>1</td>\n",
       "      <td>67</td>\n",
       "      <td>5</td>\n",
       "      <td>0</td>\n",
       "      <td>1069</td>\n",
       "      <td>4</td>\n",
       "      <td>4</td>\n",
       "      <td>...</td>\n",
       "      <td>0</td>\n",
       "      <td>4</td>\n",
       "      <td>4</td>\n",
       "      <td>0</td>\n",
       "      <td>462942</td>\n",
       "      <td>156021</td>\n",
       "      <td>19290</td>\n",
       "      <td>9845</td>\n",
       "      <td>36442</td>\n",
       "      <td>28364</td>\n",
       "    </tr>\n",
       "    <tr>\n",
       "      <th>50</th>\n",
       "      <td>lift_source/\"big:3d_image_toolkit\"</td>\n",
       "      <td>5012988470257</td>\n",
       "      <td>5070994999</td>\n",
       "      <td>1</td>\n",
       "      <td>261</td>\n",
       "      <td>109</td>\n",
       "      <td>4</td>\n",
       "      <td>3833</td>\n",
       "      <td>2</td>\n",
       "      <td>2</td>\n",
       "      <td>...</td>\n",
       "      <td>23</td>\n",
       "      <td>2</td>\n",
       "      <td>2</td>\n",
       "      <td>55</td>\n",
       "      <td>582988</td>\n",
       "      <td>196349</td>\n",
       "      <td>21667</td>\n",
       "      <td>9585</td>\n",
       "      <td>46106</td>\n",
       "      <td>43169</td>\n",
       "    </tr>\n",
       "    <tr>\n",
       "      <th>51</th>\n",
       "      <td>lift_source/\"big:router_simulator\"</td>\n",
       "      <td>4231064211018</td>\n",
       "      <td>4305878000</td>\n",
       "      <td>1</td>\n",
       "      <td>278</td>\n",
       "      <td>111</td>\n",
       "      <td>3</td>\n",
       "      <td>3891</td>\n",
       "      <td>2</td>\n",
       "      <td>2</td>\n",
       "      <td>...</td>\n",
       "      <td>24</td>\n",
       "      <td>2</td>\n",
       "      <td>2</td>\n",
       "      <td>54</td>\n",
       "      <td>492764</td>\n",
       "      <td>165614</td>\n",
       "      <td>18404</td>\n",
       "      <td>7341</td>\n",
       "      <td>39042</td>\n",
       "      <td>37525</td>\n",
       "    </tr>\n",
       "    <tr>\n",
       "      <th>52</th>\n",
       "      <td>lift_source/\"big:lan_simulator\"</td>\n",
       "      <td>5099558589626</td>\n",
       "      <td>5728009999</td>\n",
       "      <td>3</td>\n",
       "      <td>303</td>\n",
       "      <td>122</td>\n",
       "      <td>5</td>\n",
       "      <td>4461</td>\n",
       "      <td>3</td>\n",
       "      <td>3</td>\n",
       "      <td>...</td>\n",
       "      <td>25</td>\n",
       "      <td>2</td>\n",
       "      <td>2</td>\n",
       "      <td>59</td>\n",
       "      <td>597575</td>\n",
       "      <td>200890</td>\n",
       "      <td>22551</td>\n",
       "      <td>9718</td>\n",
       "      <td>47260</td>\n",
       "      <td>43646</td>\n",
       "    </tr>\n",
       "    <tr>\n",
       "      <th>53</th>\n",
       "      <td>lift_source/\"big:tiny86\"</td>\n",
       "      <td>7045670742461</td>\n",
       "      <td>78307331000</td>\n",
       "      <td>5</td>\n",
       "      <td>951</td>\n",
       "      <td>176</td>\n",
       "      <td>12</td>\n",
       "      <td>11894</td>\n",
       "      <td>4</td>\n",
       "      <td>4</td>\n",
       "      <td>...</td>\n",
       "      <td>37</td>\n",
       "      <td>4</td>\n",
       "      <td>4</td>\n",
       "      <td>85</td>\n",
       "      <td>1112297</td>\n",
       "      <td>373454</td>\n",
       "      <td>34524</td>\n",
       "      <td>13685</td>\n",
       "      <td>87229</td>\n",
       "      <td>85238</td>\n",
       "    </tr>\n",
       "  </tbody>\n",
       "</table>\n",
       "<p>54 rows × 21 columns</p>\n",
       "</div>"
      ],
      "text/plain": [
       "                                       name      real_time     cpu_time  AShr  \\\n",
       "0              lift_bytes/\"min:AND_AL_IMMb\"     2972073580    195898000     0   \n",
       "1         lift_bytes/\"min:LEA_GPRv_AGEN_32\"     3487134498    189459000     0   \n",
       "2                    lift_bytes/\"min:LODSB\"     2668726298    189224249     0   \n",
       "3                    lift_bytes/\"min:LODSB\"     2544468480    180706999     0   \n",
       "4              lift_bytes/\"min:LOOP_RELBRb\"     3000810256    185864000     0   \n",
       "5                    lift_bytes/\"min:MOVSB\"     3295159685    186351000     0   \n",
       "6         lift_bytes/\"min:MOV_GPR8_GPR8_8A\"     3089338554    195559000     0   \n",
       "7          lift_bytes/\"min:OR_GPRv_IMMz_32\"     3321818430    204426999     0   \n",
       "8                 lift_bytes/\"min:POPAD_32\"     5349704657    196898999     0   \n",
       "9             lift_bytes/\"min:PUSH_IMMz_32\"     2649305024    188547000     0   \n",
       "10            lift_bytes/\"min:PUSH_MEMv_32\"     4769163450    200881000     0   \n",
       "11             lift_bytes/\"min:SUB_AL_IMMb\"     3470384265    233964000     0   \n",
       "12        lift_bytes/\"min:SUB_GPRv_MEMv_32\"     5766718341    217029999     0   \n",
       "13        lift_bytes/\"min:XOR_GPR8_GPR8_32\"     3972320006    214405000     0   \n",
       "14        lift_bytes/\"min:XOR_GPRv_IMMz_32\"     4150723434    206106000     0   \n",
       "15        lift_bytes/\"min:XOR_OrAX_IMMz_32\"     3352511255    211425999     0   \n",
       "16             lift_bytes/\"min:DIV_GPRv_32\"  1697890807200    211536999     0   \n",
       "17             lift_bytes/\"min:DIV_MEMv_32\"  1879085828661    317274999     0   \n",
       "18           lift_bytes/\"min:AND_MEMb_GPR8\"     5917813529    225876999     0   \n",
       "19        lift_bytes/\"min:ADD_GPR8_GPR8_02\"     7098012284    302487000     0   \n",
       "20           lift_bytes/\"min:ADD_MEMb_GPR8\"    10776665935    338534000     0   \n",
       "21  lift_bytes/\"min:IMUL_GPRv_MEMv_IMMz_16\"     6709838215    316558999     1   \n",
       "22  lift_bytes/\"min:IMUL_GPRv_MEMv_IMMz_32\"    22695714269    267280999     0   \n",
       "23               lift_bytes/\"min:IMUL_MEMb\"     4325943380    225701999     0   \n",
       "24        lift_bytes/\"min:MOV_MEMv_GPRv_16\"     3018708335    208153000     0   \n",
       "25             lift_bytes/\"min:MOV_RAX_RAX\"     5053206199    219265000     0   \n",
       "26         lift_bytes/\"min:AND_ONE_CHILD_1\"     1882113691    199053249     0   \n",
       "27         lift_bytes/\"min:AND_ONE_CHILD_2\"     3334276425    215213000     0   \n",
       "28                  lift_source/\"min:small\"     4151220829    225497000     0   \n",
       "29                   lift_source/\"min:adcs\"   121687992271   1462137000     0   \n",
       "30                   lift_source/\"min:adds\"   114323581326   1600685000     0   \n",
       "31                   lift_source/\"min:ands\"   136830245328   1565272000     0   \n",
       "32                  lift_source/\"min:calls\"    20517263134    462575999     0   \n",
       "33                   lift_source/\"min:cmps\"   100877499377   1272394000     0   \n",
       "34                   lift_source/\"min:decs\"   129564277258   1981284000     0   \n",
       "35                 lift_source/\"min:mul-16\"    29767009409    415057000     3   \n",
       "36                  lift_source/\"min:idivs\"  1697236089705    407906999     1   \n",
       "37                   lift_source/\"min:incs\"    12095755220    411446000     0   \n",
       "38                   lift_source/\"min:jmps\"     6706921217    471927999     0   \n",
       "39                   lift_source/\"min:leas\"     5476814322    419502000     0   \n",
       "40                   lift_source/\"min:movs\"    26725537379   1239498000     0   \n",
       "41                    lift_source/\"min:ors\"    30126947537   1306410999     0   \n",
       "42                  lift_source/\"min:stack\"    17511960021    545132999     0   \n",
       "43                   lift_source/\"min:sbbs\"    37737462245   1308342000     0   \n",
       "44                   lift_source/\"min:subs\"    44827251831   1537603000     0   \n",
       "45                  lift_source/\"min:tests\"    26988316167    915460000     0   \n",
       "46                   lift_source/\"min:xchg\"     4388833448    334178000     0   \n",
       "47                   lift_source/\"min:xors\"    63300048614   2337620999     0   \n",
       "48                   lift_source/\"big:muls\"   163665376974   1533965000     3   \n",
       "49                   lift_source/\"big:divs\"  3674600314588    569365999     1   \n",
       "50       lift_source/\"big:3d_image_toolkit\"  5012988470257   5070994999     1   \n",
       "51       lift_source/\"big:router_simulator\"  4231064211018   4305878000     1   \n",
       "52          lift_source/\"big:lan_simulator\"  5099558589626   5728009999     3   \n",
       "53                 lift_source/\"big:tiny86\"  7045670742461  78307331000     5   \n",
       "\n",
       "    Add  LShr  Mul  Nodes  SDiv  SRem  ...  Sub  UDiv  URem  pop_count  \\\n",
       "0     2     0    0    110     0     0  ...    0     0     0          1   \n",
       "1     5     0    0    155     0     0  ...    0     0     0          0   \n",
       "2     2     0    0    110     0     0  ...    0     0     0          1   \n",
       "3     4     0    0    107     0     0  ...    0     0     0          0   \n",
       "4     7     0    0    111     0     0  ...    0     0     0          0   \n",
       "5     6     0    0    107     0     0  ...    0     0     0          0   \n",
       "6     2     1    0    156     0     0  ...    0     0     0          0   \n",
       "7     2     0    0    142     0     0  ...    0     0     0          1   \n",
       "8    15     0    0    127     0     0  ...    0     0     0          0   \n",
       "9     4     0    0    102     0     0  ...    0     0     0          0   \n",
       "10    7     0    0    128     0     0  ...    0     0     0          0   \n",
       "11    3     4    0    128     0     0  ...    1     0     0          1   \n",
       "12    6     4    0    179     0     0  ...    1     0     0          1   \n",
       "13    2     2    0    175     0     0  ...    0     0     0          1   \n",
       "14    2     0    0    142     0     0  ...    0     0     0          1   \n",
       "15    2     0    0    104     0     0  ...    0     0     0          1   \n",
       "16    2     0    0    168     0     0  ...    0     1     1          0   \n",
       "17    5     0    0    188     0     0  ...    0     1     1          0   \n",
       "18    8     1    0    161     0     0  ...    0     0     0          1   \n",
       "19    4     6    0    193     0     0  ...    0     0     0          1   \n",
       "20   10     5    0    179     0     0  ...    0     0     0          1   \n",
       "21    6     0    1    171     0     0  ...    0     0     0          0   \n",
       "22    6     0    1    167     0     0  ...    0     0     0          0   \n",
       "23    6     1    1    141     0     0  ...    0     0     0          0   \n",
       "24    5     0    0    134     0     0  ...    0     0     0          0   \n",
       "25    8     3    0    202     0     0  ...    0     0     0          1   \n",
       "26    2     0    0     92     0     0  ...    0     0     0          0   \n",
       "27    4     3    0    165     0     0  ...    0     0     0          1   \n",
       "28    5     6    0    222     0     0  ...    0     0     0          1   \n",
       "29  265    30    0   1822     0     0  ...    0     0     0          9   \n",
       "30  282    28    0   1848     0     0  ...    0     0     0          8   \n",
       "31  269     3    0   1690     0     0  ...    0     0     0          7   \n",
       "32   69     0    0    449     0     0  ...    0     0     0          0   \n",
       "33  178    39    0   1624     0     0  ...   12     0     0         12   \n",
       "34  178    39    0   1624     0     0  ...   12     0     0         12   \n",
       "35   34     2    4    423     0     0  ...    0     0     0          0   \n",
       "36   46     2    0    658     4     4  ...    0     0     0          0   \n",
       "37  108    13    0    754     0     0  ...    0     0     0          4   \n",
       "38   51     0    0    553     0     0  ...    0     0     0          0   \n",
       "39   59     0    0    543     0     0  ...    0     0     0          0   \n",
       "40  184     2    0   1511     0     0  ...    0     0     0          0   \n",
       "41  242     3    0   1641     0     0  ...    0     0     0          7   \n",
       "42  117    12    0    982     0     0  ...    0     0     0          0   \n",
       "43  254    30    0   1773     0     0  ...   18     0     0          9   \n",
       "44  269    30    0   1827     0     0  ...    9     0     0          9   \n",
       "45  113     2    0   1105     0     0  ...    0     0     0          4   \n",
       "46    4     0    0    212     0     0  ...    0     0     0          0   \n",
       "47  253     3    0   1686     0     0  ...    0     0     0          7   \n",
       "48  183     8   12   1377     0     0  ...    0     0     0          0   \n",
       "49   67     5    0   1069     4     4  ...    0     4     4          0   \n",
       "50  261   109    4   3833     2     2  ...   23     2     2         55   \n",
       "51  278   111    3   3891     2     2  ...   24     2     2         54   \n",
       "52  303   122    5   4461     3     3  ...   25     2     2         59   \n",
       "53  951   176   12  11894     4     4  ...   37     4     4         85   \n",
       "\n",
       "      V:AND  V:CELLS  V:MUX  V:NOT   V:OR  V:XOR  \n",
       "0      8089     1393      0     40    731    574  \n",
       "1      9342     2628    736     61    827    759  \n",
       "2      8089     1393      0     40    731    574  \n",
       "3      9902     1934      0     41    878    771  \n",
       "4      9169     1799     32     67    817    701  \n",
       "5     12672     2629      0     49   1110   1008  \n",
       "6      8293     1973    528     57    751    605  \n",
       "7      9377     2133    448     86    844    662  \n",
       "8     16382     3163      0     95   1467   1356  \n",
       "9     10028     1993      0     71    892    814  \n",
       "10    12497     2930    416     99   1106    978  \n",
       "11     8236     1447      0     51    743    590  \n",
       "12    12798     3514    736    168   1117    982  \n",
       "13     8999     2148    592     73    814    624  \n",
       "14     9025     2134    448     87    812    694  \n",
       "15     8328     1561      0     67    749    656  \n",
       "16   104858    33932   4083   2497   8354   6034  \n",
       "17   107130    34727   4275   2509   8543   6243  \n",
       "18    12978     2936    256     73   1140   1029  \n",
       "19     9329     2267    592     89    839    647  \n",
       "20    14112     3805    832    103   1234   1098  \n",
       "21    10379     2712    752     75    930    806  \n",
       "22    32051    11949    640    143   2492   4035  \n",
       "23    11414     2928    288     73    987   1023  \n",
       "24     9525     1946    224     62    858    715  \n",
       "25    12724     3310    832    145   1129    899  \n",
       "26     7221     1270      0     31    654    558  \n",
       "27     9796     2299    448    121    873    664  \n",
       "28    10305     2481    593    107    922    696  \n",
       "29   141373    50302  10137    807  11411  12095  \n",
       "30   147216    51753  10032    720  11894  12725  \n",
       "31   148670    51573   9776    595  12029  12822  \n",
       "32    34656    10964   2256    194   2901   2868  \n",
       "33   103576    34307   5568    710   8408   8533  \n",
       "34   103582    34313   5568    710   8408   8533  \n",
       "35    31056    10411   2080    190   2573   2815  \n",
       "36   248185    84396  10762   4706  19519  15933  \n",
       "37    58162    21163   5712    308   4786   4841  \n",
       "38    37498    11178   1952    185   3148   3023  \n",
       "39    27785     8308   1520    170   2340   2233  \n",
       "40   109660    36657   6208    452   8891   9247  \n",
       "41   137316    47615   9424    590  11135  11635  \n",
       "42    74972    21413   2784    414   6287   6113  \n",
       "43   143100    49254   8905    783  11573  12196  \n",
       "44   145533    50924   9792    706  11757  12463  \n",
       "45    70359    22680   3968    411   5772   5662  \n",
       "46    10175     2754    896    103    915    730  \n",
       "47   142188    50115  10160    605  11521  12372  \n",
       "48   206210    77143   5296    694  15889  23833  \n",
       "49   462942   156021  19290   9845  36442  28364  \n",
       "50   582988   196349  21667   9585  46106  43169  \n",
       "51   492764   165614  18404   7341  39042  37525  \n",
       "52   597575   200890  22551   9718  47260  43646  \n",
       "53  1112297   373454  34524  13685  87229  85238  \n",
       "\n",
       "[54 rows x 21 columns]"
      ]
     },
     "execution_count": 166,
     "metadata": {},
     "output_type": "execute_result"
    }
   ],
   "source": [
    "noopt"
   ]
  },
  {
   "cell_type": "code",
   "execution_count": 167,
   "id": "a14fb8bf",
   "metadata": {},
   "outputs": [
    {
     "data": {
      "text/html": [
       "<div>\n",
       "<style scoped>\n",
       "    .dataframe tbody tr th:only-of-type {\n",
       "        vertical-align: middle;\n",
       "    }\n",
       "\n",
       "    .dataframe tbody tr th {\n",
       "        vertical-align: top;\n",
       "    }\n",
       "\n",
       "    .dataframe thead th {\n",
       "        text-align: right;\n",
       "    }\n",
       "</style>\n",
       "<table border=\"1\" class=\"dataframe\">\n",
       "  <thead>\n",
       "    <tr style=\"text-align: right;\">\n",
       "      <th></th>\n",
       "      <th>name</th>\n",
       "      <th>V:CELLS-new</th>\n",
       "      <th>V:CELLS-opt</th>\n",
       "    </tr>\n",
       "  </thead>\n",
       "  <tbody>\n",
       "    <tr>\n",
       "      <th>30</th>\n",
       "      <td>lift_source/\"min:small\"</td>\n",
       "      <td>2481</td>\n",
       "      <td>2486</td>\n",
       "    </tr>\n",
       "    <tr>\n",
       "      <th>31</th>\n",
       "      <td>lift_source/\"min:adcs\"</td>\n",
       "      <td>50302</td>\n",
       "      <td>51889</td>\n",
       "    </tr>\n",
       "    <tr>\n",
       "      <th>32</th>\n",
       "      <td>lift_source/\"min:adds\"</td>\n",
       "      <td>51753</td>\n",
       "      <td>53575</td>\n",
       "    </tr>\n",
       "    <tr>\n",
       "      <th>33</th>\n",
       "      <td>lift_source/\"min:ands\"</td>\n",
       "      <td>51573</td>\n",
       "      <td>53281</td>\n",
       "    </tr>\n",
       "    <tr>\n",
       "      <th>34</th>\n",
       "      <td>lift_source/\"min:calls\"</td>\n",
       "      <td>10964</td>\n",
       "      <td>11083</td>\n",
       "    </tr>\n",
       "    <tr>\n",
       "      <th>35</th>\n",
       "      <td>lift_source/\"min:cmps\"</td>\n",
       "      <td>34307</td>\n",
       "      <td>35379</td>\n",
       "    </tr>\n",
       "    <tr>\n",
       "      <th>36</th>\n",
       "      <td>lift_source/\"min:decs\"</td>\n",
       "      <td>34313</td>\n",
       "      <td>35376</td>\n",
       "    </tr>\n",
       "    <tr>\n",
       "      <th>37</th>\n",
       "      <td>lift_source/\"min:mul-16\"</td>\n",
       "      <td>10411</td>\n",
       "      <td>11076</td>\n",
       "    </tr>\n",
       "    <tr>\n",
       "      <th>38</th>\n",
       "      <td>lift_source/\"min:idivs\"</td>\n",
       "      <td>84396</td>\n",
       "      <td>77766</td>\n",
       "    </tr>\n",
       "    <tr>\n",
       "      <th>39</th>\n",
       "      <td>lift_source/\"min:incs\"</td>\n",
       "      <td>21163</td>\n",
       "      <td>21535</td>\n",
       "    </tr>\n",
       "    <tr>\n",
       "      <th>40</th>\n",
       "      <td>lift_source/\"min:jmps\"</td>\n",
       "      <td>11178</td>\n",
       "      <td>11755</td>\n",
       "    </tr>\n",
       "    <tr>\n",
       "      <th>41</th>\n",
       "      <td>lift_source/\"min:leas\"</td>\n",
       "      <td>8308</td>\n",
       "      <td>8455</td>\n",
       "    </tr>\n",
       "    <tr>\n",
       "      <th>42</th>\n",
       "      <td>lift_source/\"min:movs\"</td>\n",
       "      <td>36657</td>\n",
       "      <td>38073</td>\n",
       "    </tr>\n",
       "    <tr>\n",
       "      <th>43</th>\n",
       "      <td>lift_source/\"min:ors\"</td>\n",
       "      <td>47615</td>\n",
       "      <td>49310</td>\n",
       "    </tr>\n",
       "    <tr>\n",
       "      <th>44</th>\n",
       "      <td>lift_source/\"min:stack\"</td>\n",
       "      <td>21413</td>\n",
       "      <td>21956</td>\n",
       "    </tr>\n",
       "    <tr>\n",
       "      <th>45</th>\n",
       "      <td>lift_source/\"min:sbbs\"</td>\n",
       "      <td>49254</td>\n",
       "      <td>50777</td>\n",
       "    </tr>\n",
       "    <tr>\n",
       "      <th>46</th>\n",
       "      <td>lift_source/\"min:subs\"</td>\n",
       "      <td>50924</td>\n",
       "      <td>52676</td>\n",
       "    </tr>\n",
       "    <tr>\n",
       "      <th>47</th>\n",
       "      <td>lift_source/\"min:tests\"</td>\n",
       "      <td>22680</td>\n",
       "      <td>23528</td>\n",
       "    </tr>\n",
       "    <tr>\n",
       "      <th>48</th>\n",
       "      <td>lift_source/\"min:xchg\"</td>\n",
       "      <td>2754</td>\n",
       "      <td>2754</td>\n",
       "    </tr>\n",
       "    <tr>\n",
       "      <th>49</th>\n",
       "      <td>lift_source/\"min:xors\"</td>\n",
       "      <td>50115</td>\n",
       "      <td>51949</td>\n",
       "    </tr>\n",
       "    <tr>\n",
       "      <th>50</th>\n",
       "      <td>lift_source/\"big:muls\"</td>\n",
       "      <td>77143</td>\n",
       "      <td>47423</td>\n",
       "    </tr>\n",
       "    <tr>\n",
       "      <th>51</th>\n",
       "      <td>lift_source/\"big:divs\"</td>\n",
       "      <td>156021</td>\n",
       "      <td>147085</td>\n",
       "    </tr>\n",
       "    <tr>\n",
       "      <th>52</th>\n",
       "      <td>lift_source/\"big:3d_image_toolkit\"</td>\n",
       "      <td>196349</td>\n",
       "      <td>142246</td>\n",
       "    </tr>\n",
       "    <tr>\n",
       "      <th>53</th>\n",
       "      <td>lift_source/\"big:router_simulator\"</td>\n",
       "      <td>165614</td>\n",
       "      <td>176898</td>\n",
       "    </tr>\n",
       "    <tr>\n",
       "      <th>54</th>\n",
       "      <td>lift_source/\"big:lan_simulator\"</td>\n",
       "      <td>200890</td>\n",
       "      <td>153098</td>\n",
       "    </tr>\n",
       "    <tr>\n",
       "      <th>55</th>\n",
       "      <td>lift_source/\"big:tiny86\"</td>\n",
       "      <td>373454</td>\n",
       "      <td>361154</td>\n",
       "    </tr>\n",
       "  </tbody>\n",
       "</table>\n",
       "</div>"
      ],
      "text/plain": [
       "                                  name  V:CELLS-new  V:CELLS-opt\n",
       "30             lift_source/\"min:small\"         2481         2486\n",
       "31              lift_source/\"min:adcs\"        50302        51889\n",
       "32              lift_source/\"min:adds\"        51753        53575\n",
       "33              lift_source/\"min:ands\"        51573        53281\n",
       "34             lift_source/\"min:calls\"        10964        11083\n",
       "35              lift_source/\"min:cmps\"        34307        35379\n",
       "36              lift_source/\"min:decs\"        34313        35376\n",
       "37            lift_source/\"min:mul-16\"        10411        11076\n",
       "38             lift_source/\"min:idivs\"        84396        77766\n",
       "39              lift_source/\"min:incs\"        21163        21535\n",
       "40              lift_source/\"min:jmps\"        11178        11755\n",
       "41              lift_source/\"min:leas\"         8308         8455\n",
       "42              lift_source/\"min:movs\"        36657        38073\n",
       "43               lift_source/\"min:ors\"        47615        49310\n",
       "44             lift_source/\"min:stack\"        21413        21956\n",
       "45              lift_source/\"min:sbbs\"        49254        50777\n",
       "46              lift_source/\"min:subs\"        50924        52676\n",
       "47             lift_source/\"min:tests\"        22680        23528\n",
       "48              lift_source/\"min:xchg\"         2754         2754\n",
       "49              lift_source/\"min:xors\"        50115        51949\n",
       "50              lift_source/\"big:muls\"        77143        47423\n",
       "51              lift_source/\"big:divs\"       156021       147085\n",
       "52  lift_source/\"big:3d_image_toolkit\"       196349       142246\n",
       "53  lift_source/\"big:router_simulator\"       165614       176898\n",
       "54     lift_source/\"big:lan_simulator\"       200890       153098\n",
       "55            lift_source/\"big:tiny86\"       373454       361154"
      ]
     },
     "execution_count": 167,
     "metadata": {},
     "output_type": "execute_result"
    }
   ],
   "source": [
    "df = compare(noopt, \"new\", sim_conmul_mux_llvm_eqsat, \"opt\", [\"V:CELLS\"])\n",
    "df[df['name'].str.startswith(\"lift_source\")]"
   ]
  },
  {
   "cell_type": "code",
   "execution_count": null,
   "id": "d27a5bd1",
   "metadata": {},
   "outputs": [],
   "source": []
  }
 ],
 "metadata": {
  "kernelspec": {
   "display_name": "Python 3 (ipykernel)",
   "language": "python",
   "name": "python3"
  },
  "language_info": {
   "codemirror_mode": {
    "name": "ipython",
    "version": 3
   },
   "file_extension": ".py",
   "mimetype": "text/x-python",
   "name": "python",
   "nbconvert_exporter": "python",
   "pygments_lexer": "ipython3",
   "version": "3.9.4"
  }
 },
 "nbformat": 4,
 "nbformat_minor": 5
}
